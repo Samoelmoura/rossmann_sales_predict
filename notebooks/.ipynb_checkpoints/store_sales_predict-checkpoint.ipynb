{
 "cells": [
  {
   "cell_type": "markdown",
   "id": "ee26cf2f",
   "metadata": {
    "ExecuteTime": {
     "end_time": "2022-02-22T17:35:18.052468Z",
     "start_time": "2022-02-22T17:35:14.947090Z"
    },
    "heading_collapsed": true
   },
   "source": [
    "# 0.0 Imports"
   ]
  },
  {
   "cell_type": "code",
   "execution_count": 1,
   "id": "ff551761",
   "metadata": {
    "ExecuteTime": {
     "end_time": "2022-07-17T14:36:15.994097Z",
     "start_time": "2022-07-17T14:36:13.853549Z"
    },
    "hidden": true,
    "hide_input": false
   },
   "outputs": [],
   "source": [
    "import matplotlib.pyplot as plt\n",
    "import numpy as np\n",
    "import pandas as pd\n",
    "import seaborn as sns\n",
    "\n",
    "import pickle\n",
    "\n",
    "from IPython.display import Image\n",
    "import datetime\n",
    "\n",
    "from sklearn.preprocessing import RobustScaler, StandardScaler, MinMaxScaler\n",
    "from sklearn.ensemble import RandomForestRegressor\n",
    "from sklearn.metrics import mean_squared_error\n",
    "from sklearn.linear_model import LinearRegression, Lasso\n",
    "from xgboost import XGBRegressor\n",
    "from sklearn.feature_selection import RFE\n",
    "\n",
    "from scipy.stats import chi2_contingency\n",
    "\n",
    "from boruta import BorutaPy\n",
    "\n",
    "import requests\n",
    "\n",
    "import inflection\n",
    "\n",
    "import time\n",
    "\n",
    "# Tempo de processamento\n",
    "time_agora = time.time()"
   ]
  },
  {
   "cell_type": "markdown",
   "id": "7c8adfc4",
   "metadata": {
    "ExecuteTime": {
     "end_time": "2022-02-22T17:35:18.052468Z",
     "start_time": "2022-02-22T17:35:14.947090Z"
    },
    "heading_collapsed": true,
    "hidden": true
   },
   "source": [
    "## 0.1 Helper Functions"
   ]
  },
  {
   "cell_type": "code",
   "execution_count": 2,
   "id": "63996e13",
   "metadata": {
    "ExecuteTime": {
     "end_time": "2022-07-17T14:36:16.037232Z",
     "start_time": "2022-07-17T14:36:15.994097Z"
    },
    "hidden": true,
    "hide_input": false
   },
   "outputs": [],
   "source": [
    "# outliers by Tukey method\n",
    "def search_outliers(df, series):\n",
    "    first_quantile = np.quantile(df[series], 0.25)\n",
    "    third_quantile = np.quantile(df[series], 0.75)\n",
    "    distance = (third_quantile - first_quantile) * 1.5\n",
    "    inf_limit = first_quantile - distance\n",
    "    sup_limit = third_quantile + distance\n",
    "    index_outliers = df.loc[(df[series]<inf_limit)|(df[series]>sup_limit)].index\n",
    "    return index_outliers, inf_limit, sup_limit\n",
    "\n",
    "\n",
    "# correlations between categorical attributes by Pearson method\n",
    "def cramer_v(x, y):\n",
    "    cm = pd.crosstab(x, y).values\n",
    "    n = cm.sum()\n",
    "    r, k = cm.shape\n",
    "    chi2 = chi2_contingency(cm)[0]\n",
    "    chi2corr = max(0, chi2-(k-1)*(r-1)/(n-1))\n",
    "    kcorr = k-(k-1)**2/(n-1)\n",
    "    rcorr = r-(r-1)**2/(n-1)\n",
    "    return round(np.sqrt((chi2corr/n)/( min(kcorr-1, rcorr-1))), 2)\n",
    "\n",
    "\n",
    "def metrics(y_test, y_hat):\n",
    "    # metrics\n",
    "    mean_absolute_error = np.mean(np.abs(np.expm1(y_test) - np.expm1(y_hat))) # mean absolute error\n",
    "    mean_absolute_percentage_error = np.mean(mean_absolute_error / np.expm1(y_test)) # mean absolute percentage error\n",
    "\n",
    "    print(f\"MAE: {mean_absolute_error}\")\n",
    "    print(f\"MAPE: {mean_absolute_percentage_error}\")\n",
    "    print(f\"RMSE: {np.sqrt(mean_squared_error(np.expm1(y_test), np.expm1(y_hat)))}\")\n",
    "    \n",
    "\n",
    "# outliers by Tukey method\n",
    "def search_outliers(df, series):\n",
    "    first_quantile = np.quantile(df[series], 0.25)\n",
    "    third_quantile = np.quantile(df[series], 0.75)\n",
    "    distance = (third_quantile - first_quantile) * 1.5\n",
    "    inf_limit = first_quantile - distance\n",
    "    sup_limit = third_quantile + distance\n",
    "    index_outliers = df.loc[(df[series]<inf_limit)|(df[series]>sup_limit)].index\n",
    "    return index_outliers, inf_limit, sup_limit\n",
    "\n",
    "\n",
    "# correlations between categorical attributes by Pearson method\n",
    "def cramer_v(x, y):\n",
    "    cm = pd.crosstab(x, y).values\n",
    "    n = cm.sum()\n",
    "    r, k = cm.shape\n",
    "    chi2 = chi2_contingency(cm)[0]\n",
    "    chi2corr = max(0, chi2-(k-1)*(r-1)/(n-1))\n",
    "    kcorr = k-(k-1)**2/(n-1)\n",
    "    rcorr = r-(r-1)**2/(n-1)\n",
    "    return round(np.sqrt((chi2corr/n)/( min(kcorr-1, rcorr-1))), 2)\n",
    "\n",
    "\n",
    "def metrics(y_test, y_hat):\n",
    "    # metrics\n",
    "    mean_absolute_error = np.mean(np.abs(np.expm1(y_test) - np.expm1(y_hat))) # mean absolute error\n",
    "    mean_absolute_percentage_error = np.mean(mean_absolute_error / np.expm1(y_test)) # mean absolute percentage error\n",
    "\n",
    "    print(f\"MAE: {mean_absolute_error}\")\n",
    "    print(f\"MAPE: {mean_absolute_percentage_error}\")\n",
    "    print(f\"RMSE: {np.sqrt(mean_squared_error(np.expm1(y_test), np.expm1(y_hat)))}\")\n",
    "    \n",
    "\n",
    "def cross_validation(df, error, kfold, model_name, model):\n",
    "    list_mean_absolute_error, list_mean_absolute_percentage_error, list_root_mean_squared_error, folds = [], [], [], []\n",
    "    for i in reversed(range(1, kfold+1)):\n",
    "        folds.append(f'Fold: {i}')\n",
    "        validation_start_date = df['date'].max() - pd.Timedelta(6*i, 'w')\n",
    "        validation_end_date = df['date'].max() - pd.Timedelta(6*(i-1), 'w')\n",
    "        \n",
    "        train = df[df['date']<validation_start_date]\n",
    "        validation = df[(df['date']>=validation_start_date)&(df['date']<=validation_end_date)]\n",
    "        \n",
    "        X_train = train.drop(['sales', 'store', 'date'], axis=1)\n",
    "        y_train = train['sales']\n",
    "        \n",
    "        X_val = validation.drop(['sales', 'store', 'date'], axis=1)\n",
    "        y_val = validation['sales']\n",
    "        \n",
    "        # fiting model\n",
    "        model_fit = model.fit(X_train, y_train)\n",
    "\n",
    "        # predicting\n",
    "        y_hat = model_fit.predict(X_val)\n",
    "        \n",
    "        list_mean_absolute_error.append(np.mean(np.abs(np.expm1(y_val) - np.expm1(y_hat))))\n",
    "        list_mean_absolute_percentage_error.append(np.mean(np.abs(np.expm1(y_val) - np.expm1(y_hat)) / np.expm1(y_val)))\n",
    "        list_root_mean_squared_error.append(np.sqrt(mean_squared_error(np.expm1(y_val), np.expm1(y_hat))))\n",
    "        \n",
    "    # mean and std\n",
    "    folds.append('mean_and_std')\n",
    "    list_mean_absolute_error.append(str(round(np.mean(list_mean_absolute_error), 2))+' +/- '+str(round(np.std(list_mean_absolute_error), 2)))\n",
    "    list_mean_absolute_percentage_error.append(str(round(np.mean(list_mean_absolute_percentage_error), 2))+' +/- '+str(round(np.std(list_mean_absolute_percentage_error), 2)))\n",
    "    list_root_mean_squared_error.append(str(round(np.mean(list_root_mean_squared_error), 2))+' +/- '+str(round(np.std(list_root_mean_squared_error), 2)))\n",
    "    # dataframe\n",
    "    cross_validation_metrics = pd.DataFrame([list_mean_absolute_error, list_mean_absolute_percentage_error, list_root_mean_squared_error], index=['MAE', 'MAPE', \"RMSE\"], columns=folds)\n",
    "    error[model_name] = cross_validation_metrics['mean_and_std']\n",
    "    return error, cross_validation_metrics"
   ]
  },
  {
   "cell_type": "markdown",
   "id": "1f7d4ce8",
   "metadata": {
    "ExecuteTime": {
     "end_time": "2022-02-22T17:35:18.052468Z",
     "start_time": "2022-02-22T17:35:14.947090Z"
    },
    "heading_collapsed": true,
    "hidden": true
   },
   "source": [
    "## 0.2 Loading Data"
   ]
  },
  {
   "cell_type": "code",
   "execution_count": 3,
   "id": "d54b2a07",
   "metadata": {
    "ExecuteTime": {
     "end_time": "2022-07-17T14:36:17.189685Z",
     "start_time": "2022-07-17T14:36:16.037232Z"
    },
    "hidden": true,
    "scrolled": true
   },
   "outputs": [
    {
     "data": {
      "text/html": [
       "<div>\n",
       "<style scoped>\n",
       "    .dataframe tbody tr th:only-of-type {\n",
       "        vertical-align: middle;\n",
       "    }\n",
       "\n",
       "    .dataframe tbody tr th {\n",
       "        vertical-align: top;\n",
       "    }\n",
       "\n",
       "    .dataframe thead th {\n",
       "        text-align: right;\n",
       "    }\n",
       "</style>\n",
       "<table border=\"1\" class=\"dataframe\">\n",
       "  <thead>\n",
       "    <tr style=\"text-align: right;\">\n",
       "      <th></th>\n",
       "      <th>Store</th>\n",
       "      <th>DayOfWeek</th>\n",
       "      <th>Date</th>\n",
       "      <th>Sales</th>\n",
       "      <th>Customers</th>\n",
       "      <th>Open</th>\n",
       "      <th>Promo</th>\n",
       "      <th>StateHoliday</th>\n",
       "      <th>SchoolHoliday</th>\n",
       "      <th>StoreType</th>\n",
       "      <th>Assortment</th>\n",
       "      <th>CompetitionDistance</th>\n",
       "      <th>CompetitionOpenSinceMonth</th>\n",
       "      <th>CompetitionOpenSinceYear</th>\n",
       "      <th>Promo2</th>\n",
       "      <th>Promo2SinceWeek</th>\n",
       "      <th>Promo2SinceYear</th>\n",
       "      <th>PromoInterval</th>\n",
       "    </tr>\n",
       "  </thead>\n",
       "  <tbody>\n",
       "    <tr>\n",
       "      <th>453775</th>\n",
       "      <td>756</td>\n",
       "      <td>3</td>\n",
       "      <td>2014-05-21</td>\n",
       "      <td>15659</td>\n",
       "      <td>2209</td>\n",
       "      <td>1</td>\n",
       "      <td>1</td>\n",
       "      <td>0</td>\n",
       "      <td>0</td>\n",
       "      <td>a</td>\n",
       "      <td>c</td>\n",
       "      <td>50.0</td>\n",
       "      <td>NaN</td>\n",
       "      <td>NaN</td>\n",
       "      <td>1</td>\n",
       "      <td>40.0</td>\n",
       "      <td>2011.0</td>\n",
       "      <td>Jan,Apr,Jul,Oct</td>\n",
       "    </tr>\n",
       "    <tr>\n",
       "      <th>201187</th>\n",
       "      <td>488</td>\n",
       "      <td>7</td>\n",
       "      <td>2015-02-01</td>\n",
       "      <td>0</td>\n",
       "      <td>0</td>\n",
       "      <td>0</td>\n",
       "      <td>0</td>\n",
       "      <td>0</td>\n",
       "      <td>0</td>\n",
       "      <td>a</td>\n",
       "      <td>c</td>\n",
       "      <td>2890.0</td>\n",
       "      <td>4.0</td>\n",
       "      <td>2014.0</td>\n",
       "      <td>0</td>\n",
       "      <td>NaN</td>\n",
       "      <td>NaN</td>\n",
       "      <td>NaN</td>\n",
       "    </tr>\n",
       "    <tr>\n",
       "      <th>427752</th>\n",
       "      <td>378</td>\n",
       "      <td>5</td>\n",
       "      <td>2014-06-13</td>\n",
       "      <td>6226</td>\n",
       "      <td>929</td>\n",
       "      <td>1</td>\n",
       "      <td>0</td>\n",
       "      <td>0</td>\n",
       "      <td>0</td>\n",
       "      <td>a</td>\n",
       "      <td>c</td>\n",
       "      <td>2140.0</td>\n",
       "      <td>8.0</td>\n",
       "      <td>2012.0</td>\n",
       "      <td>0</td>\n",
       "      <td>NaN</td>\n",
       "      <td>NaN</td>\n",
       "      <td>NaN</td>\n",
       "    </tr>\n",
       "    <tr>\n",
       "      <th>449766</th>\n",
       "      <td>92</td>\n",
       "      <td>6</td>\n",
       "      <td>2014-05-24</td>\n",
       "      <td>5067</td>\n",
       "      <td>524</td>\n",
       "      <td>1</td>\n",
       "      <td>0</td>\n",
       "      <td>0</td>\n",
       "      <td>0</td>\n",
       "      <td>c</td>\n",
       "      <td>a</td>\n",
       "      <td>240.0</td>\n",
       "      <td>NaN</td>\n",
       "      <td>NaN</td>\n",
       "      <td>1</td>\n",
       "      <td>45.0</td>\n",
       "      <td>2009.0</td>\n",
       "      <td>Feb,May,Aug,Nov</td>\n",
       "    </tr>\n",
       "    <tr>\n",
       "      <th>839838</th>\n",
       "      <td>1029</td>\n",
       "      <td>7</td>\n",
       "      <td>2013-06-09</td>\n",
       "      <td>0</td>\n",
       "      <td>0</td>\n",
       "      <td>0</td>\n",
       "      <td>0</td>\n",
       "      <td>0</td>\n",
       "      <td>0</td>\n",
       "      <td>a</td>\n",
       "      <td>a</td>\n",
       "      <td>1590.0</td>\n",
       "      <td>3.0</td>\n",
       "      <td>2006.0</td>\n",
       "      <td>0</td>\n",
       "      <td>NaN</td>\n",
       "      <td>NaN</td>\n",
       "      <td>NaN</td>\n",
       "    </tr>\n",
       "  </tbody>\n",
       "</table>\n",
       "</div>"
      ],
      "text/plain": [
       "        Store  DayOfWeek        Date  Sales  Customers  Open  Promo  \\\n",
       "453775    756          3  2014-05-21  15659       2209     1      1   \n",
       "201187    488          7  2015-02-01      0          0     0      0   \n",
       "427752    378          5  2014-06-13   6226        929     1      0   \n",
       "449766     92          6  2014-05-24   5067        524     1      0   \n",
       "839838   1029          7  2013-06-09      0          0     0      0   \n",
       "\n",
       "       StateHoliday  SchoolHoliday StoreType Assortment  CompetitionDistance  \\\n",
       "453775            0              0         a          c                 50.0   \n",
       "201187            0              0         a          c               2890.0   \n",
       "427752            0              0         a          c               2140.0   \n",
       "449766            0              0         c          a                240.0   \n",
       "839838            0              0         a          a               1590.0   \n",
       "\n",
       "        CompetitionOpenSinceMonth  CompetitionOpenSinceYear  Promo2  \\\n",
       "453775                        NaN                       NaN       1   \n",
       "201187                        4.0                    2014.0       0   \n",
       "427752                        8.0                    2012.0       0   \n",
       "449766                        NaN                       NaN       1   \n",
       "839838                        3.0                    2006.0       0   \n",
       "\n",
       "        Promo2SinceWeek  Promo2SinceYear    PromoInterval  \n",
       "453775             40.0           2011.0  Jan,Apr,Jul,Oct  \n",
       "201187              NaN              NaN              NaN  \n",
       "427752              NaN              NaN              NaN  \n",
       "449766             45.0           2009.0  Feb,May,Aug,Nov  \n",
       "839838              NaN              NaN              NaN  "
      ]
     },
     "execution_count": 3,
     "metadata": {},
     "output_type": "execute_result"
    }
   ],
   "source": [
    "store = pd.read_csv('D:\\\\My Drive\\\\Pessoal\\\\Projetos\\\\rossmann_sales_predict\\\\data\\\\raw\\\\store.csv', low_memory=False)\n",
    "train = pd.read_csv('D:\\\\My Drive\\\\Pessoal\\\\Projetos\\\\rossmann_sales_predict\\\\data\\\\raw\\\\train.csv', low_memory=False)\n",
    "test_raw = pd.read_csv('D:\\\\My Drive\\\\Pessoal\\\\Projetos\\\\rossmann_sales_predict\\\\data\\\\raw\\\\test.csv', low_memory=False)\n",
    "\n",
    "df = pd.merge(train, store, how='left', on='Store')\n",
    "test_raw = pd.merge(test_raw, store, how='left', on='Store')\n",
    "test = test_raw.copy()\n",
    "df.sample(5)"
   ]
  },
  {
   "cell_type": "markdown",
   "id": "5318993c",
   "metadata": {
    "ExecuteTime": {
     "end_time": "2022-02-22T17:35:18.052468Z",
     "start_time": "2022-02-22T17:35:14.947090Z"
    },
    "heading_collapsed": true
   },
   "source": [
    "# 1.0 Data Description"
   ]
  },
  {
   "cell_type": "code",
   "execution_count": 4,
   "id": "bda59f4c",
   "metadata": {
    "ExecuteTime": {
     "end_time": "2022-07-17T14:36:17.246708Z",
     "start_time": "2022-07-17T14:36:17.191376Z"
    },
    "hidden": true
   },
   "outputs": [],
   "source": [
    "df1 = df.copy()"
   ]
  },
  {
   "cell_type": "markdown",
   "id": "cd801dda",
   "metadata": {
    "heading_collapsed": true,
    "hidden": true
   },
   "source": [
    "## 1.1 Rename Columns"
   ]
  },
  {
   "cell_type": "code",
   "execution_count": 5,
   "id": "5d979b69",
   "metadata": {
    "ExecuteTime": {
     "end_time": "2022-07-17T14:36:17.260574Z",
     "start_time": "2022-07-17T14:36:17.246708Z"
    },
    "hidden": true
   },
   "outputs": [],
   "source": [
    "snake_case = lambda x: inflection.underscore(x)\n",
    "\n",
    "cols_old = df1.columns.to_list()\n",
    "cols_new = list(map(snake_case, cols_old))\n",
    "\n",
    "# rename\n",
    "df1.columns = cols_new"
   ]
  },
  {
   "cell_type": "markdown",
   "id": "e74e16bb",
   "metadata": {
    "heading_collapsed": true,
    "hidden": true
   },
   "source": [
    "## 1.2 Data Dimension"
   ]
  },
  {
   "cell_type": "code",
   "execution_count": 6,
   "id": "81e0354c",
   "metadata": {
    "ExecuteTime": {
     "end_time": "2022-07-17T14:36:17.273339Z",
     "start_time": "2022-07-17T14:36:17.261674Z"
    },
    "hidden": true
   },
   "outputs": [
    {
     "name": "stdout",
     "output_type": "stream",
     "text": [
      "Number of rows: 1017209\n",
      "Number of columns: 18\n"
     ]
    }
   ],
   "source": [
    "print(f'Number of rows: {df1.shape[0]}')\n",
    "print(f'Number of columns: {df1.shape[1]}')"
   ]
  },
  {
   "cell_type": "markdown",
   "id": "4ff99a28",
   "metadata": {
    "heading_collapsed": true,
    "hidden": true
   },
   "source": [
    "## 1.3 Data Types"
   ]
  },
  {
   "cell_type": "code",
   "execution_count": 7,
   "id": "4325bb1b",
   "metadata": {
    "ExecuteTime": {
     "end_time": "2022-07-17T14:36:17.293622Z",
     "start_time": "2022-07-17T14:36:17.277473Z"
    },
    "hidden": true,
    "scrolled": true
   },
   "outputs": [
    {
     "data": {
      "text/plain": [
       "store                             int64\n",
       "day_of_week                       int64\n",
       "date                             object\n",
       "sales                             int64\n",
       "customers                         int64\n",
       "open                              int64\n",
       "promo                             int64\n",
       "state_holiday                    object\n",
       "school_holiday                    int64\n",
       "store_type                       object\n",
       "assortment                       object\n",
       "competition_distance            float64\n",
       "competition_open_since_month    float64\n",
       "competition_open_since_year     float64\n",
       "promo2                            int64\n",
       "promo2_since_week               float64\n",
       "promo2_since_year               float64\n",
       "promo_interval                   object\n",
       "dtype: object"
      ]
     },
     "execution_count": 7,
     "metadata": {},
     "output_type": "execute_result"
    }
   ],
   "source": [
    "df1.dtypes"
   ]
  },
  {
   "cell_type": "code",
   "execution_count": 8,
   "id": "14c600c8",
   "metadata": {
    "ExecuteTime": {
     "end_time": "2022-07-17T14:36:17.428724Z",
     "start_time": "2022-07-17T14:36:17.295642Z"
    },
    "hidden": true
   },
   "outputs": [],
   "source": [
    "# changing date datatype\n",
    "df1['date'] = pd.to_datetime(df1['date'])"
   ]
  },
  {
   "cell_type": "markdown",
   "id": "ddc17ac5",
   "metadata": {
    "heading_collapsed": true,
    "hidden": true
   },
   "source": [
    "## 1.4 Check NA"
   ]
  },
  {
   "cell_type": "code",
   "execution_count": 9,
   "id": "7a947061",
   "metadata": {
    "ExecuteTime": {
     "end_time": "2022-07-17T14:36:17.850075Z",
     "start_time": "2022-07-17T14:36:17.428724Z"
    },
    "hidden": true,
    "scrolled": false
   },
   "outputs": [
    {
     "data": {
      "text/plain": [
       "store                                0\n",
       "day_of_week                          0\n",
       "date                                 0\n",
       "sales                                0\n",
       "customers                            0\n",
       "open                                 0\n",
       "promo                                0\n",
       "state_holiday                        0\n",
       "school_holiday                       0\n",
       "store_type                           0\n",
       "assortment                           0\n",
       "competition_distance              2642\n",
       "competition_open_since_month    323348\n",
       "competition_open_since_year     323348\n",
       "promo2                               0\n",
       "promo2_since_week               508031\n",
       "promo2_since_year               508031\n",
       "promo_interval                  508031\n",
       "dtype: int64"
      ]
     },
     "execution_count": 9,
     "metadata": {},
     "output_type": "execute_result"
    }
   ],
   "source": [
    "df1.isna().sum()"
   ]
  },
  {
   "cell_type": "markdown",
   "id": "49f01160",
   "metadata": {
    "hidden": true
   },
   "source": [
    "Os valores NaN's estão ligados a dois atributos:\n",
    "- Competidores: ou não há competidores ou estão em um raio grande demais\n",
    "- Promo2: não foi ativada a promo2 por qualquer motivo"
   ]
  },
  {
   "cell_type": "markdown",
   "id": "10eaac79",
   "metadata": {
    "heading_collapsed": true,
    "hidden": true
   },
   "source": [
    "## 1.5 Fillout NA"
   ]
  },
  {
   "cell_type": "code",
   "execution_count": null,
   "id": "5a804757",
   "metadata": {
    "ExecuteTime": {
     "start_time": "2022-07-17T14:36:13.886Z"
    },
    "hidden": true
   },
   "outputs": [],
   "source": [
    "# competition_distance\n",
    "constant_competition_distance = 200000\n",
    "df1.loc[df1['competition_distance'].isna(), 'competition_distance'] = constant_competition_distance\n",
    "\n",
    "# competition_open_since_month\n",
    "df1['competition_open_since_month'] = df1.apply(lambda x: x['date'].month if np.isnan(x['competition_open_since_month']) else x['competition_open_since_month'], axis=1) \n",
    "\n",
    "# competition_open_since_year\n",
    "df1['competition_open_since_year'] = df1.apply(lambda x: x['date'].year if np.isnan(x['competition_open_since_year']) else x['competition_open_since_year'], axis=1)\n",
    "\n",
    "# promo2_since_week\n",
    "df1['promo2_since_week'] = df1.apply(lambda x: x['date'].week if np.isnan(x['promo2_since_week']) else x['promo2_since_week'], axis=1)\n",
    "\n",
    "# promo2_since_year\n",
    "df1['promo2_since_year'] = df1.apply(lambda x: x['date'].year if np.isnan(x['promo2_since_year']) else x['promo2_since_year'], axis=1)\n",
    "\n",
    "# promo_interval\n",
    "df1['promo_interval'].fillna(0, inplace=True)\n",
    "month_map = {1: 'Jan', 2: 'Feb', 3: 'Mar', 4: 'Apr', 5: 'May', 6: 'Jun', 7: 'Jul', 8: 'Aug', 9: 'Sept', 10: 'Oct', 11: 'Nov', 12: 'Dec'}\n",
    "df1['month_map'] = df1['date'].dt.month.map(month_map)\n",
    "df1['is_promo'] = df1[['promo_interval', 'month_map']].apply(lambda x: 0 if x['promo_interval'] == 0 else 1 if x['month_map'] in x['promo_interval'].split(',') else 0, axis=1)\n",
    "df1.drop(['promo_interval', 'month_map'], axis=1, inplace=True)"
   ]
  },
  {
   "cell_type": "markdown",
   "id": "3c1ec103",
   "metadata": {
    "heading_collapsed": true,
    "hidden": true
   },
   "source": [
    "## 1.6 Change Data Types"
   ]
  },
  {
   "cell_type": "code",
   "execution_count": null,
   "id": "842b888f",
   "metadata": {
    "ExecuteTime": {
     "start_time": "2022-07-17T14:36:13.889Z"
    },
    "hidden": true,
    "scrolled": true
   },
   "outputs": [],
   "source": [
    "df1['competition_open_since_month'] = df1['competition_open_since_month'].astype('int')\n",
    "df1['competition_open_since_year'] = df1['competition_open_since_year'].astype('int')\n",
    "\n",
    "df1['promo2_since_week'] = df1['promo2_since_week'].astype('int')\n",
    "df1['promo2_since_year'] = df1['promo2_since_year'].astype('int')"
   ]
  },
  {
   "cell_type": "markdown",
   "id": "1c9d96a8",
   "metadata": {
    "heading_collapsed": true,
    "hidden": true
   },
   "source": [
    "## 1.7 Descriptive Statistical"
   ]
  },
  {
   "cell_type": "markdown",
   "id": "70bada32",
   "metadata": {
    "heading_collapsed": true,
    "hidden": true
   },
   "source": [
    "### 1.7.1 Classifying Attributes"
   ]
  },
  {
   "cell_type": "code",
   "execution_count": null,
   "id": "818c2d8a",
   "metadata": {
    "ExecuteTime": {
     "start_time": "2022-07-17T14:36:13.893Z"
    },
    "hidden": true
   },
   "outputs": [],
   "source": [
    "num_attributes = ['sales', 'customers', 'competition_distance']\n",
    "cat_attributes = ['open', 'state_holiday', 'school_holiday', 'store_type', 'assortment', 'day_of_week', 'promo', 'promo2', 'is_promo']"
   ]
  },
  {
   "cell_type": "markdown",
   "id": "ed549432",
   "metadata": {
    "heading_collapsed": true,
    "hidden": true
   },
   "source": [
    "### 1.7.2 Numerical Attributes"
   ]
  },
  {
   "cell_type": "code",
   "execution_count": null,
   "id": "c8b23c49",
   "metadata": {
    "ExecuteTime": {
     "start_time": "2022-07-17T14:36:13.897Z"
    },
    "hidden": true,
    "hide_input": false,
    "scrolled": false
   },
   "outputs": [],
   "source": [
    "# Central Tendency - mean, median\n",
    "ct1 = pd.DataFrame(df1[num_attributes].apply(np.mean)).T\n",
    "ct2 = pd.DataFrame(df1[num_attributes].apply(np.median)).T\n",
    "\n",
    "# Dispersion - std, min, max, range, skew, kurtosis\n",
    "d1 = pd.DataFrame(df1[num_attributes].apply(np.std)).T\n",
    "d2 = pd.DataFrame(df1[num_attributes].apply(min)).T\n",
    "d3 = pd.DataFrame(df1[num_attributes].apply(max)).T\n",
    "d4 = pd.DataFrame(df1[num_attributes].apply(lambda x: x.max() - x.min())).T\n",
    "d5 = pd.DataFrame(df1[num_attributes].apply(lambda x: x.skew())).T\n",
    "d6 = pd.DataFrame(df1[num_attributes].apply(lambda x: x.kurtosis())).T\n",
    "\n",
    "m = pd.concat([d2, d3, d4, ct1, ct2, d1, d5, d6]).T\n",
    "m.columns = 'min max range mean median std skew kurtosis'.split()\n",
    "m"
   ]
  },
  {
   "cell_type": "markdown",
   "id": "267ad150",
   "metadata": {
    "hidden": true
   },
   "source": [
    "1. sales: a média e a mediana estão próximas, isso indica uma distribuição centralizada na média, a skew é baixa, o que reforça uma distribuição centralizada na média, indicando uma distribuição próxima a uma normal, a skew é positiva, então tem uma cauda direita um pouco mais pesada, kurtosis próxima de 1, inidica um pico não muito alto. A distribuição deve ser parecida com uma NORMAL.\n",
    "2. customers: a média e a mediana estão prõximas mas com uma diferença de uns 5 porcento, a skew próxima a 1.5 indica um deslocamento da centralização relativamente pequeno, a skew é positiva, então tem uma cauda direita mais pesada, a kurtosis é média, sugerindo um pico relativamente alto. A distribuição pode ser parecida com uma NORMAL.\n",
    "3. competition_distance: a média e a mediana estão bastante distantes, a skew é altíssima, o que sugerem que a média e a mediana estão bastante deslocadas, é a skew é positiva, portanto uma cauda direita bem mais pesada, a kurtosis é altíssima, o que aponta um pico bastante alto, com uma alta concentração, não centralizada na média, distribuição parece uma POISSON."
   ]
  },
  {
   "cell_type": "markdown",
   "id": "cc9d005a",
   "metadata": {
    "heading_collapsed": true,
    "hidden": true
   },
   "source": [
    "### 1.7.3 Categorical Attributes"
   ]
  },
  {
   "cell_type": "code",
   "execution_count": null,
   "id": "8ea132e2",
   "metadata": {
    "ExecuteTime": {
     "start_time": "2022-07-17T14:36:13.901Z"
    },
    "hidden": true
   },
   "outputs": [],
   "source": [
    "df1[cat_attributes].apply(lambda x: x.nunique())"
   ]
  },
  {
   "cell_type": "code",
   "execution_count": null,
   "id": "d24cf51f",
   "metadata": {
    "ExecuteTime": {
     "start_time": "2022-07-17T14:36:13.904Z"
    },
    "hidden": true,
    "hide_input": false,
    "scrolled": false
   },
   "outputs": [],
   "source": [
    "temp = df1[cat_attributes].astype('category')\n",
    "temp['sales'] = df1['sales']\n",
    "temp = temp.loc[temp['sales']>0]\n",
    "\n",
    "plt.figure(figsize=(20, 20))\n",
    "\n",
    "plt.subplot(2, 4, 1)\n",
    "ax = sns.boxplot(x='day_of_week', y='sales', data=temp)\n",
    "ax.tick_params(bottom=False, labelleft=False, left=False)\n",
    "# ax = sns.despine(left=True)\n",
    "plt.title('day_of_week', fontsize=20)\n",
    "plt.xlabel('')\n",
    "plt.ylabel('')\n",
    "\n",
    "plt.subplot(2, 4, 2)\n",
    "ax = sns.boxplot(x='is_promo', y='sales', data=temp)\n",
    "ax.tick_params(bottom=False, labelleft=False, left=False)\n",
    "# ax = sns.despine(left=True)\n",
    "plt.title('is_promo', fontsize=20)\n",
    "plt.xlabel('')\n",
    "plt.ylabel('')\n",
    "\n",
    "plt.subplot(2, 4, 3)\n",
    "ax = sns.boxplot(x='promo', y='sales', data=temp)\n",
    "ax.tick_params(bottom=False, labelleft=False, left=False)\n",
    "# ax = sns.despine(left=True)\n",
    "plt.title('promo', fontsize=20)\n",
    "plt.xlabel('')\n",
    "plt.ylabel('')\n",
    "\n",
    "plt.subplot(2, 4, 4)\n",
    "ax = sns.boxplot(x='promo2', y='sales', data=temp)\n",
    "ax.tick_params(bottom=False, labelleft=False, left=False)\n",
    "# ax = sns.despine(left=True)\n",
    "plt.title('promo2', fontsize=20)\n",
    "plt.xlabel('')\n",
    "plt.ylabel('')\n",
    "\n",
    "plt.subplot(2, 4, 5)\n",
    "ax = sns.boxplot(x='state_holiday', y='sales', data=temp)\n",
    "ax.tick_params(bottom=False, labelleft=False, left=False)\n",
    "# ax = sns.despine(left=True)\n",
    "plt.title('state_holiday', fontsize=20)\n",
    "plt.xlabel('')\n",
    "plt.ylabel('')\n",
    "\n",
    "plt.subplot(2, 4, 6)\n",
    "ax = sns.boxplot(x='school_holiday', y='sales', data=temp)\n",
    "ax.tick_params(bottom=False, labelleft=False, left=False)\n",
    "# ax = sns.despine(left=True)\n",
    "plt.title('school_holiday', fontsize=20)\n",
    "plt.xlabel('')\n",
    "plt.ylabel('')\n",
    "\n",
    "plt.subplot(2, 4, 7)\n",
    "ax = sns.boxplot(x='store_type', y='sales', data=temp)\n",
    "ax.tick_params(bottom=False, labelleft=False, left=False)\n",
    "# ax = sns.despine(left=True)\n",
    "plt.title('store_type', fontsize=20)\n",
    "plt.xlabel('')\n",
    "plt.ylabel('')\n",
    "\n",
    "plt.subplot(2, 4, 8)\n",
    "ax = sns.boxplot(x='assortment', y='sales', data=temp)\n",
    "ax.tick_params(bottom=False, labelleft=False, left=False)\n",
    "# ax = sns.despine(left=True)\n",
    "plt.title('assortment', fontsize=20)\n",
    "plt.xlabel('')\n",
    "plt.ylabel('');"
   ]
  },
  {
   "cell_type": "markdown",
   "id": "d211472f",
   "metadata": {
    "hidden": true
   },
   "source": [
    "1. domingos têm uma distribuição mais espalhada, com maior variância\n",
    "2. promoções do tipo promo aumentam as vendas\n",
    "4. feriados geram vendas relativamente maiores e com maior variância\n",
    "6. store_type do tipo b claramente têm maiores vendas"
   ]
  },
  {
   "cell_type": "markdown",
   "id": "0852269b",
   "metadata": {
    "heading_collapsed": true
   },
   "source": [
    "# 2.0 Feature Engineering"
   ]
  },
  {
   "cell_type": "code",
   "execution_count": null,
   "id": "4f8289df",
   "metadata": {
    "ExecuteTime": {
     "start_time": "2022-07-17T14:36:13.907Z"
    },
    "hidden": true
   },
   "outputs": [],
   "source": [
    "df2 = df1.copy()"
   ]
  },
  {
   "cell_type": "markdown",
   "id": "d39229b0",
   "metadata": {
    "heading_collapsed": true,
    "hidden": true
   },
   "source": [
    "## 2.1 Hypothesis Mindmap"
   ]
  },
  {
   "cell_type": "code",
   "execution_count": null,
   "id": "4370006e",
   "metadata": {
    "ExecuteTime": {
     "start_time": "2022-07-17T14:36:13.911Z"
    },
    "hidden": true,
    "hide_input": false,
    "scrolled": false
   },
   "outputs": [],
   "source": [
    "Image('..\\\\img\\\\mind_map_hypothesis.png')"
   ]
  },
  {
   "cell_type": "markdown",
   "id": "d2ab74bf",
   "metadata": {
    "heading_collapsed": true,
    "hidden": true
   },
   "source": [
    "## 2.2 Creating Hypothesis"
   ]
  },
  {
   "cell_type": "markdown",
   "id": "9b77607d",
   "metadata": {
    "heading_collapsed": true,
    "hidden": true
   },
   "source": [
    "### 2.2.1 Temporal Factors:\n",
    "1. Com o passar dos anos, as lojas deveriam vender mais.\n",
    "2. Aos feriados, as lojas deveriam vender mais.\n",
    "3. Aos ultimos trimestres, as lojas deveriam vender mais.\n",
    "4. Aos finais de semana, as lojas deveriam vender mais.\n",
    "5. Às ultimas semanas dos meses, as lojas deveriam vender MENOS.\n",
    "\n",
    "### 2.2.2 Marketing:\n",
    "6. Lojas que fazem maior investimento em divulgações, deveriam vender mais.\n",
    "7. Lojas em Períodos de promoções, deveriam vender mais.\n",
    "8. Lojas com promoções a mais tempo, deveriam vender mais.\n",
    "9. Lojas com melhores estruturas de expositores, deveriam vender mais.\n",
    "\n",
    "### 2.2.3 Clients:\n",
    "10. Lojas com clientes com maiores salários, deveriam vender mais.\n",
    "11. Lojas com uma proporção maior de público feminino, deveriam vender mais.\n",
    "12. Lojas com clientes de faixa etária relativamente maior, deveriam vender mais.\n",
    "13. Lojas com clientes com grupos familiares maiores, deveriam vender mais.\n",
    "\n",
    "### 2.2.4 Products:\n",
    "14. Produtos com pacotes unitários maiores deveriam promover maiores vendas.\n",
    "15. Produtos com margem de lucro reduzida, deveriam promover maiores vendas.\n",
    "16. Produtos com maiores demandas, deveriam promover maiores vendas.\n",
    "\n",
    "### 2.2.5 Stores:\n",
    "17. Lojas com maior sortimento, deveriam vender mais.\n",
    "18. Lojas com maiores disponibilidades de estoque, deveriam vender mais.\n",
    "19. Lojas localizadas em regiões com maiores salários, deveriam vender mais.\n",
    "20. Lojas com concorrência mais próxima, deveriam vender MENOS.\n",
    "21. Lojas com concorrência a mais tempo, deveriam vender mais.\n",
    "22. Lojas de maior porte, deveriam vender mais.\n",
    "23. Lojas com mais colaboradores, deveriam vender mais.\n",
    "\n",
    "### 2.2.5 Lista final de hipóteses:\n",
    "\n",
    "As hipóteses em negrito foram selecionadas e serão estudadas primeiro. O principal critério para selecionar as possíveis hipóteses foi a disponibilidade de features que possibilitem os estudos.\n",
    "\n",
    "1. Com o passar dos anos, as lojas deveriam vender mais.\n",
    "2. Aos feriados, as lojas deveriam vender mais.\n",
    "3. Aos ultimos trimestres, as lojas deveriam vender mais.\n",
    "4. Aos finais de semana, as lojas deveriam vender mais.\n",
    "5. Às ultimas semanas dos meses, as lojas deveriam vender MENOS.\n",
    "6. Lojas em Períodos de promoções, deveriam vender mais.\n",
    "7. Lojas com promoções a mais tempo, deveriam vender mais.\n",
    "8. Lojas com maior sortimento, deveriam vender mais.\n",
    "9. Lojas com concorrência mais próxima, deveriam vender MENOS.\n",
    "10. Lojas com mais colaboradores, deveriam vender mais."
   ]
  },
  {
   "cell_type": "markdown",
   "id": "4b85ad06",
   "metadata": {
    "heading_collapsed": true,
    "hidden": true
   },
   "source": [
    "## 2.3 Creating Features"
   ]
  },
  {
   "cell_type": "code",
   "execution_count": null,
   "id": "90429eb7",
   "metadata": {
    "ExecuteTime": {
     "start_time": "2022-07-17T14:36:13.916Z"
    },
    "hidden": true
   },
   "outputs": [],
   "source": [
    "# week\n",
    "df2['week'] = df2['date'].dt.isocalendar().week\n",
    "\n",
    "# year\n",
    "df2['year'] = df2['date'].dt.year\n",
    "\n",
    "# quarters\n",
    "df2['year_quarters'] = df2['date'].dt.month.apply(lambda x: 1 if x <= 3 else (2 if x <= 6 else (3 if x <= 9 else 4)))\n",
    "\n",
    "# weekends\n",
    "df2['weekends'] = df2['date'].dt.day_name().apply(lambda x: 0 if x not in ['Friday', 'Saturday'] else 1)\n",
    "\n",
    "# last_week_of_month\n",
    "df2['last_week_of_month'] = df2['date'].dt.day.apply(lambda x: 0 if x <= 23 else 1)\n",
    "\n",
    "# competition_since\n",
    "df2['competition_since'] = df2.apply(lambda x: datetime.datetime(day=1, month=x['competition_open_since_month'], year=x['competition_open_since_year']), axis=1)\n",
    "df2['competition_time_month'] = ((df2['date'] - df2['competition_since']) / 30).apply(lambda x: x.days).astype('int')\n",
    "df2.drop(['competition_since', 'competition_open_since_month', 'competition_open_since_year'], axis=1, inplace=True)\n",
    "\n",
    "# promo_since\n",
    "df2['promo2_since'] = df2['promo2_since_year'].astype(str) + '-' + df2['promo2_since_week'].astype(str)\n",
    "df2['promo2_since'] = df2['promo2_since'].apply(lambda x: datetime.datetime.strptime(x + '-1', '%Y-%W-%w') - datetime.timedelta(days=7))\n",
    "df2['promo2_time_week'] = ((df2['date'] - df2['promo2_since']) / 7).apply(lambda x: x.days).astype(int)\n",
    "df2.drop(['promo2_since', 'promo2_since_year', 'promo2_since_week'], axis=1, inplace=True)\n",
    "\n",
    "# assortment\n",
    "df2['assortment'] = df2['assortment'].apply(lambda x: 'basic' if x=='a' else 'extra' if x=='b' else 'extended')\n",
    "\n",
    "# state_holiday\n",
    "df2['state_holiday'] = df2['state_holiday'].apply(lambda x: 'public_holiday' if x=='a' else 'easter_holiday' if x=='b' else 'christmas' if x=='c' else 'regular_day')\n",
    "\n",
    "# day_of_week\n",
    "df2['day_of_week'] = df2['date'].dt.day_name()\n",
    "\n",
    "num_attributes.extend(['competition_time_month', 'promo2_time_week'])\n",
    "\n",
    "cat_attributes.extend(['week', 'year', 'year_quarters', 'weekends', 'last_week_of_month', 'day_of_week'])"
   ]
  },
  {
   "cell_type": "markdown",
   "id": "663efdbe",
   "metadata": {},
   "source": [
    "# 3.0 Exploratory Data Analysis"
   ]
  },
  {
   "cell_type": "code",
   "execution_count": null,
   "id": "dcdf9ace",
   "metadata": {
    "ExecuteTime": {
     "start_time": "2022-07-17T14:36:13.919Z"
    }
   },
   "outputs": [],
   "source": [
    "df3 = df2.copy()"
   ]
  },
  {
   "cell_type": "markdown",
   "id": "7a38bf17",
   "metadata": {
    "heading_collapsed": true
   },
   "source": [
    "## 3.1 Univariate Analysis"
   ]
  },
  {
   "cell_type": "markdown",
   "id": "2d23ded1",
   "metadata": {
    "heading_collapsed": true,
    "hidden": true
   },
   "source": [
    "### 3.1.1 Response variable"
   ]
  },
  {
   "cell_type": "code",
   "execution_count": null,
   "id": "cc478cda",
   "metadata": {
    "ExecuteTime": {
     "start_time": "2022-07-17T14:36:13.923Z"
    },
    "hidden": true,
    "hide_input": false,
    "scrolled": true
   },
   "outputs": [],
   "source": [
    "plt.figure(figsize=(20, 6))\n",
    "sns.histplot(df3['sales'], bins=50)\n",
    "sns.despine();"
   ]
  },
  {
   "cell_type": "markdown",
   "id": "b5baa396",
   "metadata": {
    "hidden": true
   },
   "source": [
    "Uma distribuição normal, com uma skew positiva, com uma média próxima a 5000"
   ]
  },
  {
   "cell_type": "markdown",
   "id": "8e1f58f1",
   "metadata": {
    "heading_collapsed": true,
    "hidden": true
   },
   "source": [
    "### 3.1.2 Numerical variables"
   ]
  },
  {
   "cell_type": "code",
   "execution_count": null,
   "id": "652d6c0f",
   "metadata": {
    "ExecuteTime": {
     "start_time": "2022-07-17T14:36:13.926Z"
    },
    "hidden": true,
    "hide_input": false,
    "scrolled": false
   },
   "outputs": [],
   "source": [
    "plt.figure(figsize=(20, 10))\n",
    "plt.subplots_adjust(hspace=0.8)\n",
    "\n",
    "plt.subplot(2, 2, 1)\n",
    "outliers_indices, li, ls = search_outliers(df3, 'competition_distance')\n",
    "temp = df3.drop(outliers_indices)\n",
    "sns.histplot(temp['competition_distance'], bins=25)\n",
    "sns.despine()\n",
    "plt.title('competition_distance', fontsize=20)\n",
    "plt.xlabel('')\n",
    "plt.ylabel('count', fontsize=15)\n",
    "\n",
    "plt.subplot(2, 2, 2)\n",
    "outliers_indices, li, ls = search_outliers(df3, 'competition_time_month')\n",
    "temp = df3.drop(outliers_indices)\n",
    "sns.histplot(temp['competition_time_month'], bins=25)\n",
    "sns.despine()\n",
    "plt.title('competition_time_month', fontsize=20)\n",
    "plt.xlabel('')\n",
    "plt.ylabel('count', fontsize=15)\n",
    "\n",
    "plt.subplot(2, 2, 3)\n",
    "outliers_indices, li, ls = search_outliers(df3, 'promo2_time_week')\n",
    "temp = df3.drop(outliers_indices)\n",
    "sns.histplot(temp['promo2_time_week'], bins=25)\n",
    "sns.despine()\n",
    "plt.title('promo2_time_week', fontsize=20)\n",
    "plt.xlabel('')\n",
    "plt.ylabel('count', fontsize=15);"
   ]
  },
  {
   "cell_type": "markdown",
   "id": "dadf56e3",
   "metadata": {
    "hidden": true
   },
   "source": [
    "1. Customers apresenta uma distribuição próxima a uma normal, com uma skew levemente positiva.\n",
    "2. A maioria das lojas tem concorrência bastante próxima, uma distribuição parecida com uma Poisson, com uma skew positiva.\n",
    "3. Competition_time_month com valores bem distribuidos e esparsos.\n",
    "4. promo2_time_week com valores bem distribuídos e esparços."
   ]
  },
  {
   "cell_type": "markdown",
   "id": "af5593d3",
   "metadata": {
    "heading_collapsed": true,
    "hidden": true
   },
   "source": [
    "### 3.1.2 Categorical variables"
   ]
  },
  {
   "cell_type": "code",
   "execution_count": null,
   "id": "537f13a4",
   "metadata": {
    "ExecuteTime": {
     "start_time": "2022-07-17T14:36:13.930Z"
    },
    "hidden": true,
    "hide_input": false,
    "scrolled": false
   },
   "outputs": [],
   "source": [
    "temp = df3.loc[df3['open']==1]\n",
    "\n",
    "plt.figure(figsize=(20, 40))\n",
    "plt.subplots_adjust(hspace=0.8)\n",
    "\n",
    "# state_holiday\n",
    "temp1 = temp[temp['state_holiday']!='regular_day']\n",
    "plt.subplot(13, 2, 1)\n",
    "sns.countplot(x='state_holiday', data=temp1, color='b')\n",
    "plt.title('state_holiday', fontsize=20)\n",
    "plt.xlabel('')\n",
    "sns.despine()\n",
    "\n",
    "plt.subplot(13, 2, 2)\n",
    "sns.kdeplot(x='sales', data=temp.loc[temp['state_holiday']=='regular_day'], label='regular_day')\n",
    "sns.kdeplot(x='sales', data=temp.loc[temp['state_holiday']=='public_holiday'], label='public_holiday')\n",
    "sns.kdeplot(x='sales', data=temp.loc[temp['state_holiday']=='easter_holiday'], label='easter_holiday')\n",
    "sns.kdeplot(x='sales', data=temp.loc[temp['state_holiday']=='christmas'], label='christmas')\n",
    "plt.title('state_holiday', fontsize=20)\n",
    "plt.xlabel('')\n",
    "plt.legend(prop={'size': 12})\n",
    "sns.despine()\n",
    "\n",
    "# school_holiday\n",
    "plt.subplot(13, 2, 3)\n",
    "sns.countplot(x='school_holiday', data=temp, color='b')\n",
    "plt.title('school_holiday', fontsize=20)\n",
    "plt.xlabel('')\n",
    "sns.despine()\n",
    "\n",
    "plt.subplot(13, 2, 4)\n",
    "sns.kdeplot(x='sales', data=temp.loc[temp['school_holiday']==0], label='regular_day')\n",
    "sns.kdeplot(x='sales', data=temp.loc[temp['school_holiday']==1], label='holiday')\n",
    "plt.title('school_holiday', fontsize=20)\n",
    "plt.xlabel('')\n",
    "plt.legend(prop={'size': 12})\n",
    "sns.despine()\n",
    "\n",
    "# store_type\n",
    "plt.subplot(13, 2, 5)\n",
    "sns.countplot(x='store_type', data=temp, color='b', order=['a', 'b', 'c', 'd'])\n",
    "plt.title('store_type', fontsize=20)\n",
    "plt.xlabel('')\n",
    "sns.despine()\n",
    "\n",
    "plt.subplot(13, 2, 6)\n",
    "sns.kdeplot(x='sales', data=temp.loc[temp['store_type']=='a'], label='a')\n",
    "sns.kdeplot(x='sales', data=temp.loc[temp['store_type']=='b'], label='b')\n",
    "sns.kdeplot(x='sales', data=temp.loc[temp['store_type']=='c'], label='c')\n",
    "sns.kdeplot(x='sales', data=temp.loc[temp['store_type']=='d'], label='d')\n",
    "plt.title('store_type', fontsize=20)\n",
    "plt.xlabel('')\n",
    "plt.legend(prop={'size': 12})\n",
    "sns.despine()\n",
    "\n",
    "# assortment\n",
    "plt.subplot(13, 2, 7)\n",
    "sns.countplot(x='assortment', data=temp, color='b', order=['basic', 'extended', 'extra'])\n",
    "plt.title('assortment', fontsize=20)\n",
    "plt.xlabel('')\n",
    "sns.despine()\n",
    "\n",
    "plt.subplot(13, 2, 8)\n",
    "sns.kdeplot(x='sales', data=temp.loc[temp['assortment']=='basic'], label='basic')\n",
    "sns.kdeplot(x='sales', data=temp.loc[temp['assortment']=='extended'], label='extended')\n",
    "sns.kdeplot(x='sales', data=temp.loc[temp['assortment']=='extra'], label='extra')\n",
    "plt.title('assortment', fontsize=20)\n",
    "plt.xlabel('')\n",
    "plt.legend(prop={'size': 12})\n",
    "sns.despine()\n",
    "\n",
    "# day_of_week\n",
    "plt.subplot(13, 2, 9)\n",
    "sns.countplot(x='day_of_week', data=temp, color='b', order= 'Monday Tuesday Wednesday Thursday Friday Saturday Sunday'.split())\n",
    "plt.title('day_of_week', fontsize=20)\n",
    "plt.xlabel('')\n",
    "sns.despine()\n",
    "\n",
    "plt.subplot(13, 2, 10)\n",
    "sns.kdeplot(x='sales', data=temp.loc[temp['day_of_week']=='Monday'], label='Monday')\n",
    "sns.kdeplot(x='sales', data=temp.loc[temp['day_of_week']=='Tuesday'], label='Tuesday')\n",
    "sns.kdeplot(x='sales', data=temp.loc[temp['day_of_week']=='Wednesday'], label='Wednesday')\n",
    "sns.kdeplot(x='sales', data=temp.loc[temp['day_of_week']=='Thursday'], label='Thursday')\n",
    "sns.kdeplot(x='sales', data=temp.loc[temp['day_of_week']=='Friday'], label='Friday')\n",
    "sns.kdeplot(x='sales', data=temp.loc[temp['day_of_week']=='Saturday'], label='Saturday')\n",
    "sns.kdeplot(x='sales', data=temp.loc[temp['day_of_week']=='Sunday'], label='Sunday')\n",
    "plt.title('day_of_week', fontsize=20)\n",
    "plt.xlabel('')\n",
    "plt.legend(prop={'size': 12})\n",
    "sns.despine()\n",
    "\n",
    "# promo\n",
    "plt.subplot(13, 2, 11)\n",
    "sns.countplot(x='promo', data=temp, color='b')\n",
    "plt.title('promo', fontsize=20)\n",
    "plt.xlabel('')\n",
    "sns.despine()\n",
    "\n",
    "plt.subplot(13, 2, 12)\n",
    "sns.kdeplot(x='sales', data=temp.loc[temp['promo']==0], label='regular')\n",
    "sns.kdeplot(x='sales', data=temp.loc[temp['promo']==1], label='promo')\n",
    "plt.title('promo', fontsize=20)\n",
    "plt.xlabel('')\n",
    "plt.legend(prop={'size': 12})\n",
    "sns.despine()\n",
    "\n",
    "# promo2\n",
    "plt.subplot(13, 2, 13)\n",
    "sns.countplot(x='promo2', data=temp, color='b')\n",
    "plt.title('promo2', fontsize=20)\n",
    "plt.xlabel('')\n",
    "sns.despine()\n",
    "\n",
    "plt.subplot(13, 2, 14)\n",
    "sns.kdeplot(x='sales', data=temp.loc[temp['promo2']==0], label='regular')\n",
    "sns.kdeplot(x='sales', data=temp.loc[temp['promo2']==1], label='promo')\n",
    "plt.title('promo2', fontsize=20)\n",
    "plt.xlabel('')\n",
    "plt.legend(prop={'size': 12})\n",
    "sns.despine()\n",
    "\n",
    "# is_promo\n",
    "plt.subplot(13, 2, 15)\n",
    "sns.countplot(x='is_promo', data=temp, color='b')\n",
    "plt.title('is_promo', fontsize=20)\n",
    "plt.xlabel('')\n",
    "sns.despine()\n",
    "\n",
    "plt.subplot(13, 2, 16)\n",
    "sns.kdeplot(x='sales', data=temp.loc[temp['is_promo']==0], label='regular')\n",
    "sns.kdeplot(x='sales', data=temp.loc[temp['is_promo']==1], label='promo')\n",
    "plt.title('is_promo', fontsize=20)\n",
    "plt.xlabel('')\n",
    "plt.legend(prop={'size': 12})\n",
    "sns.despine()\n",
    "\n",
    "# year\n",
    "plt.subplot(13, 2, 17)\n",
    "sns.countplot(x='year', data=temp, color='b')\n",
    "plt.title('year', fontsize=20)\n",
    "plt.xlabel('')\n",
    "sns.despine()\n",
    "\n",
    "plt.subplot(13, 2, 18)\n",
    "sns.kdeplot(x='sales', data=temp.loc[temp['year']==2013], label='2013')\n",
    "sns.kdeplot(x='sales', data=temp.loc[temp['year']==2014], label='2014')\n",
    "sns.kdeplot(x='sales', data=temp.loc[temp['year']==2015], label='2015')\n",
    "plt.title('year', fontsize=20)\n",
    "plt.xlabel('')\n",
    "plt.legend(prop={'size': 12})\n",
    "sns.despine()\n",
    "\n",
    "# year_quarters\n",
    "plt.subplot(13, 2, 19)\n",
    "sns.countplot(x='year_quarters', data=temp, color='b')\n",
    "plt.title('year_quarters', fontsize=20)\n",
    "plt.xlabel('')\n",
    "sns.despine()\n",
    "\n",
    "plt.subplot(13, 2, 20)\n",
    "sns.kdeplot(x='sales', data=temp.loc[temp['year_quarters']==1], label='1')\n",
    "sns.kdeplot(x='sales', data=temp.loc[temp['year_quarters']==2], label='2')\n",
    "sns.kdeplot(x='sales', data=temp.loc[temp['year_quarters']==3], label='3')\n",
    "sns.kdeplot(x='sales', data=temp.loc[temp['year_quarters']==4], label='4')\n",
    "plt.title('year_quarters', fontsize=20)\n",
    "plt.xlabel('')\n",
    "plt.legend(prop={'size': 12})\n",
    "sns.despine()\n",
    "\n",
    "# weekends\n",
    "plt.subplot(13, 2, 21)\n",
    "sns.countplot(x='weekends', data=temp, color='b')\n",
    "plt.title('weekends', fontsize=20)\n",
    "plt.xlabel('')\n",
    "sns.despine()\n",
    "\n",
    "plt.subplot(13, 2, 22)\n",
    "sns.kdeplot(x='sales', data=temp.loc[temp['weekends']==0], label='regular_day')\n",
    "sns.kdeplot(x='sales', data=temp.loc[temp['weekends']==1], label='weekend')\n",
    "plt.title('weekends', fontsize=20)\n",
    "plt.xlabel('')\n",
    "plt.legend(prop={'size': 12})\n",
    "sns.despine()\n",
    "\n",
    "# last_week_of_month\n",
    "plt.subplot(13, 2, 23)\n",
    "sns.countplot(x='last_week_of_month', data=temp, color='b')\n",
    "plt.title('last_week_of_month', fontsize=20)\n",
    "plt.xlabel('')\n",
    "sns.despine()\n",
    "\n",
    "plt.subplot(13, 2, 24)\n",
    "sns.kdeplot(x='sales', data=temp.loc[temp['last_week_of_month']==0], label='regular_week')\n",
    "sns.kdeplot(x='sales', data=temp.loc[temp['last_week_of_month']==1], label='last_week')\n",
    "plt.title('last_week_of_month', fontsize=20)\n",
    "plt.xlabel('')\n",
    "plt.legend(prop={'size': 12})\n",
    "sns.despine()\n",
    "\n",
    "# week\n",
    "plt.subplot(13, 2, 25)\n",
    "temp3 = temp.groupby('week').agg({'sales':'mean'}).reset_index()\n",
    "sns.lineplot(data=temp3, x='week', y='sales')\n",
    "plt.title('sales by week', fontsize=20)\n",
    "plt.xlabel('')\n",
    "sns.despine();"
   ]
  },
  {
   "cell_type": "markdown",
   "id": "73968ddd",
   "metadata": {},
   "source": [
    "## 3.2 Bivariate Analysis"
   ]
  },
  {
   "cell_type": "markdown",
   "id": "633184dc",
   "metadata": {
    "heading_collapsed": true
   },
   "source": [
    "#### H1 Com o passar dos anos, as lojas deveriam vender mais."
   ]
  },
  {
   "cell_type": "markdown",
   "id": "7316135d",
   "metadata": {
    "hidden": true
   },
   "source": [
    "Hipótese refutada, as vendas permanecem estáveis com o passar dos anos"
   ]
  },
  {
   "cell_type": "code",
   "execution_count": null,
   "id": "cc6b43ff",
   "metadata": {
    "ExecuteTime": {
     "start_time": "2022-07-17T14:36:13.935Z"
    },
    "hidden": true,
    "hide_input": false,
    "scrolled": false
   },
   "outputs": [],
   "source": [
    "temp = df3.groupby('year').agg({'sales':'mean'}).reset_index()\n",
    "sns.barplot(x='year', y='sales', data=temp)\n",
    "sns.despine();"
   ]
  },
  {
   "cell_type": "markdown",
   "id": "0bc7619a",
   "metadata": {},
   "source": [
    "#### H2 Aos feriados, as lojas deveriam vender mais"
   ]
  },
  {
   "cell_type": "code",
   "execution_count": null,
   "id": "ab90eb93",
   "metadata": {
    "ExecuteTime": {
     "start_time": "2022-07-17T14:36:13.938Z"
    }
   },
   "outputs": [],
   "source": [
    "# temp = df3.groupby('state_holiday').agg({'sales':'mean'}).reset_index()\n",
    "# temp"
   ]
  },
  {
   "cell_type": "code",
   "execution_count": null,
   "id": "fb54bdec",
   "metadata": {
    "ExecuteTime": {
     "start_time": "2022-07-17T14:36:13.942Z"
    }
   },
   "outputs": [],
   "source": [
    "# sns.catplot(data=temp, x='state_holiday', y='sales', kind='bar');"
   ]
  },
  {
   "cell_type": "markdown",
   "id": "2309353f",
   "metadata": {},
   "source": [
    "#### H3 Aos ultimos trimestres, as lojas deveriam vender mais."
   ]
  },
  {
   "cell_type": "code",
   "execution_count": null,
   "id": "1711486d",
   "metadata": {},
   "outputs": [],
   "source": []
  },
  {
   "cell_type": "markdown",
   "id": "f96d2077",
   "metadata": {},
   "source": [
    "#### H4 Aos finais de semana, as lojas deveriam vender mais."
   ]
  },
  {
   "cell_type": "code",
   "execution_count": null,
   "id": "f54458c9",
   "metadata": {},
   "outputs": [],
   "source": []
  },
  {
   "cell_type": "markdown",
   "id": "39f62f49",
   "metadata": {},
   "source": [
    "#### H5 Às ultimas semanas dos meses, as lojas deveriam vender MENOS.**."
   ]
  },
  {
   "cell_type": "code",
   "execution_count": null,
   "id": "aea10944",
   "metadata": {},
   "outputs": [],
   "source": []
  },
  {
   "cell_type": "markdown",
   "id": "0321d84d",
   "metadata": {},
   "source": [
    "#### H6 Períodos de promoções, deveriam vender mais."
   ]
  },
  {
   "cell_type": "code",
   "execution_count": null,
   "id": "d1d6af97",
   "metadata": {},
   "outputs": [],
   "source": []
  },
  {
   "cell_type": "markdown",
   "id": "914582e8",
   "metadata": {},
   "source": [
    "#### H7 Lojas com promoções a mais tempo, deveriam vender mais."
   ]
  },
  {
   "cell_type": "code",
   "execution_count": null,
   "id": "89684e2d",
   "metadata": {},
   "outputs": [],
   "source": []
  },
  {
   "cell_type": "markdown",
   "id": "31171fc9",
   "metadata": {
    "heading_collapsed": true
   },
   "source": [
    "#### H8 Lojas com maior sortimento, deveriam vender mais."
   ]
  },
  {
   "cell_type": "code",
   "execution_count": null,
   "id": "affa07eb",
   "metadata": {
    "ExecuteTime": {
     "start_time": "2022-07-17T14:36:13.960Z"
    },
    "hidden": true,
    "scrolled": true
   },
   "outputs": [],
   "source": [
    "temp = df3.groupby('assortment').agg({'sales':'mean'}).reset_index()\n",
    "sns.barplot(x='assortment', y='sales', data=temp)\n",
    "sns.despine()\n",
    "plt.ylabel('')\n",
    "plt.xlabel('')\n",
    "plt.title('Sales by Assortment', fontsize=20);"
   ]
  },
  {
   "cell_type": "markdown",
   "id": "0468c653",
   "metadata": {},
   "source": [
    "#### H9 Lojas com concorrência mais próxima, deveriam vender **MENOS**."
   ]
  },
  {
   "cell_type": "code",
   "execution_count": null,
   "id": "b6653ecd",
   "metadata": {},
   "outputs": [],
   "source": []
  },
  {
   "cell_type": "markdown",
   "id": "6d985228",
   "metadata": {},
   "source": [
    "#### H10 Lojas com concorrência a mais tempo, deveriam vender mais."
   ]
  },
  {
   "cell_type": "code",
   "execution_count": null,
   "id": "a942a6ff",
   "metadata": {},
   "outputs": [],
   "source": []
  },
  {
   "cell_type": "markdown",
   "id": "4d41c2e9",
   "metadata": {
    "heading_collapsed": true
   },
   "source": [
    "## 3.3 Multivariate Analysis"
   ]
  },
  {
   "cell_type": "markdown",
   "id": "d64f5846",
   "metadata": {
    "heading_collapsed": true,
    "hidden": true
   },
   "source": [
    "### 3.3.1 Numerical Attributes"
   ]
  },
  {
   "cell_type": "code",
   "execution_count": null,
   "id": "686a765b",
   "metadata": {
    "ExecuteTime": {
     "start_time": "2022-07-17T14:36:13.969Z"
    },
    "hidden": true
   },
   "outputs": [],
   "source": [
    "sns.heatmap(df3[num_attributes].corr(), annot=True, cbar=False);"
   ]
  },
  {
   "cell_type": "markdown",
   "id": "43609dc2",
   "metadata": {
    "heading_collapsed": true,
    "hidden": true
   },
   "source": [
    "### 3.3.2 Categorical Attributes"
   ]
  },
  {
   "cell_type": "code",
   "execution_count": null,
   "id": "52bc21dd",
   "metadata": {
    "ExecuteTime": {
     "start_time": "2022-07-17T14:36:13.973Z"
    },
    "hidden": true
   },
   "outputs": [],
   "source": [
    "cramer_correlation = []\n",
    "\n",
    "for i, col_1 in enumerate(cat_attributes):\n",
    "    for j, col_2 in enumerate(cat_attributes):\n",
    "        cramer_correlation.append(cramer_v(df3[col_1], df3[col_2]))\n",
    "        \n",
    "matrix = pd.DataFrame(np.array(cramer_correlation).reshape(15, 15), index=cat_attributes, columns=cat_attributes)\n",
    "\n",
    "sns.heatmap(matrix, annot=True, cbar=False);"
   ]
  },
  {
   "cell_type": "markdown",
   "id": "829503ef",
   "metadata": {
    "heading_collapsed": true
   },
   "source": [
    "# 4.0 Data Filtering"
   ]
  },
  {
   "cell_type": "code",
   "execution_count": null,
   "id": "cf36f931",
   "metadata": {
    "ExecuteTime": {
     "start_time": "2022-07-17T14:36:13.976Z"
    },
    "hidden": true
   },
   "outputs": [],
   "source": [
    "df4 = df3.copy()"
   ]
  },
  {
   "cell_type": "markdown",
   "id": "8d0e707e",
   "metadata": {
    "heading_collapsed": true,
    "hidden": true
   },
   "source": [
    "## 4.1 Rows filtering"
   ]
  },
  {
   "cell_type": "markdown",
   "id": "d6a58862",
   "metadata": {
    "hidden": true
   },
   "source": [
    "Filtrando lojas fechadas"
   ]
  },
  {
   "cell_type": "code",
   "execution_count": null,
   "id": "ec08496a",
   "metadata": {
    "ExecuteTime": {
     "start_time": "2022-07-17T14:36:13.980Z"
    },
    "hidden": true
   },
   "outputs": [],
   "source": [
    "df4 = df4.loc[df4['open']!=0]\n",
    "df4 = df4.loc[df4['sales']>0]"
   ]
  },
  {
   "cell_type": "markdown",
   "id": "2e72152a",
   "metadata": {
    "heading_collapsed": true,
    "hidden": true
   },
   "source": [
    "## 4.2 Columns filtering"
   ]
  },
  {
   "cell_type": "code",
   "execution_count": null,
   "id": "da2929c6",
   "metadata": {
    "ExecuteTime": {
     "start_time": "2022-07-17T14:36:13.983Z"
    },
    "hidden": true
   },
   "outputs": [],
   "source": [
    "cols_filtering = ['open', 'customers']\n",
    "df4 = df4.drop(cols_filtering, axis=1)\n",
    "\n",
    "num_attributes.remove('customers')\n",
    "cat_attributes.remove('open')"
   ]
  },
  {
   "cell_type": "markdown",
   "id": "8ed61502",
   "metadata": {
    "hidden": true
   },
   "source": [
    "A coluna customer não poderá seguir para a modelagem, mas permanecerá no dataset para participar da análise exploratória de dados"
   ]
  },
  {
   "cell_type": "markdown",
   "id": "825f39b9",
   "metadata": {
    "heading_collapsed": true
   },
   "source": [
    "# 5.0 Data Preparation"
   ]
  },
  {
   "cell_type": "code",
   "execution_count": null,
   "id": "6f216e77",
   "metadata": {
    "ExecuteTime": {
     "start_time": "2022-07-17T14:36:13.987Z"
    },
    "hidden": true
   },
   "outputs": [],
   "source": [
    "df5 = df4.copy()"
   ]
  },
  {
   "cell_type": "markdown",
   "id": "ecac2d03",
   "metadata": {
    "heading_collapsed": true,
    "hidden": true
   },
   "source": [
    "## 5.1 Features"
   ]
  },
  {
   "cell_type": "markdown",
   "id": "26ff9875",
   "metadata": {
    "heading_collapsed": true,
    "hidden": true
   },
   "source": [
    "### 5.1.1 Normalization"
   ]
  },
  {
   "cell_type": "code",
   "execution_count": null,
   "id": "4d565238",
   "metadata": {
    "hidden": true
   },
   "outputs": [],
   "source": []
  },
  {
   "cell_type": "markdown",
   "id": "a5c1a3fc",
   "metadata": {
    "heading_collapsed": true,
    "hidden": true
   },
   "source": [
    "### 5.1.2 Rescalling"
   ]
  },
  {
   "cell_type": "code",
   "execution_count": null,
   "id": "ce18111d",
   "metadata": {
    "ExecuteTime": {
     "start_time": "2022-07-17T14:36:13.995Z"
    },
    "hidden": true
   },
   "outputs": [],
   "source": [
    "# 'competition_distance'\n",
    "rs_competition_distance = RobustScaler().fit(df5[['competition_distance']].values)\n",
    "df5['competition_distance'] = rs_competition_distance.transform(df5[['competition_distance']].values)\n",
    "\n",
    "# 'competition_time_month'\n",
    "rs_competition_time_month = RobustScaler().fit(df5[['competition_time_month']].values)\n",
    "df5['competition_time_month'] = rs_competition_distance.transform(df5[['competition_time_month']].values)\n",
    "\n",
    "# 'promo2_time_week'\n",
    "mm_promo2_time_week = MinMaxScaler().fit(df5[['promo2_time_week']].values)\n",
    "df5['promo2_time_week'] = mm_promo2_time_week.transform(df5[['promo2_time_week']].values)"
   ]
  },
  {
   "cell_type": "markdown",
   "id": "92b4f765",
   "metadata": {
    "heading_collapsed": true,
    "hidden": true
   },
   "source": [
    "### 5.1.3 Transformation"
   ]
  },
  {
   "cell_type": "markdown",
   "id": "20e54269",
   "metadata": {
    "heading_collapsed": true,
    "hidden": true
   },
   "source": [
    "#### 5.1.3.1 Encoding"
   ]
  },
  {
   "cell_type": "code",
   "execution_count": null,
   "id": "b057ab26",
   "metadata": {
    "ExecuteTime": {
     "start_time": "2022-07-17T14:36:14.000Z"
    },
    "hidden": true
   },
   "outputs": [],
   "source": [
    "# 'state_holiday'\n",
    "map_state_holiday = {'regular_day': 0, 'public_holiday':1, 'easter_holiday':2, 'christmas':3}\n",
    "df5['state_holiday'] = df5['state_holiday'].map(map_state_holiday)\n",
    "\n",
    "# 'store_type'\n",
    "map_store_type = {'a':1, 'b':2, 'c':3, 'd':4}\n",
    "df5['store_type'] = df5['store_type'].map(map_store_type)\n",
    "\n",
    "# 'assortment'\n",
    "map_assortment = {'basic':1, 'extended':2, 'extra':3}\n",
    "df5['assortment'] = df5['assortment'].map(map_assortment)\n",
    "\n",
    "# 'year'\n",
    "map_year = {2013:1, 2014:2, 2015:3}\n",
    "df5['year'] = df5['year'].map(map_year)"
   ]
  },
  {
   "cell_type": "markdown",
   "id": "d381ec98",
   "metadata": {
    "heading_collapsed": true,
    "hidden": true
   },
   "source": [
    "#### 5.1.3.2 Response Variable Transformation"
   ]
  },
  {
   "cell_type": "code",
   "execution_count": null,
   "id": "1c4397e6",
   "metadata": {
    "ExecuteTime": {
     "start_time": "2022-07-17T14:36:14.003Z"
    },
    "hidden": true
   },
   "outputs": [],
   "source": [
    "# 'sales'\n",
    "df5['sales'] = np.log1p(df5['sales'])"
   ]
  },
  {
   "cell_type": "markdown",
   "id": "e16e6b6d",
   "metadata": {
    "heading_collapsed": true,
    "hidden": true
   },
   "source": [
    "#### 5.1.3.3 Nature Transformation"
   ]
  },
  {
   "cell_type": "code",
   "execution_count": null,
   "id": "9c19575a",
   "metadata": {
    "ExecuteTime": {
     "start_time": "2022-07-17T14:36:14.006Z"
    },
    "hidden": true
   },
   "outputs": [],
   "source": [
    "# 'day_of_week'\n",
    "df5['day_of_week'] = df5['date'].dt.dayofweek\n",
    "day_of_week_cicle = df5['day_of_week'].max() - df5['day_of_week'].min() + 1\n",
    "df5['day_of_week_sin'] = df5['day_of_week'].apply(lambda x: np.sin(x*(2*np.pi/day_of_week_cicle)))\n",
    "df5['day_of_week_cos'] = df5['day_of_week'].apply(lambda x: np.cos(x*(2*np.pi/day_of_week_cicle)))\n",
    "df5.drop('day_of_week', axis=1, inplace=True)\n",
    "\n",
    "# 'week'\n",
    "week_cicle = df5['week'].max() - df5['week'].min() + 1\n",
    "df5['week_sin'] = df5['week'].apply(lambda x: np.sin(x*(2*np.pi/week_cicle)))\n",
    "df5['week_cos'] = df5['week'].apply(lambda x: np.cos(x*(2*np.pi/week_cicle)))\n",
    "df5.drop('week', axis=1, inplace=True)\n",
    "\n",
    "# 'year_quarters'\n",
    "year_quarters_cicle = df5['year_quarters'].max() - df5['year_quarters'].min() + 1\n",
    "df5['year_quarters_sin'] = df5['year_quarters'].apply(lambda x: np.sin(x*(2*np.pi/year_quarters_cicle)))\n",
    "df5['year_quarters_cos'] = df5['year_quarters'].apply(lambda x: np.cos(x*(2*np.pi/year_quarters_cicle)))\n",
    "df5.drop('year_quarters', axis=1, inplace=True)"
   ]
  },
  {
   "cell_type": "markdown",
   "id": "477468a7",
   "metadata": {
    "heading_collapsed": true,
    "hidden": true
   },
   "source": [
    "## 5.2 Splits"
   ]
  },
  {
   "cell_type": "code",
   "execution_count": null,
   "id": "a63721dd",
   "metadata": {
    "ExecuteTime": {
     "start_time": "2022-07-17T14:36:14.009Z"
    },
    "hidden": true
   },
   "outputs": [],
   "source": [
    "# Train and Validation\n",
    "X_train = df5.loc[df5['date'] < df5['date'].max() - pd.Timedelta(6, 'w')].drop(['sales', 'date', 'store'], axis=1).values\n",
    "y_train = df5.loc[df5['date'] < df5['date'].max() - pd.Timedelta(6, 'w'), 'sales'].values.ravel()\n",
    "\n",
    "X_test = df5.loc[df5['date'] >= df5['date'].max() - pd.Timedelta(6, 'w')].drop(['sales', 'date', 'store'], axis=1).values\n",
    "y_test = df5.loc[df5['date'] >= df5['date'].max() - pd.Timedelta(6, 'w'), 'sales'].values.ravel()"
   ]
  },
  {
   "cell_type": "markdown",
   "id": "92c66ef1",
   "metadata": {
    "heading_collapsed": true,
    "hidden": true
   },
   "source": [
    "## 5.3 Test Processing"
   ]
  },
  {
   "cell_type": "code",
   "execution_count": null,
   "id": "8abe158f",
   "metadata": {
    "ExecuteTime": {
     "start_time": "2022-07-17T14:36:14.012Z"
    },
    "hidden": true
   },
   "outputs": [],
   "source": [
    "# rename columns\n",
    "cols_new_ = cols_new.copy()\n",
    "cols_new_.remove('sales')\n",
    "test.columns = cols_new_"
   ]
  },
  {
   "cell_type": "code",
   "execution_count": null,
   "id": "1d472f34",
   "metadata": {
    "ExecuteTime": {
     "start_time": "2022-07-17T14:36:14.015Z"
    },
    "hidden": true
   },
   "outputs": [],
   "source": [
    "# changing date datatype\n",
    "test['date'] = pd.to_datetime(test['date'])\n",
    "\n",
    "# competition_distance\n",
    "test.loc[test['competition_distance'].isna(), 'competition_distance'] = constant_competition_distance\n",
    "\n",
    "# competition_open_since_month\n",
    "test['competition_open_since_month'] = test.apply(lambda x: x['date'].month if np.isnan(x['competition_open_since_month']) else x['competition_open_since_month'], axis=1) \n",
    "\n",
    "# competition_open_since_year\n",
    "test['competition_open_since_year'] = test.apply(lambda x: x['date'].year if np.isnan(x['competition_open_since_year']) else x['competition_open_since_year'], axis=1)\n",
    "\n",
    "# promo2_since_week\n",
    "test['promo2_since_week'] = test.apply(lambda x: x['date'].week if np.isnan(x['promo2_since_week']) else x['promo2_since_week'], axis=1)\n",
    "\n",
    "# promo2_since_year\n",
    "test['promo2_since_year'] = test.apply(lambda x: x['date'].year if np.isnan(x['promo2_since_year']) else x['promo2_since_year'], axis=1)\n",
    "\n",
    "# promo_interval\n",
    "test['promo_interval'].fillna(0, inplace=True)\n",
    "test['month_map'] = test['date'].dt.month.map(month_map)\n",
    "test['is_promo'] = test[['promo_interval', 'month_map']].apply(lambda x: 0 if x['promo_interval'] == 0 else 1 if x['month_map'] in x['promo_interval'].split(',') else 0, axis=1)\n",
    "test.drop(['promo_interval', 'month_map'], axis=1, inplace=True)\n",
    "\n",
    "# change datatypes\n",
    "test['competition_open_since_month'] = test['competition_open_since_month'].astype('int')\n",
    "test['competition_open_since_year'] = test['competition_open_since_year'].astype('int')\n",
    "\n",
    "test['promo2_since_week'] = test['promo2_since_week'].astype('int')\n",
    "test['promo2_since_year'] = test['promo2_since_year'].astype('int')\n",
    "\n",
    "# week\n",
    "test['week'] = test['date'].dt.isocalendar().week\n",
    "\n",
    "# year\n",
    "test['year'] = test['date'].dt.year\n",
    "\n",
    "# quarters\n",
    "test['year_quarters'] = test['date'].dt.month.apply(lambda x: 1 if x <= 3 else (2 if x <= 6 else (3 if x <= 9 else 4)))\n",
    "\n",
    "# weekends\n",
    "test['weekends'] = test['date'].dt.day_name().apply(lambda x: 0 if x not in ['Friday', 'Saturday'] else 1)\n",
    "\n",
    "# last_week_of_month\n",
    "test['last_week_of_month'] = test['date'].dt.day.apply(lambda x: 0 if x <= 23 else 1)\n",
    "\n",
    "# competition_since\n",
    "test['competition_since'] = test.apply(lambda x: datetime.datetime(day=1, month=x['competition_open_since_month'], year=x['competition_open_since_year']), axis=1)\n",
    "test['competition_time_month'] = ((test['date'] - test['competition_since']) / 30).apply(lambda x: x.days).astype('int')\n",
    "test.drop(['competition_since', 'competition_open_since_month', 'competition_open_since_year'], axis=1, inplace=True)\n",
    "\n",
    "# promo_since\n",
    "test['promo2_since'] = test['promo2_since_year'].astype(str) + '-' + test['promo2_since_week'].astype(str)\n",
    "test['promo2_since'] = test['promo2_since'].apply(lambda x: datetime.datetime.strptime(x + '-1', '%Y-%W-%w') - datetime.timedelta(days=7))\n",
    "test['promo2_time_week'] = ((test['date'] - test['promo2_since']) / 7).apply(lambda x: x.days).astype(int)\n",
    "test.drop(['promo2_since', 'promo2_since_year', 'promo2_since_week'], axis=1, inplace=True)\n",
    "\n",
    "# assortment\n",
    "test['assortment'] = test['assortment'].apply(lambda x: 'basic' if x=='a' else 'extra' if x=='b' else 'extended')\n",
    "\n",
    "# state_holiday\n",
    "test['state_holiday'] = test['state_holiday'].apply(lambda x: 'public_holiday' if x=='a' else 'easter_holiday' if x=='b' else 'christmas' if x=='c' else 'regular_day')\n",
    "\n",
    "# day_of_week\n",
    "test['day_of_week'] = test['date'].dt.day_name()\n",
    "\n",
    "# rows filtering\n",
    "test = test.loc[test['open']!=0]\n",
    "\n",
    "# columns filtering\n",
    "test = test.drop(cols_filtering, axis=1)\n",
    "\n",
    "# 'competition_distance'\n",
    "test['competition_distance'] = rs_competition_distance.transform(test[['competition_distance']].values)\n",
    "\n",
    "# 'competition_time_month'\n",
    "test['competition_time_month'] = rs_competition_distance.transform(test[['competition_time_month']].values)\n",
    "\n",
    "# 'promo2_time_week'\n",
    "test['promo2_time_week'] = mm_promo2_time_week.transform(test[['promo2_time_week']].values)\n",
    "\n",
    "# 'state_holiday'\n",
    "test['state_holiday'] = test['state_holiday'].map(map_state_holiday)\n",
    "\n",
    "# 'store_type'\n",
    "test['store_type'] = test['store_type'].map(map_store_type)\n",
    "\n",
    "# 'assortment'\n",
    "test['assortment'] = test['assortment'].map(map_assortment)\n",
    "\n",
    "# 'year'\n",
    "test['year'] = test['year'].map(map_year)\n",
    "\n",
    "# 'day_of_week'\n",
    "test['day_of_week'] = test['date'].dt.dayofweek\n",
    "test['day_of_week_sin'] = test['day_of_week'].apply(lambda x: np.sin(x*(2*np.pi/day_of_week_cicle)))\n",
    "test['day_of_week_cos'] = test['day_of_week'].apply(lambda x: np.cos(x*(2*np.pi/day_of_week_cicle)))\n",
    "test.drop('day_of_week', axis=1, inplace=True)\n",
    "\n",
    "# 'week'\n",
    "test['week_sin'] = test['week'].apply(lambda x: np.sin(x*(2*np.pi/week_cicle)))\n",
    "test['week_cos'] = test['week'].apply(lambda x: np.cos(x*(2*np.pi/week_cicle)))\n",
    "test.drop('week', axis=1, inplace=True)\n",
    "\n",
    "# 'year_quarters'\n",
    "test['year_quarters_sin'] = test['year_quarters'].apply(lambda x: np.sin(x*(2*np.pi/year_quarters_cicle)))\n",
    "test['year_quarters_cos'] = test['year_quarters'].apply(lambda x: np.cos(x*(2*np.pi/year_quarters_cicle)))\n",
    "test.drop('year_quarters', axis=1, inplace=True)"
   ]
  },
  {
   "cell_type": "markdown",
   "id": "16d42bb2",
   "metadata": {
    "heading_collapsed": true
   },
   "source": [
    "# 6.0 Feature Selection"
   ]
  },
  {
   "cell_type": "code",
   "execution_count": null,
   "id": "1f905867",
   "metadata": {
    "ExecuteTime": {
     "start_time": "2022-07-17T14:36:14.019Z"
    },
    "hidden": true
   },
   "outputs": [],
   "source": [
    "df6 = df5.copy()"
   ]
  },
  {
   "cell_type": "markdown",
   "id": "cd5bf0c5",
   "metadata": {
    "heading_collapsed": true,
    "hidden": true
   },
   "source": [
    "## 6.1 Embedded Method"
   ]
  },
  {
   "cell_type": "markdown",
   "id": "a38e7730",
   "metadata": {
    "heading_collapsed": true,
    "hidden": true
   },
   "source": [
    "### 6.1.1 Random Forest Regressor"
   ]
  },
  {
   "cell_type": "code",
   "execution_count": null,
   "id": "e2b1a136",
   "metadata": {
    "ExecuteTime": {
     "start_time": "2022-07-17T14:36:14.023Z"
    },
    "hidden": true
   },
   "outputs": [],
   "source": [
    "# model definition\n",
    "rf_model = RandomForestRegressor(n_estimators=100, \n",
    "                                 min_samples_leaf=1000)\n",
    "\n",
    "# fiting model\n",
    "rf_fit = rf_model.fit(X_train, y_train)\n",
    "\n",
    "# predicting\n",
    "y_hat = rf_fit.predict(X_test)\n",
    "\n",
    "# metrics\n",
    "mean_absolute_error = np.mean(np.abs(np.expm1(y_test) - np.expm1(y_hat))) # mean absolute error\n",
    "mean_absolute_percentage_error = np.mean(mean_absolute_error / np.expm1(y_test)) # mean absolute percentage error\n",
    "\n",
    "print(f\"MAE: {mean_absolute_error}\")\n",
    "print(f\"MAPE: {mean_absolute_percentage_error}\")\n",
    "print(f\"RMSE: {np.sqrt(mean_squared_error(np.expm1(y_test), np.expm1(y_hat)))}\")"
   ]
  },
  {
   "cell_type": "markdown",
   "id": "465a7fff",
   "metadata": {
    "heading_collapsed": true,
    "hidden": true
   },
   "source": [
    "### 6.1.2 XGBoost Regressor"
   ]
  },
  {
   "cell_type": "code",
   "execution_count": null,
   "id": "dd2324d8",
   "metadata": {
    "ExecuteTime": {
     "start_time": "2022-07-17T14:36:14.026Z"
    },
    "hidden": true
   },
   "outputs": [],
   "source": [
    "# model definition\n",
    "xgb_model = XGBRegressor()\n",
    "\n",
    "# fiting model\n",
    "xgb_fit = xgb_model.fit(X_train, y_train)\n",
    "\n",
    "# predicting\n",
    "y_hat = xgb_fit.predict(X_test)\n",
    "\n",
    "# metrics\n",
    "mean_absolute_error = np.mean(np.abs(np.expm1(y_test) - np.expm1(y_hat))) # mean absolute error\n",
    "mean_absolute_percentage_error = np.mean(mean_absolute_error / np.expm1(y_test)) # mean absolute percentage error\n",
    "\n",
    "print(f\"MAE: {mean_absolute_error}\")\n",
    "print(f\"MAPE: {mean_absolute_percentage_error}\")\n",
    "print(f\"RMSE: {np.sqrt(mean_squared_error(np.expm1(y_test), np.expm1(y_hat)))}\")"
   ]
  },
  {
   "cell_type": "markdown",
   "id": "6a2cc006",
   "metadata": {
    "hidden": true
   },
   "source": [
    "## 6.2 Wrapper Method"
   ]
  },
  {
   "cell_type": "markdown",
   "id": "8e007db0",
   "metadata": {
    "heading_collapsed": true,
    "hidden": true
   },
   "source": [
    "### 6.2.1 Boruta"
   ]
  },
  {
   "cell_type": "code",
   "execution_count": null,
   "id": "95236e9e",
   "metadata": {
    "ExecuteTime": {
     "start_time": "2022-07-17T14:36:14.030Z"
    },
    "hidden": true
   },
   "outputs": [],
   "source": [
    "# boruta_fit = BorutaPy(XGBRegressor()).fit(X_train, y_train)\n",
    "\n",
    "boruta_fit = pickle.load(open('D:\\\\My Drive\\\\Pessoal\\\\Projetos\\\\rossmann_sales_predict\\\\data\\\\interim\\\\boruta_fit', 'rb'))\n",
    "boruta_ranking = boruta_fit.ranking_"
   ]
  },
  {
   "cell_type": "markdown",
   "id": "5ab95b0f",
   "metadata": {
    "heading_collapsed": true,
    "hidden": true
   },
   "source": [
    "### 6.2.2 RFE"
   ]
  },
  {
   "cell_type": "code",
   "execution_count": null,
   "id": "f5a534e2",
   "metadata": {
    "ExecuteTime": {
     "start_time": "2022-07-17T14:36:14.033Z"
    },
    "hidden": true
   },
   "outputs": [],
   "source": [
    "# rfe_fit = RFE(XGBRegressor(), n_features_to_select=1).fit(X_train, y_train)\n",
    "\n",
    "rfe_fit = pickle.load(open('D:\\\\My Drive\\\\Pessoal\\\\Projetos\\\\rossmann_sales_predict\\\\data\\\\interim\\\\rfe_fit', 'rb'))\n",
    "rfe_ranking = rfe_fit.ranking_"
   ]
  },
  {
   "cell_type": "markdown",
   "id": "a9c7853d",
   "metadata": {
    "heading_collapsed": true,
    "hidden": true
   },
   "source": [
    "## 6.3 Defining"
   ]
  },
  {
   "cell_type": "code",
   "execution_count": null,
   "id": "b7269bef",
   "metadata": {
    "ExecuteTime": {
     "start_time": "2022-07-17T14:36:14.037Z"
    },
    "hidden": true,
    "scrolled": false
   },
   "outputs": [],
   "source": [
    "rf_importances = rf_fit.feature_importances_\n",
    "xgb_importances = xgb_fit.feature_importances_\n",
    "\n",
    "cols = df5.drop(['sales', 'date'], axis=1).columns\n",
    "importances = pd.DataFrame([cols, rf_importances, xgb_importances], index=['feature', 'rf_importances', 'xgb_importances']).T\n",
    "importances.fillna(0, inplace=True)\n",
    "importances.sort_values('xgb_importances', ascending=False)"
   ]
  },
  {
   "cell_type": "code",
   "execution_count": null,
   "id": "2673de7a",
   "metadata": {
    "ExecuteTime": {
     "start_time": "2022-07-17T14:36:14.040Z"
    },
    "hidden": true
   },
   "outputs": [],
   "source": [
    "sns.barplot(data=importances.sort_values('rf_importances', ascending=False), x='rf_importances', y='feature', color='r', alpha=0.3)\n",
    "sns.despine(left=True, bottom=True)\n",
    "plt.title('Random Forest')\n",
    "plt.xlim(0, 0.4)\n",
    "plt.xlabel('')\n",
    "plt.ylabel('');"
   ]
  },
  {
   "cell_type": "code",
   "execution_count": null,
   "id": "ae7c2079",
   "metadata": {
    "ExecuteTime": {
     "start_time": "2022-07-17T14:36:14.042Z"
    },
    "hidden": true
   },
   "outputs": [],
   "source": [
    "sns.barplot(data=importances.sort_values('xgb_importances', ascending=False), x='xgb_importances', y='feature', color='r', alpha=0.3)\n",
    "sns.despine(left=True, bottom=True)\n",
    "plt.title('XGBoost')\n",
    "plt.xlim(0, 0.4)\n",
    "plt.xlabel('')\n",
    "plt.ylabel('');"
   ]
  },
  {
   "cell_type": "code",
   "execution_count": null,
   "id": "6ef34bcc",
   "metadata": {
    "ExecuteTime": {
     "start_time": "2022-07-17T14:36:14.045Z"
    },
    "hidden": true
   },
   "outputs": [],
   "source": [
    "pd.DataFrame([cols, boruta_ranking, rfe_ranking], index=['feature', 'boruta_ranking', 'rfe_ranking']).T.sort_values('rfe_ranking')"
   ]
  },
  {
   "cell_type": "markdown",
   "id": "f57d1d31",
   "metadata": {
    "heading_collapsed": true,
    "hidden": true
   },
   "source": [
    "## 6.4 Droping Features"
   ]
  },
  {
   "cell_type": "code",
   "execution_count": null,
   "id": "70662b51",
   "metadata": {
    "ExecuteTime": {
     "start_time": "2022-07-17T14:36:14.048Z"
    },
    "hidden": true
   },
   "outputs": [],
   "source": [
    "cols_feature_selection = 'is_promo state_holiday year weekends school_holiday last_week_of_month'.split()\n",
    "df6.drop(cols_feature_selection, axis=1, inplace=True)\n",
    "test.drop(cols_feature_selection, axis=1, inplace=True)"
   ]
  },
  {
   "cell_type": "markdown",
   "id": "d77fc08c",
   "metadata": {
    "heading_collapsed": true
   },
   "source": [
    "# 7.0 Machine Learning Modeling"
   ]
  },
  {
   "cell_type": "code",
   "execution_count": null,
   "id": "f17d9f5d",
   "metadata": {
    "ExecuteTime": {
     "start_time": "2022-07-17T14:36:14.051Z"
    },
    "hidden": true
   },
   "outputs": [],
   "source": [
    "df7 = df6.copy()"
   ]
  },
  {
   "cell_type": "markdown",
   "id": "92ec850f",
   "metadata": {
    "heading_collapsed": true,
    "hidden": true
   },
   "source": [
    "## 7.1 Splits"
   ]
  },
  {
   "cell_type": "code",
   "execution_count": null,
   "id": "29c9dc6d",
   "metadata": {
    "ExecuteTime": {
     "start_time": "2022-07-17T14:36:14.054Z"
    },
    "hidden": true
   },
   "outputs": [],
   "source": [
    "# Train and Validation\n",
    "X_train = df7.loc[df7['date'] < df7['date'].max() - pd.Timedelta(6, 'w')].drop(['sales', 'date', 'store'], axis=1).values\n",
    "y_train = df7.loc[df7['date'] < df7['date'].max() - pd.Timedelta(6, 'w'), 'sales'].values.ravel()\n",
    "\n",
    "X_test = df7.loc[df7['date'] >= df7['date'].max() - pd.Timedelta(6, 'w')].drop(['sales', 'date', 'store'], axis=1).values\n",
    "y_test = df7.loc[df7['date'] >= df7['date'].max() - pd.Timedelta(6, 'w'), 'sales'].values.ravel()"
   ]
  },
  {
   "cell_type": "markdown",
   "id": "a5054212",
   "metadata": {
    "heading_collapsed": true,
    "hidden": true
   },
   "source": [
    "## 7.2 Models"
   ]
  },
  {
   "cell_type": "markdown",
   "id": "32e13ac8",
   "metadata": {
    "heading_collapsed": true,
    "hidden": true
   },
   "source": [
    "### 7.2.1 Linear Regression"
   ]
  },
  {
   "cell_type": "code",
   "execution_count": null,
   "id": "28cdbc0e",
   "metadata": {
    "ExecuteTime": {
     "start_time": "2022-07-17T14:36:14.059Z"
    },
    "hidden": true
   },
   "outputs": [],
   "source": [
    "# model definition\n",
    "lr_model = LinearRegression()\n",
    "\n",
    "# fiting model\n",
    "lr_fit = lr_model.fit(X_train, y_train)\n",
    "\n",
    "# predicting\n",
    "y_hat = lr_fit.predict(X_test)\n",
    "\n",
    "# metrics\n",
    "metrics(y_test, y_hat)"
   ]
  },
  {
   "cell_type": "markdown",
   "id": "f6e9e336",
   "metadata": {
    "heading_collapsed": true,
    "hidden": true
   },
   "source": [
    "#### 7.2.1.1 Cross Validation"
   ]
  },
  {
   "cell_type": "code",
   "execution_count": null,
   "id": "e7e8e6bd",
   "metadata": {
    "ExecuteTime": {
     "start_time": "2022-07-17T14:36:14.062Z"
    },
    "hidden": true
   },
   "outputs": [],
   "source": [
    "error = pd.DataFrame()\n",
    "error, lr_cross_validation_metrics = cross_validation(df7, error, 5, 'Linear Regression', lr_model)\n",
    "\n",
    "lr_cross_validation_metrics.T"
   ]
  },
  {
   "cell_type": "markdown",
   "id": "5354ad84",
   "metadata": {
    "heading_collapsed": true,
    "hidden": true
   },
   "source": [
    "### 7.2.2 Lasso"
   ]
  },
  {
   "cell_type": "code",
   "execution_count": null,
   "id": "b6d7664a",
   "metadata": {
    "ExecuteTime": {
     "start_time": "2022-07-17T14:36:14.065Z"
    },
    "hidden": true
   },
   "outputs": [],
   "source": [
    "# model definition\n",
    "lasso_model = Lasso()\n",
    "\n",
    "# fiting model\n",
    "lasso_fit = lasso_model.fit(X_train, y_train)\n",
    "\n",
    "# predicting\n",
    "y_hat = lasso_fit.predict(X_test)\n",
    "\n",
    "# metrics\n",
    "metrics(y_test, y_hat)"
   ]
  },
  {
   "cell_type": "markdown",
   "id": "49e48096",
   "metadata": {
    "heading_collapsed": true,
    "hidden": true
   },
   "source": [
    "#### 7.2.2.1 Cross Validation"
   ]
  },
  {
   "cell_type": "code",
   "execution_count": null,
   "id": "1706b640",
   "metadata": {
    "ExecuteTime": {
     "start_time": "2022-07-17T14:36:14.068Z"
    },
    "hidden": true
   },
   "outputs": [],
   "source": [
    "error, lasso_cross_validation_metrics = cross_validation(df7, error, 5, 'Lasso', lasso_model)\n",
    "\n",
    "lasso_cross_validation_metrics.T"
   ]
  },
  {
   "cell_type": "markdown",
   "id": "c9518bd6",
   "metadata": {
    "heading_collapsed": true,
    "hidden": true
   },
   "source": [
    "### 7.2.3 Random Forest"
   ]
  },
  {
   "cell_type": "code",
   "execution_count": null,
   "id": "179bdd96",
   "metadata": {
    "ExecuteTime": {
     "start_time": "2022-07-17T14:36:14.072Z"
    },
    "hidden": true
   },
   "outputs": [],
   "source": [
    "# model definition\n",
    "rf_model = RandomForestRegressor(n_estimators=100, \n",
    "                                 min_samples_leaf=1000)\n",
    "\n",
    "# fiting model\n",
    "rf_fit = rf_model.fit(X_train, y_train)\n",
    "\n",
    "# predicting\n",
    "y_hat = rf_fit.predict(X_test)\n",
    "\n",
    "# metrics\n",
    "metrics(y_test, y_hat)"
   ]
  },
  {
   "cell_type": "markdown",
   "id": "3f6fc66f",
   "metadata": {
    "heading_collapsed": true,
    "hidden": true
   },
   "source": [
    "#### 7.2.3.1 Cross Validation"
   ]
  },
  {
   "cell_type": "code",
   "execution_count": null,
   "id": "666e8643",
   "metadata": {
    "ExecuteTime": {
     "start_time": "2022-07-17T14:36:14.075Z"
    },
    "hidden": true
   },
   "outputs": [],
   "source": [
    "error, rf_cross_validation_metrics = cross_validation(df7, error, 5, 'Random Forest', rf_model)\n",
    "\n",
    "rf_cross_validation_metrics.T"
   ]
  },
  {
   "cell_type": "markdown",
   "id": "9684b276",
   "metadata": {
    "heading_collapsed": true,
    "hidden": true
   },
   "source": [
    "### 7.2.4 XGBoost"
   ]
  },
  {
   "cell_type": "code",
   "execution_count": null,
   "id": "01a6a64e",
   "metadata": {
    "ExecuteTime": {
     "start_time": "2022-07-17T14:36:14.079Z"
    },
    "hidden": true
   },
   "outputs": [],
   "source": [
    "# model definition\n",
    "xgb_model = XGBRegressor()\n",
    "\n",
    "# fiting model\n",
    "xgb_fit = xgb_model.fit(X_train, y_train)\n",
    "\n",
    "# predicting\n",
    "y_hat = xgb_fit.predict(X_test)\n",
    "\n",
    "# metrics\n",
    "metrics(y_test, y_hat)"
   ]
  },
  {
   "cell_type": "markdown",
   "id": "ecfc1ae2",
   "metadata": {
    "heading_collapsed": true,
    "hidden": true
   },
   "source": [
    "#### 7.2.4.1 Cross Validation"
   ]
  },
  {
   "cell_type": "code",
   "execution_count": null,
   "id": "db2b4393",
   "metadata": {
    "ExecuteTime": {
     "start_time": "2022-07-17T14:36:14.082Z"
    },
    "hidden": true
   },
   "outputs": [],
   "source": [
    "error, xgb_cross_validation_metrics = cross_validation(df7, error, 5, 'XGBoost', xgb_model)\n",
    "\n",
    "xgb_cross_validation_metrics.T"
   ]
  },
  {
   "cell_type": "markdown",
   "id": "d3f2c372",
   "metadata": {},
   "source": [
    "# 8.0 Model Performance"
   ]
  },
  {
   "cell_type": "code",
   "execution_count": null,
   "id": "616be660",
   "metadata": {
    "ExecuteTime": {
     "start_time": "2022-07-17T14:36:14.084Z"
    }
   },
   "outputs": [],
   "source": [
    "df8 = df7.copy()"
   ]
  },
  {
   "cell_type": "markdown",
   "id": "6fab1a89",
   "metadata": {
    "heading_collapsed": true
   },
   "source": [
    "## 8.1 Machine Learning Performance"
   ]
  },
  {
   "cell_type": "code",
   "execution_count": null,
   "id": "8a4b8c16",
   "metadata": {
    "ExecuteTime": {
     "start_time": "2022-07-17T14:36:14.087Z"
    },
    "hidden": true,
    "scrolled": true
   },
   "outputs": [],
   "source": [
    "error.T"
   ]
  },
  {
   "cell_type": "markdown",
   "id": "06404241",
   "metadata": {
    "hidden": true
   },
   "source": [
    "O modelo que seguirá para a produção será o XGBoost Regressor"
   ]
  },
  {
   "cell_type": "markdown",
   "id": "6ed5a9f8",
   "metadata": {},
   "source": [
    "## 8.2 Business Performance"
   ]
  },
  {
   "cell_type": "code",
   "execution_count": null,
   "id": "22f59c7d",
   "metadata": {},
   "outputs": [],
   "source": []
  },
  {
   "cell_type": "markdown",
   "id": "16f73c91",
   "metadata": {},
   "source": [
    "# 9.0 Exportings"
   ]
  },
  {
   "cell_type": "code",
   "execution_count": null,
   "id": "559e8488",
   "metadata": {
    "ExecuteTime": {
     "start_time": "2022-07-17T14:36:14.093Z"
    }
   },
   "outputs": [],
   "source": [
    "# constant_competition_distance\n",
    "pickle.dump(constant_competition_distance, open('D:\\\\My Drive\\\\Pessoal\\\\Projetos\\\\rossmann_sales_predict\\\\src\\\\features\\\\constant_competition_distance.pkl', 'wb'))\n",
    "\n",
    "# month_map\n",
    "pickle.dump(month_map, open('D:\\\\My Drive\\\\Pessoal\\\\Projetos\\\\rossmann_sales_predict\\\\src\\\\features\\\\month_map.pkl', 'wb'))\n",
    "\n",
    "# cols_filtering\n",
    "pickle.dump(cols_filtering, open('D:\\\\My Drive\\\\Pessoal\\\\Projetos\\\\rossmann_sales_predict\\\\src\\\\features\\\\cols_filtering.pkl', 'wb'))\n",
    "\n",
    "# rs_competition_distance\n",
    "pickle.dump(rs_competition_distance, open('D:\\\\My Drive\\\\Pessoal\\\\Projetos\\\\rossmann_sales_predict\\\\src\\\\features\\\\rs_competition_distance.pkl', 'wb'))\n",
    "\n",
    "# rs_competition_time_month\n",
    "pickle.dump(rs_competition_time_month, open('D:\\\\My Drive\\\\Pessoal\\\\Projetos\\\\rossmann_sales_predict\\\\src\\\\features\\\\rs_competition_time_month.pkl', 'wb'))\n",
    "\n",
    "# mm_promo2_time_week\n",
    "pickle.dump(mm_promo2_time_week, open('D:\\\\My Drive\\\\Pessoal\\\\Projetos\\\\rossmann_sales_predict\\\\src\\\\features\\\\mm_promo2_time_week.pkl', 'wb'))\n",
    "\n",
    "# map_state_holiday\n",
    "pickle.dump(map_state_holiday, open('D:\\\\My Drive\\\\Pessoal\\\\Projetos\\\\rossmann_sales_predict\\\\src\\\\features\\\\map_state_holiday.pkl', 'wb'))\n",
    "\n",
    "# map_store_type\n",
    "pickle.dump(map_store_type, open('D:\\\\My Drive\\\\Pessoal\\\\Projetos\\\\rossmann_sales_predict\\\\src\\\\features\\\\map_store_type.pkl', 'wb'))\n",
    "\n",
    "# map_assortment\n",
    "pickle.dump(map_assortment, open('D:\\\\My Drive\\\\Pessoal\\\\Projetos\\\\rossmann_sales_predict\\\\src\\\\features\\\\map_assortment.pkl', 'wb'))\n",
    "\n",
    "# map_year\n",
    "pickle.dump(map_year, open('D:\\\\My Drive\\\\Pessoal\\\\Projetos\\\\rossmann_sales_predict\\\\src\\\\features\\\\map_year.pkl', 'wb'))\n",
    "\n",
    "# day_of_week_cicle\n",
    "pickle.dump(day_of_week_cicle, open('D:\\\\My Drive\\\\Pessoal\\\\Projetos\\\\rossmann_sales_predict\\\\src\\\\features\\\\day_of_week_cicle.pkl', 'wb'))\n",
    "\n",
    "# week_cicle\n",
    "pickle.dump(week_cicle, open('D:\\\\My Drive\\\\Pessoal\\\\Projetos\\\\rossmann_sales_predict\\\\src\\\\features\\\\week_cicle.pkl', 'wb'))\n",
    "\n",
    "# year_quarters_cicle\n",
    "pickle.dump(year_quarters_cicle, open('D:\\\\My Drive\\\\Pessoal\\\\Projetos\\\\rossmann_sales_predict\\\\src\\\\features\\\\year_quarters_cicle.pkl', 'wb'))\n",
    "\n",
    "# boruta_fit\n",
    "pickle.dump(boruta_fit, open('D:\\\\My Drive\\\\Pessoal\\\\Projetos\\\\rossmann_sales_predict\\\\data\\\\interim\\\\boruta_fit.pkl', 'wb'))\n",
    "\n",
    "# rfe_fit\n",
    "pickle.dump(rfe_fit, open('D:\\\\My Drive\\\\Pessoal\\\\Projetos\\\\rossmann_sales_predict\\\\data\\\\interim\\\\rfe_fit.pkl', 'wb'))\n",
    "\n",
    "# cols_feature_selection\n",
    "pickle.dump(cols_feature_selection, open('D:\\\\My Drive\\\\Pessoal\\\\Projetos\\\\rossmann_sales_predict\\\\src\\\\features\\\\cols_feature_selection.pkl', 'wb'))\n",
    "\n",
    "# xgb_fit\n",
    "pickle.dump(xgb_fit, open('D:\\\\My Drive\\\\Pessoal\\\\Projetos\\\\rossmann_sales_predict\\\\src\\\\models\\\\xgb_fit.pkl', 'wb'))"
   ]
  },
  {
   "cell_type": "markdown",
   "id": "816c1fd6",
   "metadata": {},
   "source": [
    "# 10.0 API Deployed at Heroku"
   ]
  },
  {
   "cell_type": "markdown",
   "id": "b3cefdcd",
   "metadata": {},
   "source": [
    "## 10.1 Rossmann Class"
   ]
  },
  {
   "cell_type": "code",
   "execution_count": null,
   "id": "43636f48",
   "metadata": {},
   "outputs": [],
   "source": []
  },
  {
   "cell_type": "markdown",
   "id": "6460df8f",
   "metadata": {},
   "source": [
    "## 10.2 Handler API"
   ]
  },
  {
   "cell_type": "code",
   "execution_count": null,
   "id": "d030d7f8",
   "metadata": {},
   "outputs": [],
   "source": []
  },
  {
   "cell_type": "markdown",
   "id": "0ab042e4",
   "metadata": {},
   "source": [
    "## 10.3 API Tester"
   ]
  },
  {
   "cell_type": "code",
   "execution_count": null,
   "id": "aa91f13c",
   "metadata": {
    "ExecuteTime": {
     "start_time": "2022-07-17T14:36:14.101Z"
    }
   },
   "outputs": [],
   "source": [
    "test_raw_json = test_raw.to_json(orient='records')\n",
    "\n",
    "url = 'http://192.168.15.8:5000/predict'\n",
    "# url = 'https://api-top-bank.herokuapp.com/predict'\n",
    "headers = {'Content-type':'application/json'}\n",
    "data = test_raw_json\n",
    "\n",
    "df10_json = requests.post(url=url, headers=headers, data=data)\n",
    "\n",
    "print(f'Status request code: {df10_json.status_code}')\n",
    "\n",
    "df = pd.DataFrame(df10_json.json(), columns=df10_json.json()[0].keys())\n",
    "df.head()"
   ]
  },
  {
   "cell_type": "markdown",
   "id": "4c778220",
   "metadata": {},
   "source": [
    "# Time"
   ]
  },
  {
   "cell_type": "code",
   "execution_count": null,
   "id": "ca8f2413",
   "metadata": {
    "ExecuteTime": {
     "start_time": "2022-07-17T14:36:14.104Z"
    }
   },
   "outputs": [],
   "source": [
    "print(f'O tempo de processamento do projeto foi de: {int(round(time.time()-time_agora, 2)/60)} minutos')"
   ]
  }
 ],
 "metadata": {
  "kernelspec": {
   "display_name": "Python 3 (ipykernel)",
   "language": "python",
   "name": "python3"
  },
  "language_info": {
   "codemirror_mode": {
    "name": "ipython",
    "version": 3
   },
   "file_extension": ".py",
   "mimetype": "text/x-python",
   "name": "python",
   "nbconvert_exporter": "python",
   "pygments_lexer": "ipython3",
   "version": "3.9.12"
  }
 },
 "nbformat": 4,
 "nbformat_minor": 5
}
