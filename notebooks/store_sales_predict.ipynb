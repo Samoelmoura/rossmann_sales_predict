{
 "cells": [
  {
   "cell_type": "markdown",
   "id": "9f3b8cfa",
   "metadata": {
    "ExecuteTime": {
     "end_time": "2022-02-22T17:35:18.052468Z",
     "start_time": "2022-02-22T17:35:14.947090Z"
    }
   },
   "source": [
    "# 0.0 Imports"
   ]
  },
  {
   "cell_type": "code",
   "execution_count": 1,
   "id": "ff551761",
   "metadata": {
    "ExecuteTime": {
     "end_time": "2022-03-08T20:05:30.680986Z",
     "start_time": "2022-03-08T20:05:23.620395Z"
    }
   },
   "outputs": [],
   "source": [
    "import matplotlib.pyplot as plt\n",
    "import numpy as np\n",
    "import pandas as pd\n",
    "import seaborn as sns\n",
    "\n",
    "import inflection"
   ]
  },
  {
   "cell_type": "markdown",
   "id": "7c8adfc4",
   "metadata": {
    "ExecuteTime": {
     "end_time": "2022-02-22T17:35:18.052468Z",
     "start_time": "2022-02-22T17:35:14.947090Z"
    }
   },
   "source": [
    "## 0.1 Helper Functions"
   ]
  },
  {
   "cell_type": "code",
   "execution_count": 2,
   "id": "63996e13",
   "metadata": {
    "ExecuteTime": {
     "end_time": "2022-03-08T20:05:30.711188Z",
     "start_time": "2022-03-08T20:05:30.684914Z"
    }
   },
   "outputs": [],
   "source": [
    "def search_outliers(df, series):\n",
    "    first_quantile = np.quantile(df[series], 0.25)\n",
    "    third_quantile = np.quantile(df[series], 0.75)\n",
    "    distance = (third_quantile - first_quantile) * 1.5\n",
    "    inf_limit = first_quantile - distance\n",
    "    sup_limit = third_quantile + distance\n",
    "    index_outliers = df.loc[(df[series]<inf_limit)|(df[series]>sup_limit)].index\n",
    "    return index_outliers, inf_limit, sup_limit"
   ]
  },
  {
   "cell_type": "markdown",
   "id": "1f7d4ce8",
   "metadata": {
    "ExecuteTime": {
     "end_time": "2022-02-22T17:35:18.052468Z",
     "start_time": "2022-02-22T17:35:14.947090Z"
    }
   },
   "source": [
    "## 0.2 Loading Data"
   ]
  },
  {
   "cell_type": "code",
   "execution_count": 3,
   "id": "d54b2a07",
   "metadata": {
    "ExecuteTime": {
     "end_time": "2022-03-08T20:08:10.514274Z",
     "start_time": "2022-03-08T20:08:08.597909Z"
    }
   },
   "outputs": [
    {
     "data": {
      "text/html": [
       "<div>\n",
       "<style scoped>\n",
       "    .dataframe tbody tr th:only-of-type {\n",
       "        vertical-align: middle;\n",
       "    }\n",
       "\n",
       "    .dataframe tbody tr th {\n",
       "        vertical-align: top;\n",
       "    }\n",
       "\n",
       "    .dataframe thead th {\n",
       "        text-align: right;\n",
       "    }\n",
       "</style>\n",
       "<table border=\"1\" class=\"dataframe\">\n",
       "  <thead>\n",
       "    <tr style=\"text-align: right;\">\n",
       "      <th></th>\n",
       "      <th>Store</th>\n",
       "      <th>DayOfWeek</th>\n",
       "      <th>Date</th>\n",
       "      <th>Sales</th>\n",
       "      <th>Customers</th>\n",
       "      <th>Open</th>\n",
       "      <th>Promo</th>\n",
       "      <th>StateHoliday</th>\n",
       "      <th>SchoolHoliday</th>\n",
       "      <th>StoreType</th>\n",
       "      <th>Assortment</th>\n",
       "      <th>CompetitionDistance</th>\n",
       "      <th>CompetitionOpenSinceMonth</th>\n",
       "      <th>CompetitionOpenSinceYear</th>\n",
       "      <th>Promo2</th>\n",
       "      <th>Promo2SinceWeek</th>\n",
       "      <th>Promo2SinceYear</th>\n",
       "      <th>PromoInterval</th>\n",
       "    </tr>\n",
       "  </thead>\n",
       "  <tbody>\n",
       "    <tr>\n",
       "      <th>676877</th>\n",
       "      <td>858</td>\n",
       "      <td>6</td>\n",
       "      <td>2013-11-02</td>\n",
       "      <td>4463</td>\n",
       "      <td>388</td>\n",
       "      <td>1</td>\n",
       "      <td>0</td>\n",
       "      <td>0</td>\n",
       "      <td>0</td>\n",
       "      <td>a</td>\n",
       "      <td>a</td>\n",
       "      <td>3370.0</td>\n",
       "      <td>12.0</td>\n",
       "      <td>2008.0</td>\n",
       "      <td>1</td>\n",
       "      <td>40.0</td>\n",
       "      <td>2014.0</td>\n",
       "      <td>Jan,Apr,Jul,Oct</td>\n",
       "    </tr>\n",
       "    <tr>\n",
       "      <th>134429</th>\n",
       "      <td>630</td>\n",
       "      <td>4</td>\n",
       "      <td>2015-04-02</td>\n",
       "      <td>9504</td>\n",
       "      <td>978</td>\n",
       "      <td>1</td>\n",
       "      <td>1</td>\n",
       "      <td>0</td>\n",
       "      <td>1</td>\n",
       "      <td>a</td>\n",
       "      <td>a</td>\n",
       "      <td>1690.0</td>\n",
       "      <td>4.0</td>\n",
       "      <td>2015.0</td>\n",
       "      <td>0</td>\n",
       "      <td>NaN</td>\n",
       "      <td>NaN</td>\n",
       "      <td>NaN</td>\n",
       "    </tr>\n",
       "    <tr>\n",
       "      <th>422856</th>\n",
       "      <td>1057</td>\n",
       "      <td>3</td>\n",
       "      <td>2014-06-18</td>\n",
       "      <td>6177</td>\n",
       "      <td>611</td>\n",
       "      <td>1</td>\n",
       "      <td>1</td>\n",
       "      <td>0</td>\n",
       "      <td>0</td>\n",
       "      <td>d</td>\n",
       "      <td>c</td>\n",
       "      <td>3230.0</td>\n",
       "      <td>11.0</td>\n",
       "      <td>2011.0</td>\n",
       "      <td>0</td>\n",
       "      <td>NaN</td>\n",
       "      <td>NaN</td>\n",
       "      <td>NaN</td>\n",
       "    </tr>\n",
       "    <tr>\n",
       "      <th>629733</th>\n",
       "      <td>544</td>\n",
       "      <td>6</td>\n",
       "      <td>2013-12-14</td>\n",
       "      <td>13457</td>\n",
       "      <td>1997</td>\n",
       "      <td>1</td>\n",
       "      <td>0</td>\n",
       "      <td>0</td>\n",
       "      <td>0</td>\n",
       "      <td>a</td>\n",
       "      <td>a</td>\n",
       "      <td>250.0</td>\n",
       "      <td>12.0</td>\n",
       "      <td>2001.0</td>\n",
       "      <td>1</td>\n",
       "      <td>13.0</td>\n",
       "      <td>2010.0</td>\n",
       "      <td>Jan,Apr,Jul,Oct</td>\n",
       "    </tr>\n",
       "    <tr>\n",
       "      <th>939012</th>\n",
       "      <td>968</td>\n",
       "      <td>2</td>\n",
       "      <td>2013-03-12</td>\n",
       "      <td>5233</td>\n",
       "      <td>737</td>\n",
       "      <td>1</td>\n",
       "      <td>0</td>\n",
       "      <td>0</td>\n",
       "      <td>0</td>\n",
       "      <td>c</td>\n",
       "      <td>a</td>\n",
       "      <td>1190.0</td>\n",
       "      <td>NaN</td>\n",
       "      <td>NaN</td>\n",
       "      <td>0</td>\n",
       "      <td>NaN</td>\n",
       "      <td>NaN</td>\n",
       "      <td>NaN</td>\n",
       "    </tr>\n",
       "  </tbody>\n",
       "</table>\n",
       "</div>"
      ],
      "text/plain": [
       "        Store  DayOfWeek        Date  Sales  Customers  Open  Promo  \\\n",
       "676877    858          6  2013-11-02   4463        388     1      0   \n",
       "134429    630          4  2015-04-02   9504        978     1      1   \n",
       "422856   1057          3  2014-06-18   6177        611     1      1   \n",
       "629733    544          6  2013-12-14  13457       1997     1      0   \n",
       "939012    968          2  2013-03-12   5233        737     1      0   \n",
       "\n",
       "       StateHoliday  SchoolHoliday StoreType Assortment  CompetitionDistance  \\\n",
       "676877            0              0         a          a               3370.0   \n",
       "134429            0              1         a          a               1690.0   \n",
       "422856            0              0         d          c               3230.0   \n",
       "629733            0              0         a          a                250.0   \n",
       "939012            0              0         c          a               1190.0   \n",
       "\n",
       "        CompetitionOpenSinceMonth  CompetitionOpenSinceYear  Promo2  \\\n",
       "676877                       12.0                    2008.0       1   \n",
       "134429                        4.0                    2015.0       0   \n",
       "422856                       11.0                    2011.0       0   \n",
       "629733                       12.0                    2001.0       1   \n",
       "939012                        NaN                       NaN       0   \n",
       "\n",
       "        Promo2SinceWeek  Promo2SinceYear    PromoInterval  \n",
       "676877             40.0           2014.0  Jan,Apr,Jul,Oct  \n",
       "134429              NaN              NaN              NaN  \n",
       "422856              NaN              NaN              NaN  \n",
       "629733             13.0           2010.0  Jan,Apr,Jul,Oct  \n",
       "939012              NaN              NaN              NaN  "
      ]
     },
     "execution_count": 3,
     "metadata": {},
     "output_type": "execute_result"
    }
   ],
   "source": [
    "store = pd.read_csv('D:\\\\My Drive\\\\Pessoal\\\\Projetos\\\\store_sales_predict\\\\store.csv', low_memory=False)\n",
    "train = pd.read_csv('D:\\\\My Drive\\\\Pessoal\\\\Projetos\\\\store_sales_predict\\\\train.csv', low_memory=False)\n",
    "test = pd.read_csv('D:\\\\My Drive\\\\Pessoal\\\\Projetos\\\\store_sales_predict\\\\test.csv', low_memory=False)\n",
    "\n",
    "df = pd.merge(train, store, how='left', on='Store')\n",
    "df.sample(5)"
   ]
  },
  {
   "cell_type": "markdown",
   "id": "5318993c",
   "metadata": {
    "ExecuteTime": {
     "end_time": "2022-02-22T17:35:18.052468Z",
     "start_time": "2022-02-22T17:35:14.947090Z"
    }
   },
   "source": [
    "# 1.0 Data Description"
   ]
  },
  {
   "cell_type": "markdown",
   "id": "cd801dda",
   "metadata": {},
   "source": [
    "## 1.1 Rename Columns"
   ]
  },
  {
   "cell_type": "code",
   "execution_count": 4,
   "id": "5d979b69",
   "metadata": {
    "ExecuteTime": {
     "end_time": "2022-03-08T20:08:20.704720Z",
     "start_time": "2022-03-08T20:08:20.620489Z"
    }
   },
   "outputs": [],
   "source": [
    "# backup df\n",
    "df1 = df.copy()\n",
    "\n",
    "snake_case = lambda x: inflection.underscore(x)\n",
    "\n",
    "cols_old = df1.columns.to_list()\n",
    "cols_new = list(map(snake_case, cols_old))\n",
    "\n",
    "# rename\n",
    "df1.columns = cols_new"
   ]
  },
  {
   "cell_type": "markdown",
   "id": "e74e16bb",
   "metadata": {},
   "source": [
    "## 1.2 Data Dimension"
   ]
  },
  {
   "cell_type": "code",
   "execution_count": 5,
   "id": "81e0354c",
   "metadata": {
    "ExecuteTime": {
     "end_time": "2022-03-08T20:08:26.865917Z",
     "start_time": "2022-03-08T20:08:26.851963Z"
    }
   },
   "outputs": [
    {
     "name": "stdout",
     "output_type": "stream",
     "text": [
      "Number of rows: 1017209\n",
      "Number of columns: 18\n"
     ]
    }
   ],
   "source": [
    "print(f'Number of rows: {df1.shape[0]}')\n",
    "print(f'Number of columns: {df1.shape[1]}')"
   ]
  },
  {
   "cell_type": "markdown",
   "id": "4ff99a28",
   "metadata": {},
   "source": [
    "## 1.3 Data Types"
   ]
  },
  {
   "cell_type": "code",
   "execution_count": 6,
   "id": "4325bb1b",
   "metadata": {
    "ExecuteTime": {
     "end_time": "2022-03-08T20:08:33.836690Z",
     "start_time": "2022-03-08T20:08:33.821739Z"
    },
    "scrolled": true
   },
   "outputs": [
    {
     "data": {
      "text/plain": [
       "store                             int64\n",
       "day_of_week                       int64\n",
       "date                             object\n",
       "sales                             int64\n",
       "customers                         int64\n",
       "open                              int64\n",
       "promo                             int64\n",
       "state_holiday                    object\n",
       "school_holiday                    int64\n",
       "store_type                       object\n",
       "assortment                       object\n",
       "competition_distance            float64\n",
       "competition_open_since_month    float64\n",
       "competition_open_since_year     float64\n",
       "promo2                            int64\n",
       "promo2_since_week               float64\n",
       "promo2_since_year               float64\n",
       "promo_interval                   object\n",
       "dtype: object"
      ]
     },
     "execution_count": 6,
     "metadata": {},
     "output_type": "execute_result"
    }
   ],
   "source": [
    "df1.dtypes"
   ]
  },
  {
   "cell_type": "code",
   "execution_count": 7,
   "id": "14c600c8",
   "metadata": {
    "ExecuteTime": {
     "end_time": "2022-03-08T20:08:36.839571Z",
     "start_time": "2022-03-08T20:08:36.588077Z"
    }
   },
   "outputs": [],
   "source": [
    "# changing data datatype\n",
    "df1['date'] = pd.to_datetime(df1['date'])"
   ]
  },
  {
   "cell_type": "markdown",
   "id": "ddc17ac5",
   "metadata": {},
   "source": [
    "## 1.4 Check NA"
   ]
  },
  {
   "cell_type": "code",
   "execution_count": 8,
   "id": "7a947061",
   "metadata": {
    "ExecuteTime": {
     "end_time": "2022-03-08T20:08:41.885316Z",
     "start_time": "2022-03-08T20:08:40.955968Z"
    },
    "scrolled": false
   },
   "outputs": [
    {
     "data": {
      "text/plain": [
       "store                                0\n",
       "day_of_week                          0\n",
       "date                                 0\n",
       "sales                                0\n",
       "customers                            0\n",
       "open                                 0\n",
       "promo                                0\n",
       "state_holiday                        0\n",
       "school_holiday                       0\n",
       "store_type                           0\n",
       "assortment                           0\n",
       "competition_distance              2642\n",
       "competition_open_since_month    323348\n",
       "competition_open_since_year     323348\n",
       "promo2                               0\n",
       "promo2_since_week               508031\n",
       "promo2_since_year               508031\n",
       "promo_interval                  508031\n",
       "dtype: int64"
      ]
     },
     "execution_count": 8,
     "metadata": {},
     "output_type": "execute_result"
    }
   ],
   "source": [
    "df1.isna().sum()"
   ]
  },
  {
   "cell_type": "markdown",
   "id": "10eaac79",
   "metadata": {},
   "source": [
    "## 1.5 Fillout NA"
   ]
  },
  {
   "cell_type": "code",
   "execution_count": 9,
   "id": "5a804757",
   "metadata": {
    "ExecuteTime": {
     "end_time": "2022-03-08T20:11:06.979412Z",
     "start_time": "2022-03-08T20:08:48.156424Z"
    }
   },
   "outputs": [],
   "source": [
    "# competition_distance\n",
    "df1.loc[df1['competition_distance'].isna(), 'competition_distance'] = 200000\n",
    "\n",
    "# competition_open_since_month\n",
    "df1['competition_open_since_month'] = df1.apply(lambda x: x['date'].month if np.isnan(x['competition_open_since_month']) else x['competition_open_since_month'], axis=1) \n",
    "\n",
    "# competition_open_since_year\n",
    "df1['competition_open_since_year'] = df1.apply(lambda x: x['date'].year if np.isnan(x['competition_open_since_year']) else x['competition_open_since_year'], axis=1)\n",
    "\n",
    "# promo2_since_week\n",
    "df1['promo2_since_week'] = df1.apply(lambda x: x['date'].week if np.isnan(x['promo2_since_week']) else x['promo2_since_week'], axis=1)\n",
    "\n",
    "# promo2_since_year\n",
    "df1['promo2_since_year'] = df1.apply(lambda x: x['date'].year if np.isnan(x['promo2_since_year']) else x['promo2_since_year'], axis=1)\n",
    "\n",
    "# promo_interval\n",
    "df1['promo_interval'].fillna(0, inplace=True)\n",
    "month_map = {1: 'Jan', 2: 'Feb', 3: 'Mar', 4: 'Apr', 5: 'May', 6: 'Jun', 7: 'Jul', 8: 'Aug', 9: 'Sept', 10: 'Oct', 11: 'Nov', 12: 'Dec'}\n",
    "df1['month_map'] = df1['date'].dt.month.map(month_map)\n",
    "df1['is_promo'] = df1[['promo_interval', 'month_map']].apply(lambda x: 0 if x['promo_interval'] == 0 else 1 if x['month_map'] in x['promo_interval'].split(',') else 0, axis=1)"
   ]
  },
  {
   "cell_type": "markdown",
   "id": "3c1ec103",
   "metadata": {
    "heading_collapsed": true
   },
   "source": [
    "## 1.6 Change Types"
   ]
  },
  {
   "cell_type": "code",
   "execution_count": null,
   "id": "f043b8ec",
   "metadata": {
    "ExecuteTime": {
     "start_time": "2022-02-28T17:35:57.806Z"
    },
    "hidden": true
   },
   "outputs": [],
   "source": [
    "backup = df1.copy()"
   ]
  },
  {
   "cell_type": "code",
   "execution_count": null,
   "id": "842b888f",
   "metadata": {
    "ExecuteTime": {
     "start_time": "2022-02-28T17:35:57.808Z"
    },
    "hidden": true,
    "scrolled": true
   },
   "outputs": [],
   "source": [
    "df1 = backup.copy()\n",
    "df1['competition_open_since_month'] = df1['competition_open_since_month'].astype('int')\n",
    "df1['competition_open_since_year'] = df1['competition_open_since_year'].astype('int')\n",
    "\n",
    "df1['promo2_since_week'] = df1['promo2_since_week'].astype('int')\n",
    "df1['promo2_since_year'] = df1['promo2_since_year'].astype('int')"
   ]
  },
  {
   "cell_type": "markdown",
   "id": "1c9d96a8",
   "metadata": {},
   "source": [
    "## 1.7 Descriptive Statistical"
   ]
  },
  {
   "cell_type": "markdown",
   "id": "70bada32",
   "metadata": {},
   "source": [
    "### 1.7.1 Classifying Attributes"
   ]
  },
  {
   "cell_type": "code",
   "execution_count": null,
   "id": "818c2d8a",
   "metadata": {
    "ExecuteTime": {
     "start_time": "2022-02-28T17:35:57.810Z"
    }
   },
   "outputs": [],
   "source": [
    "num_attributes = df1[['sales', 'customers', 'competition_distance']]\n",
    "\n",
    "\n",
    "cat_attributes = df1[['open', 'state_holiday', 'school_holiday', 'store_type', 'assortment', 'day_of_week', 'promo', 'promo2', 'is_promo']].astype('category')"
   ]
  },
  {
   "cell_type": "markdown",
   "id": "ed549432",
   "metadata": {},
   "source": [
    "### 1.7.2 Numerical Attributes"
   ]
  },
  {
   "cell_type": "code",
   "execution_count": null,
   "id": "c8b23c49",
   "metadata": {
    "ExecuteTime": {
     "start_time": "2022-02-28T17:35:57.812Z"
    },
    "scrolled": false
   },
   "outputs": [],
   "source": [
    "# Central Tendendy - mean, median\n",
    "ct1 = pd.DataFrame(num_attributes.apply(np.mean)).T\n",
    "ct2 = pd.DataFrame(num_attributes.apply(np.median)).T\n",
    "\n",
    "# Dispersion - std, min, max, range, skew, kurtosis\n",
    "d1 = pd.DataFrame(num_attributes.apply(np.std)).T\n",
    "d2 = pd.DataFrame(num_attributes.apply(min)).T\n",
    "d3 = pd.DataFrame(num_attributes.apply(max)).T\n",
    "d4 = pd.DataFrame(num_attributes.apply(lambda x: x.max() - x.min())).T\n",
    "d5 = pd.DataFrame(num_attributes.apply(lambda x: x.skew())).T\n",
    "d6 = pd.DataFrame(num_attributes.apply(lambda x: x.kurtosis())).T\n",
    "\n",
    "m = pd.concat([d2, d3, d4, ct1, ct2, d1, d5, d6]).T\n",
    "m.columns = 'min max range mean median std skew kurtosis'.split()\n",
    "m"
   ]
  },
  {
   "cell_type": "markdown",
   "id": "cc9d005a",
   "metadata": {},
   "source": [
    "### 1.7.3 Categorical Attributes"
   ]
  },
  {
   "cell_type": "code",
   "execution_count": null,
   "id": "8ea132e2",
   "metadata": {
    "ExecuteTime": {
     "start_time": "2022-02-28T17:35:57.814Z"
    }
   },
   "outputs": [],
   "source": [
    "cat_attributes.apply(lambda x: x.nunique())"
   ]
  },
  {
   "cell_type": "code",
   "execution_count": null,
   "id": "9260021a",
   "metadata": {
    "ExecuteTime": {
     "start_time": "2022-02-28T17:35:57.816Z"
    },
    "scrolled": false
   },
   "outputs": [],
   "source": [
    "temp = df1.loc[df1['sales'] > 0]\n",
    "\n",
    "plt.figure(figsize=(20, 20))\n",
    "\n",
    "plt.subplot(3, 3, 1)\n",
    "ax = sns.boxplot(x='day_of_week', y='sales', data=temp)\n",
    "ax.tick_params(bottom=False, labelleft=False, left=False)\n",
    "# ax = sns.despine(left=True)\n",
    "plt.title('day_of_week', fontsize=20)\n",
    "plt.xlabel('')\n",
    "plt.ylabel('')\n",
    "\n",
    "plt.subplot(3, 3, 2)\n",
    "ax = sns.boxplot(x='is_promo', y='sales', data=temp)\n",
    "ax.tick_params(bottom=False, labelleft=False, left=False)\n",
    "# ax = sns.despine(left=True)\n",
    "plt.title('is_promo', fontsize=20)\n",
    "plt.xlabel('')\n",
    "plt.ylabel('')\n",
    "\n",
    "plt.subplot(3, 3, 3)\n",
    "ax = sns.boxplot(x='promo', y='sales', data=temp)\n",
    "ax.tick_params(bottom=False, labelleft=False, left=False)\n",
    "# ax = sns.despine(left=True)\n",
    "plt.title('promo', fontsize=20)\n",
    "plt.xlabel('')\n",
    "plt.ylabel('')\n",
    "\n",
    "plt.subplot(3, 3, 4)\n",
    "ax = sns.boxplot(x='promo2', y='sales', data=temp)\n",
    "ax.tick_params(bottom=False, labelleft=False, left=False)\n",
    "# ax = sns.despine(left=True)\n",
    "plt.title('promo2', fontsize=20)\n",
    "plt.xlabel('')\n",
    "plt.ylabel('')\n",
    "\n",
    "plt.subplot(3, 3, 5)\n",
    "ax = sns.boxplot(x='state_holiday', y='sales', data=temp)\n",
    "ax.tick_params(bottom=False, labelleft=False, left=False)\n",
    "# ax = sns.despine(left=True)\n",
    "plt.title('state_holiday', fontsize=20)\n",
    "plt.xlabel('')\n",
    "plt.ylabel('')\n",
    "\n",
    "plt.subplot(3, 3, 6)\n",
    "ax = sns.boxplot(x='school_holiday', y='sales', data=temp)\n",
    "ax.tick_params(bottom=False, labelleft=False, left=False)\n",
    "# ax = sns.despine(left=True)\n",
    "plt.title('school_holiday', fontsize=20)\n",
    "plt.xlabel('')\n",
    "plt.ylabel('')\n",
    "\n",
    "plt.subplot(3, 3, 7)\n",
    "ax = sns.boxplot(x='store_type', y='sales', data=temp)\n",
    "ax.tick_params(bottom=False, labelleft=False, left=False)\n",
    "# ax = sns.despine(left=True)\n",
    "plt.title('store_type', fontsize=20)\n",
    "plt.xlabel('')\n",
    "plt.ylabel('')\n",
    "\n",
    "plt.subplot(3, 3, 8)\n",
    "ax = sns.boxplot(x='assortment', y='sales', data=temp)\n",
    "ax.tick_params(bottom=False, labelleft=False, left=False)\n",
    "# ax = sns.despine(left=True)\n",
    "plt.title('assortment', fontsize=20)\n",
    "plt.xlabel('')\n",
    "plt.ylabel('');"
   ]
  },
  {
   "cell_type": "markdown",
   "id": "0852269b",
   "metadata": {},
   "source": [
    "# 2.0 Feature Engineering"
   ]
  },
  {
   "cell_type": "code",
   "execution_count": null,
   "id": "867439ce",
   "metadata": {},
   "outputs": [],
   "source": []
  }
 ],
 "metadata": {
  "kernelspec": {
   "display_name": "Python 3 (ipykernel)",
   "language": "python",
   "name": "python3"
  },
  "language_info": {
   "codemirror_mode": {
    "name": "ipython",
    "version": 3
   },
   "file_extension": ".py",
   "mimetype": "text/x-python",
   "name": "python",
   "nbconvert_exporter": "python",
   "pygments_lexer": "ipython3",
   "version": "3.9.7"
  }
 },
 "nbformat": 4,
 "nbformat_minor": 5
}
