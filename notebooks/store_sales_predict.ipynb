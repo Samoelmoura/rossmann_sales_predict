{
 "cells": [
  {
   "cell_type": "markdown",
   "id": "ee26cf2f",
   "metadata": {
    "ExecuteTime": {
     "end_time": "2022-02-22T17:35:18.052468Z",
     "start_time": "2022-02-22T17:35:14.947090Z"
    },
    "heading_collapsed": true
   },
   "source": [
    "# 0.0 Imports"
   ]
  },
  {
   "cell_type": "code",
   "execution_count": 1,
   "id": "ff551761",
   "metadata": {
    "ExecuteTime": {
     "end_time": "2022-07-19T20:12:55.180364Z",
     "start_time": "2022-07-19T20:12:53.039022Z"
    },
    "hidden": true,
    "hide_input": false
   },
   "outputs": [],
   "source": [
    "import matplotlib.pyplot as plt\n",
    "import numpy as np\n",
    "import pandas as pd\n",
    "import seaborn as sns\n",
    "\n",
    "import pickle\n",
    "\n",
    "from IPython.display import Image\n",
    "import datetime\n",
    "\n",
    "from sklearn.preprocessing import RobustScaler, StandardScaler, MinMaxScaler\n",
    "from sklearn.ensemble import RandomForestRegressor\n",
    "from sklearn.metrics import mean_squared_error\n",
    "from sklearn.linear_model import LinearRegression, Lasso\n",
    "from xgboost import XGBRegressor\n",
    "from sklearn.feature_selection import RFE\n",
    "\n",
    "from scipy.stats import chi2_contingency\n",
    "\n",
    "from boruta import BorutaPy\n",
    "\n",
    "import requests\n",
    "\n",
    "import inflection\n",
    "\n",
    "import time\n",
    "\n",
    "# Tempo de processamento\n",
    "time_agora = time.time()"
   ]
  },
  {
   "cell_type": "markdown",
   "id": "7c8adfc4",
   "metadata": {
    "ExecuteTime": {
     "end_time": "2022-02-22T17:35:18.052468Z",
     "start_time": "2022-02-22T17:35:14.947090Z"
    },
    "heading_collapsed": true,
    "hidden": true
   },
   "source": [
    "## 0.1 Helper Functions"
   ]
  },
  {
   "cell_type": "code",
   "execution_count": 2,
   "id": "63996e13",
   "metadata": {
    "ExecuteTime": {
     "end_time": "2022-07-19T20:12:55.212936Z",
     "start_time": "2022-07-19T20:12:55.182071Z"
    },
    "hidden": true,
    "hide_input": false
   },
   "outputs": [],
   "source": [
    "# outliers by Tukey method\n",
    "def search_outliers(df, series):\n",
    "    first_quantile = np.quantile(df[series], 0.25)\n",
    "    third_quantile = np.quantile(df[series], 0.75)\n",
    "    distance = (third_quantile - first_quantile) * 1.5\n",
    "    inf_limit = first_quantile - distance\n",
    "    sup_limit = third_quantile + distance\n",
    "    index_outliers = df.loc[(df[series]<inf_limit)|(df[series]>sup_limit)].index\n",
    "    return index_outliers, inf_limit, sup_limit\n",
    "\n",
    "\n",
    "# correlations between categorical attributes by Pearson method\n",
    "def cramer_v(x, y):\n",
    "    cm = pd.crosstab(x, y).values\n",
    "    n = cm.sum()\n",
    "    r, k = cm.shape\n",
    "    chi2 = chi2_contingency(cm)[0]\n",
    "    chi2corr = max(0, chi2-(k-1)*(r-1)/(n-1))\n",
    "    kcorr = k-(k-1)**2/(n-1)\n",
    "    rcorr = r-(r-1)**2/(n-1)\n",
    "    return round(np.sqrt((chi2corr/n)/( min(kcorr-1, rcorr-1))), 2)\n",
    "\n",
    "\n",
    "def metrics(y_test, y_hat):\n",
    "    # metrics\n",
    "    mean_absolute_error = np.mean(np.abs(np.expm1(y_test) - np.expm1(y_hat))) # mean absolute error\n",
    "    mean_absolute_percentage_error = np.mean(mean_absolute_error / np.expm1(y_test)) # mean absolute percentage error\n",
    "\n",
    "    print(f\"MAE: {mean_absolute_error}\")\n",
    "    print(f\"MAPE: {mean_absolute_percentage_error}\")\n",
    "    print(f\"RMSE: {np.sqrt(mean_squared_error(np.expm1(y_test), np.expm1(y_hat)))}\")\n",
    "    \n",
    "\n",
    "# outliers by Tukey method\n",
    "def search_outliers(df, series):\n",
    "    first_quantile = np.quantile(df[series], 0.25)\n",
    "    third_quantile = np.quantile(df[series], 0.75)\n",
    "    distance = (third_quantile - first_quantile) * 1.5\n",
    "    inf_limit = first_quantile - distance\n",
    "    sup_limit = third_quantile + distance\n",
    "    index_outliers = df.loc[(df[series]<inf_limit)|(df[series]>sup_limit)].index\n",
    "    return index_outliers, inf_limit, sup_limit\n",
    "\n",
    "\n",
    "# correlations between categorical attributes by Pearson method\n",
    "def cramer_v(x, y):\n",
    "    cm = pd.crosstab(x, y).values\n",
    "    n = cm.sum()\n",
    "    r, k = cm.shape\n",
    "    chi2 = chi2_contingency(cm)[0]\n",
    "    chi2corr = max(0, chi2-(k-1)*(r-1)/(n-1))\n",
    "    kcorr = k-(k-1)**2/(n-1)\n",
    "    rcorr = r-(r-1)**2/(n-1)\n",
    "    return round(np.sqrt((chi2corr/n)/( min(kcorr-1, rcorr-1))), 2)\n",
    "\n",
    "\n",
    "def metrics(y_test, y_hat):\n",
    "    # metrics\n",
    "    mean_absolute_error = np.mean(np.abs(np.expm1(y_test) - np.expm1(y_hat))) # mean absolute error\n",
    "    mean_absolute_percentage_error = np.mean(mean_absolute_error / np.expm1(y_test)) # mean absolute percentage error\n",
    "\n",
    "    print(f\"MAE: {mean_absolute_error}\")\n",
    "    print(f\"MAPE: {mean_absolute_percentage_error}\")\n",
    "    print(f\"RMSE: {np.sqrt(mean_squared_error(np.expm1(y_test), np.expm1(y_hat)))}\")\n",
    "    \n",
    "\n",
    "def cross_validation(df, error, kfold, model_name, model):\n",
    "    list_mean_absolute_error, list_mean_absolute_percentage_error, list_root_mean_squared_error, folds = [], [], [], []\n",
    "    for i in reversed(range(1, kfold+1)):\n",
    "        folds.append(f'Fold: {i}')\n",
    "        validation_start_date = df['date'].max() - pd.Timedelta(6*i, 'w')\n",
    "        validation_end_date = df['date'].max() - pd.Timedelta(6*(i-1), 'w')\n",
    "        \n",
    "        train = df[df['date']<validation_start_date]\n",
    "        validation = df[(df['date']>=validation_start_date)&(df['date']<=validation_end_date)]\n",
    "        \n",
    "        X_train = train.drop(['sales', 'store', 'date'], axis=1)\n",
    "        y_train = train['sales']\n",
    "        \n",
    "        X_val = validation.drop(['sales', 'store', 'date'], axis=1)\n",
    "        y_val = validation['sales']\n",
    "        \n",
    "        # fiting model\n",
    "        model_fit = model.fit(X_train, y_train)\n",
    "\n",
    "        # predicting\n",
    "        y_hat = model_fit.predict(X_val)\n",
    "        \n",
    "        list_mean_absolute_error.append(np.mean(np.abs(np.expm1(y_val) - np.expm1(y_hat))))\n",
    "        list_mean_absolute_percentage_error.append(np.mean(np.abs(np.expm1(y_val) - np.expm1(y_hat)) / np.expm1(y_val)))\n",
    "        list_root_mean_squared_error.append(np.sqrt(mean_squared_error(np.expm1(y_val), np.expm1(y_hat))))\n",
    "        \n",
    "    # mean and std\n",
    "    folds.append('mean_and_std')\n",
    "    list_mean_absolute_error.append(str(round(np.mean(list_mean_absolute_error), 2))+' +/- '+str(round(np.std(list_mean_absolute_error), 2)))\n",
    "    list_mean_absolute_percentage_error.append(str(round(np.mean(list_mean_absolute_percentage_error), 2))+' +/- '+str(round(np.std(list_mean_absolute_percentage_error), 2)))\n",
    "    list_root_mean_squared_error.append(str(round(np.mean(list_root_mean_squared_error), 2))+' +/- '+str(round(np.std(list_root_mean_squared_error), 2)))\n",
    "    # dataframe\n",
    "    cross_validation_metrics = pd.DataFrame([list_mean_absolute_error, list_mean_absolute_percentage_error, list_root_mean_squared_error], index=['MAE', 'MAPE', \"RMSE\"], columns=folds)\n",
    "    error[model_name] = cross_validation_metrics['mean_and_std']\n",
    "    return error, cross_validation_metrics"
   ]
  },
  {
   "cell_type": "markdown",
   "id": "1f7d4ce8",
   "metadata": {
    "ExecuteTime": {
     "end_time": "2022-02-22T17:35:18.052468Z",
     "start_time": "2022-02-22T17:35:14.947090Z"
    },
    "heading_collapsed": true,
    "hidden": true
   },
   "source": [
    "## 0.2 Loading Data"
   ]
  },
  {
   "cell_type": "code",
   "execution_count": 3,
   "id": "d54b2a07",
   "metadata": {
    "ExecuteTime": {
     "end_time": "2022-07-19T20:12:56.444535Z",
     "start_time": "2022-07-19T20:12:55.212936Z"
    },
    "hidden": true,
    "scrolled": true
   },
   "outputs": [
    {
     "data": {
      "text/html": [
       "<div>\n",
       "<style scoped>\n",
       "    .dataframe tbody tr th:only-of-type {\n",
       "        vertical-align: middle;\n",
       "    }\n",
       "\n",
       "    .dataframe tbody tr th {\n",
       "        vertical-align: top;\n",
       "    }\n",
       "\n",
       "    .dataframe thead th {\n",
       "        text-align: right;\n",
       "    }\n",
       "</style>\n",
       "<table border=\"1\" class=\"dataframe\">\n",
       "  <thead>\n",
       "    <tr style=\"text-align: right;\">\n",
       "      <th></th>\n",
       "      <th>Store</th>\n",
       "      <th>DayOfWeek</th>\n",
       "      <th>Date</th>\n",
       "      <th>Sales</th>\n",
       "      <th>Customers</th>\n",
       "      <th>Open</th>\n",
       "      <th>Promo</th>\n",
       "      <th>StateHoliday</th>\n",
       "      <th>SchoolHoliday</th>\n",
       "      <th>StoreType</th>\n",
       "      <th>Assortment</th>\n",
       "      <th>CompetitionDistance</th>\n",
       "      <th>CompetitionOpenSinceMonth</th>\n",
       "      <th>CompetitionOpenSinceYear</th>\n",
       "      <th>Promo2</th>\n",
       "      <th>Promo2SinceWeek</th>\n",
       "      <th>Promo2SinceYear</th>\n",
       "      <th>PromoInterval</th>\n",
       "    </tr>\n",
       "  </thead>\n",
       "  <tbody>\n",
       "    <tr>\n",
       "      <th>670502</th>\n",
       "      <td>58</td>\n",
       "      <td>4</td>\n",
       "      <td>2013-11-07</td>\n",
       "      <td>6148</td>\n",
       "      <td>540</td>\n",
       "      <td>1</td>\n",
       "      <td>1</td>\n",
       "      <td>0</td>\n",
       "      <td>0</td>\n",
       "      <td>a</td>\n",
       "      <td>c</td>\n",
       "      <td>7340.0</td>\n",
       "      <td>5.0</td>\n",
       "      <td>2008.0</td>\n",
       "      <td>1</td>\n",
       "      <td>27.0</td>\n",
       "      <td>2012.0</td>\n",
       "      <td>Jan,Apr,Jul,Oct</td>\n",
       "    </tr>\n",
       "    <tr>\n",
       "      <th>764655</th>\n",
       "      <td>551</td>\n",
       "      <td>4</td>\n",
       "      <td>2013-08-15</td>\n",
       "      <td>6188</td>\n",
       "      <td>1048</td>\n",
       "      <td>1</td>\n",
       "      <td>1</td>\n",
       "      <td>0</td>\n",
       "      <td>0</td>\n",
       "      <td>a</td>\n",
       "      <td>c</td>\n",
       "      <td>2190.0</td>\n",
       "      <td>9.0</td>\n",
       "      <td>2013.0</td>\n",
       "      <td>0</td>\n",
       "      <td>NaN</td>\n",
       "      <td>NaN</td>\n",
       "      <td>NaN</td>\n",
       "    </tr>\n",
       "    <tr>\n",
       "      <th>696405</th>\n",
       "      <td>316</td>\n",
       "      <td>2</td>\n",
       "      <td>2013-10-15</td>\n",
       "      <td>7258</td>\n",
       "      <td>725</td>\n",
       "      <td>1</td>\n",
       "      <td>0</td>\n",
       "      <td>0</td>\n",
       "      <td>0</td>\n",
       "      <td>d</td>\n",
       "      <td>a</td>\n",
       "      <td>9000.0</td>\n",
       "      <td>8.0</td>\n",
       "      <td>2001.0</td>\n",
       "      <td>0</td>\n",
       "      <td>NaN</td>\n",
       "      <td>NaN</td>\n",
       "      <td>NaN</td>\n",
       "    </tr>\n",
       "    <tr>\n",
       "      <th>273782</th>\n",
       "      <td>3</td>\n",
       "      <td>5</td>\n",
       "      <td>2014-11-21</td>\n",
       "      <td>5865</td>\n",
       "      <td>737</td>\n",
       "      <td>1</td>\n",
       "      <td>0</td>\n",
       "      <td>0</td>\n",
       "      <td>0</td>\n",
       "      <td>a</td>\n",
       "      <td>a</td>\n",
       "      <td>14130.0</td>\n",
       "      <td>12.0</td>\n",
       "      <td>2006.0</td>\n",
       "      <td>1</td>\n",
       "      <td>14.0</td>\n",
       "      <td>2011.0</td>\n",
       "      <td>Jan,Apr,Jul,Oct</td>\n",
       "    </tr>\n",
       "    <tr>\n",
       "      <th>357211</th>\n",
       "      <td>264</td>\n",
       "      <td>7</td>\n",
       "      <td>2014-08-24</td>\n",
       "      <td>0</td>\n",
       "      <td>0</td>\n",
       "      <td>0</td>\n",
       "      <td>0</td>\n",
       "      <td>0</td>\n",
       "      <td>0</td>\n",
       "      <td>a</td>\n",
       "      <td>a</td>\n",
       "      <td>180.0</td>\n",
       "      <td>3.0</td>\n",
       "      <td>2014.0</td>\n",
       "      <td>0</td>\n",
       "      <td>NaN</td>\n",
       "      <td>NaN</td>\n",
       "      <td>NaN</td>\n",
       "    </tr>\n",
       "  </tbody>\n",
       "</table>\n",
       "</div>"
      ],
      "text/plain": [
       "        Store  DayOfWeek        Date  Sales  Customers  Open  Promo  \\\n",
       "670502     58          4  2013-11-07   6148        540     1      1   \n",
       "764655    551          4  2013-08-15   6188       1048     1      1   \n",
       "696405    316          2  2013-10-15   7258        725     1      0   \n",
       "273782      3          5  2014-11-21   5865        737     1      0   \n",
       "357211    264          7  2014-08-24      0          0     0      0   \n",
       "\n",
       "       StateHoliday  SchoolHoliday StoreType Assortment  CompetitionDistance  \\\n",
       "670502            0              0         a          c               7340.0   \n",
       "764655            0              0         a          c               2190.0   \n",
       "696405            0              0         d          a               9000.0   \n",
       "273782            0              0         a          a              14130.0   \n",
       "357211            0              0         a          a                180.0   \n",
       "\n",
       "        CompetitionOpenSinceMonth  CompetitionOpenSinceYear  Promo2  \\\n",
       "670502                        5.0                    2008.0       1   \n",
       "764655                        9.0                    2013.0       0   \n",
       "696405                        8.0                    2001.0       0   \n",
       "273782                       12.0                    2006.0       1   \n",
       "357211                        3.0                    2014.0       0   \n",
       "\n",
       "        Promo2SinceWeek  Promo2SinceYear    PromoInterval  \n",
       "670502             27.0           2012.0  Jan,Apr,Jul,Oct  \n",
       "764655              NaN              NaN              NaN  \n",
       "696405              NaN              NaN              NaN  \n",
       "273782             14.0           2011.0  Jan,Apr,Jul,Oct  \n",
       "357211              NaN              NaN              NaN  "
      ]
     },
     "execution_count": 3,
     "metadata": {},
     "output_type": "execute_result"
    }
   ],
   "source": [
    "store = pd.read_csv('D:\\\\My Drive\\\\Pessoal\\\\Projetos\\\\rossmann_sales_predict\\\\data\\\\raw\\\\store.csv', low_memory=False)\n",
    "train = pd.read_csv('D:\\\\My Drive\\\\Pessoal\\\\Projetos\\\\rossmann_sales_predict\\\\data\\\\raw\\\\train.csv', low_memory=False)\n",
    "test_raw = pd.read_csv('D:\\\\My Drive\\\\Pessoal\\\\Projetos\\\\rossmann_sales_predict\\\\data\\\\raw\\\\test.csv', low_memory=False)\n",
    "\n",
    "df_raw = pd.merge(train, store, how='left', on='Store')\n",
    "df = df_raw.copy()\n",
    "test_raw = pd.merge(test_raw, store, how='left', on='Store')\n",
    "test = test_raw.copy()\n",
    "df.sample(5)"
   ]
  },
  {
   "cell_type": "markdown",
   "id": "5318993c",
   "metadata": {
    "ExecuteTime": {
     "end_time": "2022-02-22T17:35:18.052468Z",
     "start_time": "2022-02-22T17:35:14.947090Z"
    },
    "heading_collapsed": true
   },
   "source": [
    "# 1.0 Data Description"
   ]
  },
  {
   "cell_type": "code",
   "execution_count": 4,
   "id": "bda59f4c",
   "metadata": {
    "ExecuteTime": {
     "end_time": "2022-07-19T20:12:56.516851Z",
     "start_time": "2022-07-19T20:12:56.448105Z"
    },
    "hidden": true
   },
   "outputs": [],
   "source": [
    "df1 = df.copy()"
   ]
  },
  {
   "cell_type": "markdown",
   "id": "cd801dda",
   "metadata": {
    "heading_collapsed": true,
    "hidden": true
   },
   "source": [
    "## 1.1 Rename Columns"
   ]
  },
  {
   "cell_type": "code",
   "execution_count": 5,
   "id": "5d979b69",
   "metadata": {
    "ExecuteTime": {
     "end_time": "2022-07-19T20:12:56.542736Z",
     "start_time": "2022-07-19T20:12:56.516851Z"
    },
    "hidden": true
   },
   "outputs": [],
   "source": [
    "snake_case = lambda x: inflection.underscore(x)\n",
    "\n",
    "cols_old = df1.columns.to_list()\n",
    "cols_new = list(map(snake_case, cols_old))\n",
    "\n",
    "# rename\n",
    "df1.columns = cols_new"
   ]
  },
  {
   "cell_type": "markdown",
   "id": "e74e16bb",
   "metadata": {
    "heading_collapsed": true,
    "hidden": true
   },
   "source": [
    "## 1.2 Data Dimension"
   ]
  },
  {
   "cell_type": "code",
   "execution_count": 6,
   "id": "81e0354c",
   "metadata": {
    "ExecuteTime": {
     "end_time": "2022-07-19T20:12:56.559048Z",
     "start_time": "2022-07-19T20:12:56.542736Z"
    },
    "hidden": true
   },
   "outputs": [
    {
     "name": "stdout",
     "output_type": "stream",
     "text": [
      "Number of rows: 1017209\n",
      "Number of columns: 18\n"
     ]
    }
   ],
   "source": [
    "print(f'Number of rows: {df1.shape[0]}')\n",
    "print(f'Number of columns: {df1.shape[1]}')"
   ]
  },
  {
   "cell_type": "markdown",
   "id": "4ff99a28",
   "metadata": {
    "heading_collapsed": true,
    "hidden": true
   },
   "source": [
    "## 1.3 Data Types"
   ]
  },
  {
   "cell_type": "code",
   "execution_count": 7,
   "id": "4325bb1b",
   "metadata": {
    "ExecuteTime": {
     "end_time": "2022-07-19T20:12:56.572360Z",
     "start_time": "2022-07-19T20:12:56.561885Z"
    },
    "hidden": true,
    "scrolled": true
   },
   "outputs": [
    {
     "data": {
      "text/plain": [
       "store                             int64\n",
       "day_of_week                       int64\n",
       "date                             object\n",
       "sales                             int64\n",
       "customers                         int64\n",
       "open                              int64\n",
       "promo                             int64\n",
       "state_holiday                    object\n",
       "school_holiday                    int64\n",
       "store_type                       object\n",
       "assortment                       object\n",
       "competition_distance            float64\n",
       "competition_open_since_month    float64\n",
       "competition_open_since_year     float64\n",
       "promo2                            int64\n",
       "promo2_since_week               float64\n",
       "promo2_since_year               float64\n",
       "promo_interval                   object\n",
       "dtype: object"
      ]
     },
     "execution_count": 7,
     "metadata": {},
     "output_type": "execute_result"
    }
   ],
   "source": [
    "df1.dtypes"
   ]
  },
  {
   "cell_type": "code",
   "execution_count": 8,
   "id": "14c600c8",
   "metadata": {
    "ExecuteTime": {
     "end_time": "2022-07-19T20:12:56.725191Z",
     "start_time": "2022-07-19T20:12:56.572360Z"
    },
    "hidden": true
   },
   "outputs": [],
   "source": [
    "# changing date datatype\n",
    "df1['date'] = pd.to_datetime(df1['date'])"
   ]
  },
  {
   "cell_type": "markdown",
   "id": "ddc17ac5",
   "metadata": {
    "heading_collapsed": true,
    "hidden": true
   },
   "source": [
    "## 1.4 Check NA"
   ]
  },
  {
   "cell_type": "code",
   "execution_count": 9,
   "id": "7a947061",
   "metadata": {
    "ExecuteTime": {
     "end_time": "2022-07-19T20:12:57.133186Z",
     "start_time": "2022-07-19T20:12:56.725191Z"
    },
    "hidden": true,
    "scrolled": false
   },
   "outputs": [
    {
     "data": {
      "text/plain": [
       "store                                0\n",
       "day_of_week                          0\n",
       "date                                 0\n",
       "sales                                0\n",
       "customers                            0\n",
       "open                                 0\n",
       "promo                                0\n",
       "state_holiday                        0\n",
       "school_holiday                       0\n",
       "store_type                           0\n",
       "assortment                           0\n",
       "competition_distance              2642\n",
       "competition_open_since_month    323348\n",
       "competition_open_since_year     323348\n",
       "promo2                               0\n",
       "promo2_since_week               508031\n",
       "promo2_since_year               508031\n",
       "promo_interval                  508031\n",
       "dtype: int64"
      ]
     },
     "execution_count": 9,
     "metadata": {},
     "output_type": "execute_result"
    }
   ],
   "source": [
    "df1.isna().sum()"
   ]
  },
  {
   "cell_type": "markdown",
   "id": "49f01160",
   "metadata": {
    "hidden": true
   },
   "source": [
    "Os valores NaN's estão ligados a dois atributos:\n",
    "- Competidores: ou não há competidores ou estão em um raio grande demais\n",
    "- Promo2: não foi ativada a promo2 por qualquer motivo"
   ]
  },
  {
   "cell_type": "markdown",
   "id": "10eaac79",
   "metadata": {
    "heading_collapsed": true,
    "hidden": true
   },
   "source": [
    "## 1.5 Fillout NA"
   ]
  },
  {
   "cell_type": "code",
   "execution_count": 10,
   "id": "5a804757",
   "metadata": {
    "ExecuteTime": {
     "end_time": "2022-07-19T20:15:13.085973Z",
     "start_time": "2022-07-19T20:12:57.137528Z"
    },
    "hidden": true
   },
   "outputs": [],
   "source": [
    "# competition_distance\n",
    "constant_competition_distance = 200000\n",
    "df1.loc[df1['competition_distance'].isna(), 'competition_distance'] = constant_competition_distance\n",
    "\n",
    "# competition_open_since_month\n",
    "df1['competition_open_since_month'] = df1.apply(lambda x: x['date'].month if np.isnan(x['competition_open_since_month']) else x['competition_open_since_month'], axis=1) \n",
    "\n",
    "# competition_open_since_year\n",
    "df1['competition_open_since_year'] = df1.apply(lambda x: x['date'].year if np.isnan(x['competition_open_since_year']) else x['competition_open_since_year'], axis=1)\n",
    "\n",
    "# promo2_since_week\n",
    "df1['promo2_since_week'] = df1.apply(lambda x: x['date'].week if np.isnan(x['promo2_since_week']) else x['promo2_since_week'], axis=1)\n",
    "\n",
    "# promo2_since_year\n",
    "df1['promo2_since_year'] = df1.apply(lambda x: x['date'].year if np.isnan(x['promo2_since_year']) else x['promo2_since_year'], axis=1)\n",
    "\n",
    "# promo_interval\n",
    "df1['promo_interval'].fillna(0, inplace=True)\n",
    "month_map = {1: 'Jan', 2: 'Feb', 3: 'Mar', 4: 'Apr', 5: 'May', 6: 'Jun', 7: 'Jul', 8: 'Aug', 9: 'Sept', 10: 'Oct', 11: 'Nov', 12: 'Dec'}\n",
    "df1['month_map'] = df1['date'].dt.month.map(month_map)\n",
    "df1['is_promo'] = df1[['promo_interval', 'month_map']].apply(lambda x: 0 if x['promo_interval'] == 0 else 1 if x['month_map'] in x['promo_interval'].split(',') else 0, axis=1)\n",
    "df1.drop(['promo_interval', 'month_map'], axis=1, inplace=True)"
   ]
  },
  {
   "cell_type": "markdown",
   "id": "3c1ec103",
   "metadata": {
    "heading_collapsed": true,
    "hidden": true
   },
   "source": [
    "## 1.6 Change Data Types"
   ]
  },
  {
   "cell_type": "code",
   "execution_count": 11,
   "id": "842b888f",
   "metadata": {
    "ExecuteTime": {
     "end_time": "2022-07-19T20:15:13.163667Z",
     "start_time": "2022-07-19T20:15:13.085973Z"
    },
    "hidden": true,
    "scrolled": true
   },
   "outputs": [],
   "source": [
    "df1['competition_open_since_month'] = df1['competition_open_since_month'].astype('int')\n",
    "df1['competition_open_since_year'] = df1['competition_open_since_year'].astype('int')\n",
    "\n",
    "df1['promo2_since_week'] = df1['promo2_since_week'].astype('int')\n",
    "df1['promo2_since_year'] = df1['promo2_since_year'].astype('int')"
   ]
  },
  {
   "cell_type": "markdown",
   "id": "1c9d96a8",
   "metadata": {
    "heading_collapsed": true,
    "hidden": true
   },
   "source": [
    "## 1.7 Descriptive Statistical"
   ]
  },
  {
   "cell_type": "markdown",
   "id": "70bada32",
   "metadata": {
    "heading_collapsed": true,
    "hidden": true
   },
   "source": [
    "### 1.7.1 Classifying Attributes"
   ]
  },
  {
   "cell_type": "code",
   "execution_count": 12,
   "id": "818c2d8a",
   "metadata": {
    "ExecuteTime": {
     "end_time": "2022-07-19T20:15:13.181245Z",
     "start_time": "2022-07-19T20:15:13.165784Z"
    },
    "hidden": true
   },
   "outputs": [],
   "source": [
    "num_attributes = ['sales', 'customers', 'competition_distance']\n",
    "cat_attributes = ['open', 'state_holiday', 'school_holiday', 'store_type', 'assortment', 'day_of_week', 'promo', 'promo2', 'is_promo']"
   ]
  },
  {
   "cell_type": "markdown",
   "id": "ed549432",
   "metadata": {
    "heading_collapsed": true,
    "hidden": true
   },
   "source": [
    "### 1.7.2 Numerical Attributes"
   ]
  },
  {
   "cell_type": "code",
   "execution_count": 13,
   "id": "c8b23c49",
   "metadata": {
    "ExecuteTime": {
     "end_time": "2022-07-19T20:15:14.444956Z",
     "start_time": "2022-07-19T20:15:13.181729Z"
    },
    "hidden": true,
    "hide_input": false,
    "scrolled": false
   },
   "outputs": [
    {
     "data": {
      "text/html": [
       "<div>\n",
       "<style scoped>\n",
       "    .dataframe tbody tr th:only-of-type {\n",
       "        vertical-align: middle;\n",
       "    }\n",
       "\n",
       "    .dataframe tbody tr th {\n",
       "        vertical-align: top;\n",
       "    }\n",
       "\n",
       "    .dataframe thead th {\n",
       "        text-align: right;\n",
       "    }\n",
       "</style>\n",
       "<table border=\"1\" class=\"dataframe\">\n",
       "  <thead>\n",
       "    <tr style=\"text-align: right;\">\n",
       "      <th></th>\n",
       "      <th>min</th>\n",
       "      <th>max</th>\n",
       "      <th>range</th>\n",
       "      <th>mean</th>\n",
       "      <th>median</th>\n",
       "      <th>std</th>\n",
       "      <th>skew</th>\n",
       "      <th>kurtosis</th>\n",
       "    </tr>\n",
       "  </thead>\n",
       "  <tbody>\n",
       "    <tr>\n",
       "      <th>sales</th>\n",
       "      <td>0.0</td>\n",
       "      <td>41551.0</td>\n",
       "      <td>41551.0</td>\n",
       "      <td>5773.818972</td>\n",
       "      <td>5744.0</td>\n",
       "      <td>3849.924283</td>\n",
       "      <td>0.641460</td>\n",
       "      <td>1.778375</td>\n",
       "    </tr>\n",
       "    <tr>\n",
       "      <th>customers</th>\n",
       "      <td>0.0</td>\n",
       "      <td>7388.0</td>\n",
       "      <td>7388.0</td>\n",
       "      <td>633.145946</td>\n",
       "      <td>609.0</td>\n",
       "      <td>464.411506</td>\n",
       "      <td>1.598650</td>\n",
       "      <td>7.091773</td>\n",
       "    </tr>\n",
       "    <tr>\n",
       "      <th>competition_distance</th>\n",
       "      <td>20.0</td>\n",
       "      <td>200000.0</td>\n",
       "      <td>199980.0</td>\n",
       "      <td>5935.442677</td>\n",
       "      <td>2330.0</td>\n",
       "      <td>12547.646829</td>\n",
       "      <td>10.242344</td>\n",
       "      <td>147.789712</td>\n",
       "    </tr>\n",
       "  </tbody>\n",
       "</table>\n",
       "</div>"
      ],
      "text/plain": [
       "                       min       max     range         mean  median  \\\n",
       "sales                  0.0   41551.0   41551.0  5773.818972  5744.0   \n",
       "customers              0.0    7388.0    7388.0   633.145946   609.0   \n",
       "competition_distance  20.0  200000.0  199980.0  5935.442677  2330.0   \n",
       "\n",
       "                               std       skew    kurtosis  \n",
       "sales                  3849.924283   0.641460    1.778375  \n",
       "customers               464.411506   1.598650    7.091773  \n",
       "competition_distance  12547.646829  10.242344  147.789712  "
      ]
     },
     "execution_count": 13,
     "metadata": {},
     "output_type": "execute_result"
    }
   ],
   "source": [
    "# Central Tendency - mean, median\n",
    "ct1 = pd.DataFrame(df1[num_attributes].apply(np.mean)).T\n",
    "ct2 = pd.DataFrame(df1[num_attributes].apply(np.median)).T\n",
    "\n",
    "# Dispersion - std, min, max, range, skew, kurtosis\n",
    "d1 = pd.DataFrame(df1[num_attributes].apply(np.std)).T\n",
    "d2 = pd.DataFrame(df1[num_attributes].apply(min)).T\n",
    "d3 = pd.DataFrame(df1[num_attributes].apply(max)).T\n",
    "d4 = pd.DataFrame(df1[num_attributes].apply(lambda x: x.max() - x.min())).T\n",
    "d5 = pd.DataFrame(df1[num_attributes].apply(lambda x: x.skew())).T\n",
    "d6 = pd.DataFrame(df1[num_attributes].apply(lambda x: x.kurtosis())).T\n",
    "\n",
    "m = pd.concat([d2, d3, d4, ct1, ct2, d1, d5, d6]).T\n",
    "m.columns = 'min max range mean median std skew kurtosis'.split()\n",
    "m"
   ]
  },
  {
   "cell_type": "markdown",
   "id": "267ad150",
   "metadata": {
    "hidden": true
   },
   "source": [
    "1. sales: a média e a mediana estão próximas, isso indica uma distribuição centralizada na média, a skew é baixa, o que reforça uma distribuição centralizada na média, indicando uma distribuição próxima a uma normal, a skew é positiva, então tem uma cauda direita um pouco mais pesada, kurtosis próxima de 1, inidica um pico não muito alto. A distribuição deve ser parecida com uma NORMAL.\n",
    "2. customers: a média e a mediana estão prõximas mas com uma diferença de uns 5 porcento, a skew próxima a 1.5 indica um deslocamento da centralização relativamente pequeno, a skew é positiva, então tem uma cauda direita mais pesada, a kurtosis é média, sugerindo um pico relativamente alto. A distribuição pode ser parecida com uma NORMAL.\n",
    "3. competition_distance: a média e a mediana estão bastante distantes, a skew é altíssima, o que sugerem que a média e a mediana estão bastante deslocadas, é a skew é positiva, portanto uma cauda direita bem mais pesada, a kurtosis é altíssima, o que aponta um pico bastante alto, com uma alta concentração, não centralizada na média, distribuição parece uma POISSON."
   ]
  },
  {
   "cell_type": "markdown",
   "id": "cc9d005a",
   "metadata": {
    "heading_collapsed": true,
    "hidden": true
   },
   "source": [
    "### 1.7.3 Categorical Attributes"
   ]
  },
  {
   "cell_type": "code",
   "execution_count": 14,
   "id": "8ea132e2",
   "metadata": {
    "ExecuteTime": {
     "end_time": "2022-07-19T20:15:14.879616Z",
     "start_time": "2022-07-19T20:15:14.448422Z"
    },
    "hidden": true
   },
   "outputs": [
    {
     "data": {
      "text/plain": [
       "open              2\n",
       "state_holiday     4\n",
       "school_holiday    2\n",
       "store_type        4\n",
       "assortment        3\n",
       "day_of_week       7\n",
       "promo             2\n",
       "promo2            2\n",
       "is_promo          2\n",
       "dtype: int64"
      ]
     },
     "execution_count": 14,
     "metadata": {},
     "output_type": "execute_result"
    }
   ],
   "source": [
    "df1[cat_attributes].apply(lambda x: x.nunique())"
   ]
  },
  {
   "cell_type": "code",
   "execution_count": 15,
   "id": "d24cf51f",
   "metadata": {
    "ExecuteTime": {
     "end_time": "2022-07-19T20:15:18.556537Z",
     "start_time": "2022-07-19T20:15:14.880352Z"
    },
    "hidden": true,
    "hide_input": false,
    "scrolled": false
   },
   "outputs": [
    {
     "data": {
      "image/png": "[encoded data removed]",
      "text/plain": [
       "<Figure size 1440x1440 with 8 Axes>"
      ]
     },
     "metadata": {
      "needs_background": "light"
     },
     "output_type": "display_data"
    }
   ],
   "source": [
    "temp = df1[cat_attributes].astype('category')\n",
    "temp['sales'] = df1['sales']\n",
    "temp = temp.loc[temp['sales']>0]\n",
    "\n",
    "plt.figure(figsize=(20, 20))\n",
    "\n",
    "plt.subplot(2, 4, 1)\n",
    "ax = sns.boxplot(x='day_of_week', y='sales', data=temp)\n",
    "ax.tick_params(bottom=False, labelleft=False, left=False)\n",
    "# ax = sns.despine(left=True)\n",
    "plt.title('day_of_week', fontsize=20)\n",
    "plt.xlabel('')\n",
    "plt.ylabel('')\n",
    "\n",
    "plt.subplot(2, 4, 2)\n",
    "ax = sns.boxplot(x='is_promo', y='sales', data=temp)\n",
    "ax.tick_params(bottom=False, labelleft=False, left=False)\n",
    "# ax = sns.despine(left=True)\n",
    "plt.title('is_promo', fontsize=20)\n",
    "plt.xlabel('')\n",
    "plt.ylabel('')\n",
    "\n",
    "plt.subplot(2, 4, 3)\n",
    "ax = sns.boxplot(x='promo', y='sales', data=temp)\n",
    "ax.tick_params(bottom=False, labelleft=False, left=False)\n",
    "# ax = sns.despine(left=True)\n",
    "plt.title('promo', fontsize=20)\n",
    "plt.xlabel('')\n",
    "plt.ylabel('')\n",
    "\n",
    "plt.subplot(2, 4, 4)\n",
    "ax = sns.boxplot(x='promo2', y='sales', data=temp)\n",
    "ax.tick_params(bottom=False, labelleft=False, left=False)\n",
    "# ax = sns.despine(left=True)\n",
    "plt.title('promo2', fontsize=20)\n",
    "plt.xlabel('')\n",
    "plt.ylabel('')\n",
    "\n",
    "plt.subplot(2, 4, 5)\n",
    "ax = sns.boxplot(x='state_holiday', y='sales', data=temp)\n",
    "ax.tick_params(bottom=False, labelleft=False, left=False)\n",
    "# ax = sns.despine(left=True)\n",
    "plt.title('state_holiday', fontsize=20)\n",
    "plt.xlabel('')\n",
    "plt.ylabel('')\n",
    "\n",
    "plt.subplot(2, 4, 6)\n",
    "ax = sns.boxplot(x='school_holiday', y='sales', data=temp)\n",
    "ax.tick_params(bottom=False, labelleft=False, left=False)\n",
    "# ax = sns.despine(left=True)\n",
    "plt.title('school_holiday', fontsize=20)\n",
    "plt.xlabel('')\n",
    "plt.ylabel('')\n",
    "\n",
    "plt.subplot(2, 4, 7)\n",
    "ax = sns.boxplot(x='store_type', y='sales', data=temp)\n",
    "ax.tick_params(bottom=False, labelleft=False, left=False)\n",
    "# ax = sns.despine(left=True)\n",
    "plt.title('store_type', fontsize=20)\n",
    "plt.xlabel('')\n",
    "plt.ylabel('')\n",
    "\n",
    "plt.subplot(2, 4, 8)\n",
    "ax = sns.boxplot(x='assortment', y='sales', data=temp)\n",
    "ax.tick_params(bottom=False, labelleft=False, left=False)\n",
    "# ax = sns.despine(left=True)\n",
    "plt.title('assortment', fontsize=20)\n",
    "plt.xlabel('')\n",
    "plt.ylabel('');"
   ]
  },
  {
   "cell_type": "markdown",
   "id": "d211472f",
   "metadata": {
    "hidden": true
   },
   "source": [
    "1. domingos têm uma distribuição mais espalhada, com maior variância\n",
    "2. promoções do tipo promo aumentam as vendas\n",
    "4. feriados geram vendas relativamente maiores e com maior variância\n",
    "6. store_type do tipo b claramente têm maiores vendas"
   ]
  },
  {
   "cell_type": "markdown",
   "id": "0852269b",
   "metadata": {
    "heading_collapsed": true
   },
   "source": [
    "# 2.0 Feature Engineering"
   ]
  },
  {
   "cell_type": "code",
   "execution_count": 16,
   "id": "4f8289df",
   "metadata": {
    "ExecuteTime": {
     "end_time": "2022-07-19T20:15:18.635220Z",
     "start_time": "2022-07-19T20:15:18.562960Z"
    },
    "hidden": true
   },
   "outputs": [],
   "source": [
    "df2 = df1.copy()"
   ]
  },
  {
   "cell_type": "markdown",
   "id": "d39229b0",
   "metadata": {
    "heading_collapsed": true,
    "hidden": true
   },
   "source": [
    "## 2.1 Hypothesis Mindmap"
   ]
  },
  {
   "cell_type": "code",
   "execution_count": 17,
   "id": "4370006e",
   "metadata": {
    "ExecuteTime": {
     "end_time": "2022-07-19T20:15:18.676490Z",
     "start_time": "2022-07-19T20:15:18.635220Z"
    },
    "hidden": true,
    "hide_input": false,
    "scrolled": false
   },
   "outputs": [
    {
     "data": {
      "image/png": "[encoded data removed]",
      "text/plain": [
       "<IPython.core.display.Image object>"
      ]
     },
     "execution_count": 17,
     "metadata": {},
     "output_type": "execute_result"
    }
   ],
   "source": [
    "Image('..\\\\img\\\\mind_map_hypothesis.png')"
   ]
  },
  {
   "cell_type": "markdown",
   "id": "d2ab74bf",
   "metadata": {
    "heading_collapsed": true,
    "hidden": true
   },
   "source": [
    "## 2.2 Creating Hypothesis"
   ]
  },
  {
   "cell_type": "markdown",
   "id": "9b77607d",
   "metadata": {
    "heading_collapsed": true,
    "hidden": true
   },
   "source": [
    "### 2.2.1 Temporal Factors:\n",
    "1. Com o passar dos anos, as lojas deveriam vender mais.\n",
    "2. Aos feriados, as lojas deveriam vender mais.\n",
    "3. Aos ultimos trimestres, as lojas deveriam vender mais.\n",
    "4. Aos finais de semana, as lojas deveriam vender mais.\n",
    "5. Às ultimas semanas dos meses, as lojas deveriam vender MENOS.\n",
    "\n",
    "### 2.2.2 Marketing:\n",
    "6. Lojas que fazem maior investimento em divulgações, deveriam vender mais.\n",
    "7. Lojas em Períodos de promoções, deveriam vender mais.\n",
    "8. Lojas com promoções a mais tempo, deveriam vender mais.\n",
    "9. Lojas com melhores estruturas de expositores, deveriam vender mais.\n",
    "\n",
    "### 2.2.3 Clients:\n",
    "10. Lojas com clientes com maiores salários, deveriam vender mais.\n",
    "11. Lojas com uma proporção maior de público feminino, deveriam vender mais.\n",
    "12. Lojas com clientes de faixa etária relativamente maior, deveriam vender mais.\n",
    "13. Lojas com clientes com grupos familiares maiores, deveriam vender mais.\n",
    "\n",
    "### 2.2.4 Products:\n",
    "14. Produtos com pacotes unitários maiores deveriam promover maiores vendas.\n",
    "15. Produtos com margem de lucro reduzida, deveriam promover maiores vendas.\n",
    "16. Produtos com maiores demandas, deveriam promover maiores vendas.\n",
    "\n",
    "### 2.2.5 Stores:\n",
    "17. Lojas com maior sortimento, deveriam vender mais.\n",
    "18. Lojas com maiores disponibilidades de estoque, deveriam vender mais.\n",
    "19. Lojas localizadas em regiões com maiores salários, deveriam vender mais.\n",
    "20. Lojas com concorrência mais próxima, deveriam vender MENOS.\n",
    "21. Lojas com concorrência a mais tempo, deveriam vender mais.\n",
    "22. Lojas de maior porte, deveriam vender mais.\n",
    "23. Lojas com mais colaboradores, deveriam vender mais.\n",
    "\n",
    "### 2.2.5 Lista final de hipóteses:\n",
    "\n",
    "As hipóteses em negrito foram selecionadas e serão estudadas primeiro. O principal critério para selecionar as possíveis hipóteses foi a disponibilidade de features que possibilitem os estudos.\n",
    "\n",
    "1. Com o passar dos anos, as lojas deveriam vender mais.\n",
    "2. Aos feriados, as lojas deveriam vender mais.\n",
    "3. Aos ultimos trimestres, as lojas deveriam vender mais.\n",
    "4. Aos finais de semana, as lojas deveriam vender mais.\n",
    "5. Às ultimas semanas dos meses, as lojas deveriam vender MENOS.\n",
    "6. Lojas em Períodos de promoções, deveriam vender mais.\n",
    "7. Lojas com promoções a mais tempo, deveriam vender mais.\n",
    "8. Lojas com maior sortimento, deveriam vender mais.\n",
    "9. Lojas com concorrência mais próxima, deveriam vender MENOS.\n",
    "10. Lojas com mais colaboradores, deveriam vender mais."
   ]
  },
  {
   "cell_type": "markdown",
   "id": "4b85ad06",
   "metadata": {
    "heading_collapsed": true,
    "hidden": true
   },
   "source": [
    "## 2.3 Creating Features"
   ]
  },
  {
   "cell_type": "code",
   "execution_count": 18,
   "id": "90429eb7",
   "metadata": {
    "ExecuteTime": {
     "end_time": "2022-07-19T20:17:07.844159Z",
     "start_time": "2022-07-19T20:15:18.682291Z"
    },
    "hidden": true
   },
   "outputs": [],
   "source": [
    "# week\n",
    "df2['week'] = df2['date'].dt.isocalendar().week\n",
    "\n",
    "# year\n",
    "df2['year'] = df2['date'].dt.year\n",
    "\n",
    "# quarters\n",
    "df2['year_quarters'] = df2['date'].dt.month.apply(lambda x: 1 if x <= 3 else (2 if x <= 6 else (3 if x <= 9 else 4)))\n",
    "\n",
    "# weekends\n",
    "df2['weekends'] = df2['date'].dt.day_name().apply(lambda x: 0 if x not in ['Friday', 'Saturday'] else 1)\n",
    "\n",
    "# last_week_of_month\n",
    "df2['last_week_of_month'] = df2['date'].dt.day.apply(lambda x: 0 if x <= 23 else 1)\n",
    "\n",
    "# competition_since\n",
    "df2['competition_since'] = df2.apply(lambda x: datetime.datetime(day=1, month=x['competition_open_since_month'], year=x['competition_open_since_year']), axis=1)\n",
    "df2['competition_time_month'] = ((df2['date'] - df2['competition_since']) / 30).apply(lambda x: x.days).astype('int')\n",
    "df2.drop(['competition_since', 'competition_open_since_month', 'competition_open_since_year'], axis=1, inplace=True)\n",
    "\n",
    "# promo_since\n",
    "df2['promo2_since'] = df2['promo2_since_year'].astype(str) + '-' + df2['promo2_since_week'].astype(str)\n",
    "df2['promo2_since'] = df2['promo2_since'].apply(lambda x: datetime.datetime.strptime(x + '-1', '%Y-%W-%w') - datetime.timedelta(days=7))\n",
    "df2['promo2_time_week'] = ((df2['date'] - df2['promo2_since']) / 7).apply(lambda x: x.days).astype(int)\n",
    "df2.drop(['promo2_since', 'promo2_since_year', 'promo2_since_week'], axis=1, inplace=True)\n",
    "\n",
    "# assortment\n",
    "df2['assortment'] = df2['assortment'].apply(lambda x: 'basic' if x=='a' else 'extra' if x=='b' else 'extended')\n",
    "\n",
    "# state_holiday\n",
    "df2['state_holiday'] = df2['state_holiday'].apply(lambda x: 'public_holiday' if x=='a' else 'easter_holiday' if x=='b' else 'christmas' if x=='c' else 'regular_day')\n",
    "\n",
    "# day_of_week\n",
    "df2['day_of_week'] = df2['date'].dt.day_name()\n",
    "\n",
    "num_attributes.extend(['competition_time_month', 'promo2_time_week'])\n",
    "\n",
    "cat_attributes.extend(['week', 'year', 'year_quarters', 'weekends', 'last_week_of_month', 'day_of_week'])"
   ]
  },
  {
   "cell_type": "markdown",
   "id": "663efdbe",
   "metadata": {
    "heading_collapsed": true
   },
   "source": [
    "# 3.0 Exploratory Data Analysis"
   ]
  },
  {
   "cell_type": "code",
   "execution_count": 19,
   "id": "dcdf9ace",
   "metadata": {
    "ExecuteTime": {
     "end_time": "2022-07-19T20:17:08.043981Z",
     "start_time": "2022-07-19T20:17:07.844159Z"
    },
    "hidden": true
   },
   "outputs": [],
   "source": [
    "df3 = df2.copy()"
   ]
  },
  {
   "cell_type": "markdown",
   "id": "7a38bf17",
   "metadata": {
    "heading_collapsed": true,
    "hidden": true
   },
   "source": [
    "## 3.1 Univariate Analysis"
   ]
  },
  {
   "cell_type": "markdown",
   "id": "2d23ded1",
   "metadata": {
    "heading_collapsed": true,
    "hidden": true
   },
   "source": [
    "### 3.1.1 Response variable"
   ]
  },
  {
   "cell_type": "code",
   "execution_count": 20,
   "id": "cc478cda",
   "metadata": {
    "ExecuteTime": {
     "end_time": "2022-07-19T20:17:09.248294Z",
     "start_time": "2022-07-19T20:17:08.043981Z"
    },
    "hidden": true,
    "hide_input": false,
    "scrolled": true
   },
   "outputs": [
    {
     "data": {
      "image/png": "[encoded data removed]",
      "text/plain": [
       "<Figure size 1440x432 with 1 Axes>"
      ]
     },
     "metadata": {
      "needs_background": "light"
     },
     "output_type": "display_data"
    }
   ],
   "source": [
    "plt.figure(figsize=(20, 6))\n",
    "sns.histplot(df3['sales'], bins=50)\n",
    "sns.despine();"
   ]
  },
  {
   "cell_type": "markdown",
   "id": "b5baa396",
   "metadata": {
    "hidden": true
   },
   "source": [
    "Uma distribuição normal, com uma skew positiva, com uma média próxima a 5000"
   ]
  },
  {
   "cell_type": "markdown",
   "id": "8e1f58f1",
   "metadata": {
    "heading_collapsed": true,
    "hidden": true
   },
   "source": [
    "### 3.1.2 Numerical variables"
   ]
  },
  {
   "cell_type": "code",
   "execution_count": 21,
   "id": "652d6c0f",
   "metadata": {
    "ExecuteTime": {
     "end_time": "2022-07-19T20:17:13.246301Z",
     "start_time": "2022-07-19T20:17:09.253698Z"
    },
    "hidden": true,
    "hide_input": false,
    "scrolled": false
   },
   "outputs": [
    {
     "data": {
      "image/png": "[encoded data removed]",
      "text/plain": [
       "<Figure size 1440x720 with 3 Axes>"
      ]
     },
     "metadata": {
      "needs_background": "light"
     },
     "output_type": "display_data"
    }
   ],
   "source": [
    "plt.figure(figsize=(20, 10))\n",
    "plt.subplots_adjust(hspace=0.8)\n",
    "\n",
    "plt.subplot(2, 2, 1)\n",
    "outliers_indices, li, ls = search_outliers(df3, 'competition_distance')\n",
    "temp = df3.drop(outliers_indices)\n",
    "sns.histplot(temp['competition_distance'], bins=25)\n",
    "sns.despine()\n",
    "plt.title('competition_distance', fontsize=20)\n",
    "plt.xlabel('')\n",
    "plt.ylabel('count', fontsize=15)\n",
    "\n",
    "plt.subplot(2, 2, 2)\n",
    "outliers_indices, li, ls = search_outliers(df3, 'competition_time_month')\n",
    "temp = df3.drop(outliers_indices)\n",
    "sns.histplot(temp['competition_time_month'], bins=25)\n",
    "sns.despine()\n",
    "plt.title('competition_time_month', fontsize=20)\n",
    "plt.xlabel('')\n",
    "plt.ylabel('count', fontsize=15)\n",
    "\n",
    "plt.subplot(2, 2, 3)\n",
    "outliers_indices, li, ls = search_outliers(df3, 'promo2_time_week')\n",
    "temp = df3.drop(outliers_indices)\n",
    "sns.histplot(temp['promo2_time_week'], bins=25)\n",
    "sns.despine()\n",
    "plt.title('promo2_time_week', fontsize=20)\n",
    "plt.xlabel('')\n",
    "plt.ylabel('count', fontsize=15);"
   ]
  },
  {
   "cell_type": "markdown",
   "id": "dadf56e3",
   "metadata": {
    "hidden": true
   },
   "source": [
    "1. Customers apresenta uma distribuição próxima a uma normal, com uma skew levemente positiva.\n",
    "2. A maioria das lojas tem concorrência bastante próxima, uma distribuição parecida com uma Poisson, com uma skew positiva.\n",
    "3. Competition_time_month com valores bem distribuidos e esparsos.\n",
    "4. promo2_time_week com valores bem distribuídos e esparços."
   ]
  },
  {
   "cell_type": "markdown",
   "id": "af5593d3",
   "metadata": {
    "heading_collapsed": true,
    "hidden": true
   },
   "source": [
    "### 3.1.2 Categorical variables"
   ]
  },
  {
   "cell_type": "code",
   "execution_count": 22,
   "id": "537f13a4",
   "metadata": {
    "ExecuteTime": {
     "end_time": "2022-07-19T20:19:35.807084Z",
     "start_time": "2022-07-19T20:17:13.251046Z"
    },
    "hidden": true,
    "hide_input": false,
    "scrolled": false
   },
   "outputs": [
    {
     "data": {
      "image/png": "[encoded data removed]",
      "text/plain": [
       "<Figure size 1440x2880 with 25 Axes>"
      ]
     },
     "metadata": {
      "needs_background": "light"
     },
     "output_type": "display_data"
    }
   ],
   "source": [
    "temp = df3.loc[df3['open']==1]\n",
    "\n",
    "plt.figure(figsize=(20, 40))\n",
    "plt.subplots_adjust(hspace=0.8)\n",
    "\n",
    "# state_holiday\n",
    "temp1 = temp[temp['state_holiday']!='regular_day']\n",
    "plt.subplot(13, 2, 1)\n",
    "sns.countplot(x='state_holiday', data=temp1, color='b')\n",
    "plt.title('state_holiday', fontsize=20)\n",
    "plt.xlabel('')\n",
    "sns.despine()\n",
    "\n",
    "plt.subplot(13, 2, 2)\n",
    "sns.kdeplot(x='sales', data=temp.loc[temp['state_holiday']=='regular_day'], label='regular_day')\n",
    "sns.kdeplot(x='sales', data=temp.loc[temp['state_holiday']=='public_holiday'], label='public_holiday')\n",
    "sns.kdeplot(x='sales', data=temp.loc[temp['state_holiday']=='easter_holiday'], label='easter_holiday')\n",
    "sns.kdeplot(x='sales', data=temp.loc[temp['state_holiday']=='christmas'], label='christmas')\n",
    "plt.title('state_holiday', fontsize=20)\n",
    "plt.xlabel('')\n",
    "plt.legend(prop={'size': 12})\n",
    "sns.despine()\n",
    "\n",
    "# school_holiday\n",
    "plt.subplot(13, 2, 3)\n",
    "sns.countplot(x='school_holiday', data=temp, color='b')\n",
    "plt.title('school_holiday', fontsize=20)\n",
    "plt.xlabel('')\n",
    "sns.despine()\n",
    "\n",
    "plt.subplot(13, 2, 4)\n",
    "sns.kdeplot(x='sales', data=temp.loc[temp['school_holiday']==0], label='regular_day')\n",
    "sns.kdeplot(x='sales', data=temp.loc[temp['school_holiday']==1], label='holiday')\n",
    "plt.title('school_holiday', fontsize=20)\n",
    "plt.xlabel('')\n",
    "plt.legend(prop={'size': 12})\n",
    "sns.despine()\n",
    "\n",
    "# store_type\n",
    "plt.subplot(13, 2, 5)\n",
    "sns.countplot(x='store_type', data=temp, color='b', order=['a', 'b', 'c', 'd'])\n",
    "plt.title('store_type', fontsize=20)\n",
    "plt.xlabel('')\n",
    "sns.despine()\n",
    "\n",
    "plt.subplot(13, 2, 6)\n",
    "sns.kdeplot(x='sales', data=temp.loc[temp['store_type']=='a'], label='a')\n",
    "sns.kdeplot(x='sales', data=temp.loc[temp['store_type']=='b'], label='b')\n",
    "sns.kdeplot(x='sales', data=temp.loc[temp['store_type']=='c'], label='c')\n",
    "sns.kdeplot(x='sales', data=temp.loc[temp['store_type']=='d'], label='d')\n",
    "plt.title('store_type', fontsize=20)\n",
    "plt.xlabel('')\n",
    "plt.legend(prop={'size': 12})\n",
    "sns.despine()\n",
    "\n",
    "# assortment\n",
    "plt.subplot(13, 2, 7)\n",
    "sns.countplot(x='assortment', data=temp, color='b', order=['basic', 'extended', 'extra'])\n",
    "plt.title('assortment', fontsize=20)\n",
    "plt.xlabel('')\n",
    "sns.despine()\n",
    "\n",
    "plt.subplot(13, 2, 8)\n",
    "sns.kdeplot(x='sales', data=temp.loc[temp['assortment']=='basic'], label='basic')\n",
    "sns.kdeplot(x='sales', data=temp.loc[temp['assortment']=='extended'], label='extended')\n",
    "sns.kdeplot(x='sales', data=temp.loc[temp['assortment']=='extra'], label='extra')\n",
    "plt.title('assortment', fontsize=20)\n",
    "plt.xlabel('')\n",
    "plt.legend(prop={'size': 12})\n",
    "sns.despine()\n",
    "\n",
    "# day_of_week\n",
    "plt.subplot(13, 2, 9)\n",
    "sns.countplot(x='day_of_week', data=temp, color='b', order= 'Monday Tuesday Wednesday Thursday Friday Saturday Sunday'.split())\n",
    "plt.title('day_of_week', fontsize=20)\n",
    "plt.xlabel('')\n",
    "sns.despine()\n",
    "\n",
    "plt.subplot(13, 2, 10)\n",
    "sns.kdeplot(x='sales', data=temp.loc[temp['day_of_week']=='Monday'], label='Monday')\n",
    "sns.kdeplot(x='sales', data=temp.loc[temp['day_of_week']=='Tuesday'], label='Tuesday')\n",
    "sns.kdeplot(x='sales', data=temp.loc[temp['day_of_week']=='Wednesday'], label='Wednesday')\n",
    "sns.kdeplot(x='sales', data=temp.loc[temp['day_of_week']=='Thursday'], label='Thursday')\n",
    "sns.kdeplot(x='sales', data=temp.loc[temp['day_of_week']=='Friday'], label='Friday')\n",
    "sns.kdeplot(x='sales', data=temp.loc[temp['day_of_week']=='Saturday'], label='Saturday')\n",
    "sns.kdeplot(x='sales', data=temp.loc[temp['day_of_week']=='Sunday'], label='Sunday')\n",
    "plt.title('day_of_week', fontsize=20)\n",
    "plt.xlabel('')\n",
    "plt.legend(prop={'size': 12})\n",
    "sns.despine()\n",
    "\n",
    "# promo\n",
    "plt.subplot(13, 2, 11)\n",
    "sns.countplot(x='promo', data=temp, color='b')\n",
    "plt.title('promo', fontsize=20)\n",
    "plt.xlabel('')\n",
    "sns.despine()\n",
    "\n",
    "plt.subplot(13, 2, 12)\n",
    "sns.kdeplot(x='sales', data=temp.loc[temp['promo']==0], label='regular')\n",
    "sns.kdeplot(x='sales', data=temp.loc[temp['promo']==1], label='promo')\n",
    "plt.title('promo', fontsize=20)\n",
    "plt.xlabel('')\n",
    "plt.legend(prop={'size': 12})\n",
    "sns.despine()\n",
    "\n",
    "# promo2\n",
    "plt.subplot(13, 2, 13)\n",
    "sns.countplot(x='promo2', data=temp, color='b')\n",
    "plt.title('promo2', fontsize=20)\n",
    "plt.xlabel('')\n",
    "sns.despine()\n",
    "\n",
    "plt.subplot(13, 2, 14)\n",
    "sns.kdeplot(x='sales', data=temp.loc[temp['promo2']==0], label='regular')\n",
    "sns.kdeplot(x='sales', data=temp.loc[temp['promo2']==1], label='promo')\n",
    "plt.title('promo2', fontsize=20)\n",
    "plt.xlabel('')\n",
    "plt.legend(prop={'size': 12})\n",
    "sns.despine()\n",
    "\n",
    "# is_promo\n",
    "plt.subplot(13, 2, 15)\n",
    "sns.countplot(x='is_promo', data=temp, color='b')\n",
    "plt.title('is_promo', fontsize=20)\n",
    "plt.xlabel('')\n",
    "sns.despine()\n",
    "\n",
    "plt.subplot(13, 2, 16)\n",
    "sns.kdeplot(x='sales', data=temp.loc[temp['is_promo']==0], label='regular')\n",
    "sns.kdeplot(x='sales', data=temp.loc[temp['is_promo']==1], label='promo')\n",
    "plt.title('is_promo', fontsize=20)\n",
    "plt.xlabel('')\n",
    "plt.legend(prop={'size': 12})\n",
    "sns.despine()\n",
    "\n",
    "# year\n",
    "plt.subplot(13, 2, 17)\n",
    "sns.countplot(x='year', data=temp, color='b')\n",
    "plt.title('year', fontsize=20)\n",
    "plt.xlabel('')\n",
    "sns.despine()\n",
    "\n",
    "plt.subplot(13, 2, 18)\n",
    "sns.kdeplot(x='sales', data=temp.loc[temp['year']==2013], label='2013')\n",
    "sns.kdeplot(x='sales', data=temp.loc[temp['year']==2014], label='2014')\n",
    "sns.kdeplot(x='sales', data=temp.loc[temp['year']==2015], label='2015')\n",
    "plt.title('year', fontsize=20)\n",
    "plt.xlabel('')\n",
    "plt.legend(prop={'size': 12})\n",
    "sns.despine()\n",
    "\n",
    "# year_quarters\n",
    "plt.subplot(13, 2, 19)\n",
    "sns.countplot(x='year_quarters', data=temp, color='b')\n",
    "plt.title('year_quarters', fontsize=20)\n",
    "plt.xlabel('')\n",
    "sns.despine()\n",
    "\n",
    "plt.subplot(13, 2, 20)\n",
    "sns.kdeplot(x='sales', data=temp.loc[temp['year_quarters']==1], label='1')\n",
    "sns.kdeplot(x='sales', data=temp.loc[temp['year_quarters']==2], label='2')\n",
    "sns.kdeplot(x='sales', data=temp.loc[temp['year_quarters']==3], label='3')\n",
    "sns.kdeplot(x='sales', data=temp.loc[temp['year_quarters']==4], label='4')\n",
    "plt.title('year_quarters', fontsize=20)\n",
    "plt.xlabel('')\n",
    "plt.legend(prop={'size': 12})\n",
    "sns.despine()\n",
    "\n",
    "# weekends\n",
    "plt.subplot(13, 2, 21)\n",
    "sns.countplot(x='weekends', data=temp, color='b')\n",
    "plt.title('weekends', fontsize=20)\n",
    "plt.xlabel('')\n",
    "sns.despine()\n",
    "\n",
    "plt.subplot(13, 2, 22)\n",
    "sns.kdeplot(x='sales', data=temp.loc[temp['weekends']==0], label='regular_day')\n",
    "sns.kdeplot(x='sales', data=temp.loc[temp['weekends']==1], label='weekend')\n",
    "plt.title('weekends', fontsize=20)\n",
    "plt.xlabel('')\n",
    "plt.legend(prop={'size': 12})\n",
    "sns.despine()\n",
    "\n",
    "# last_week_of_month\n",
    "plt.subplot(13, 2, 23)\n",
    "sns.countplot(x='last_week_of_month', data=temp, color='b')\n",
    "plt.title('last_week_of_month', fontsize=20)\n",
    "plt.xlabel('')\n",
    "sns.despine()\n",
    "\n",
    "plt.subplot(13, 2, 24)\n",
    "sns.kdeplot(x='sales', data=temp.loc[temp['last_week_of_month']==0], label='regular_week')\n",
    "sns.kdeplot(x='sales', data=temp.loc[temp['last_week_of_month']==1], label='last_week')\n",
    "plt.title('last_week_of_month', fontsize=20)\n",
    "plt.xlabel('')\n",
    "plt.legend(prop={'size': 12})\n",
    "sns.despine()\n",
    "\n",
    "# week\n",
    "plt.subplot(13, 2, 25)\n",
    "temp3 = temp.groupby('week').agg({'sales':'mean'}).reset_index()\n",
    "sns.lineplot(data=temp3, x='week', y='sales')\n",
    "plt.title('sales by week', fontsize=20)\n",
    "plt.xlabel('')\n",
    "sns.despine();"
   ]
  },
  {
   "cell_type": "markdown",
   "id": "73968ddd",
   "metadata": {
    "heading_collapsed": true,
    "hidden": true
   },
   "source": [
    "## 3.2 Bivariate Analysis"
   ]
  },
  {
   "cell_type": "markdown",
   "id": "633184dc",
   "metadata": {
    "heading_collapsed": true,
    "hidden": true
   },
   "source": [
    "#### H1 Com o passar dos anos, as lojas deveriam vender mais."
   ]
  },
  {
   "cell_type": "markdown",
   "id": "7316135d",
   "metadata": {
    "hidden": true
   },
   "source": [
    "Hipótese refutada, as vendas permanecem estáveis com o passar dos anos"
   ]
  },
  {
   "cell_type": "code",
   "execution_count": 23,
   "id": "cc6b43ff",
   "metadata": {
    "ExecuteTime": {
     "end_time": "2022-07-19T20:19:36.041137Z",
     "start_time": "2022-07-19T20:19:35.807084Z"
    },
    "hidden": true,
    "hide_input": false,
    "scrolled": false
   },
   "outputs": [
    {
     "data": {
      "image/png": "[encoded data removed]",
      "text/plain": [
       "<Figure size 432x288 with 1 Axes>"
      ]
     },
     "metadata": {
      "needs_background": "light"
     },
     "output_type": "display_data"
    }
   ],
   "source": [
    "temp = df3.groupby('year').agg({'sales':'mean'}).reset_index()\n",
    "sns.barplot(x='year', y='sales', data=temp)\n",
    "sns.despine();"
   ]
  },
  {
   "cell_type": "markdown",
   "id": "0bc7619a",
   "metadata": {
    "heading_collapsed": true,
    "hidden": true
   },
   "source": [
    "#### H2 Aos feriados, as lojas deveriam vender mais"
   ]
  },
  {
   "cell_type": "markdown",
   "id": "2309353f",
   "metadata": {
    "heading_collapsed": true,
    "hidden": true
   },
   "source": [
    "#### H3 Aos ultimos trimestres, as lojas deveriam vender mais."
   ]
  },
  {
   "cell_type": "code",
   "execution_count": null,
   "id": "1711486d",
   "metadata": {
    "hidden": true
   },
   "outputs": [],
   "source": []
  },
  {
   "cell_type": "markdown",
   "id": "f96d2077",
   "metadata": {
    "heading_collapsed": true,
    "hidden": true
   },
   "source": [
    "#### H4 Aos finais de semana, as lojas deveriam vender mais."
   ]
  },
  {
   "cell_type": "code",
   "execution_count": null,
   "id": "f54458c9",
   "metadata": {
    "hidden": true
   },
   "outputs": [],
   "source": []
  },
  {
   "cell_type": "markdown",
   "id": "39f62f49",
   "metadata": {
    "heading_collapsed": true,
    "hidden": true
   },
   "source": [
    "#### H5 Às ultimas semanas dos meses, as lojas deveriam vender MENOS.**."
   ]
  },
  {
   "cell_type": "code",
   "execution_count": null,
   "id": "aea10944",
   "metadata": {
    "hidden": true
   },
   "outputs": [],
   "source": []
  },
  {
   "cell_type": "markdown",
   "id": "0321d84d",
   "metadata": {
    "heading_collapsed": true,
    "hidden": true
   },
   "source": [
    "#### H6 Períodos de promoções, deveriam vender mais."
   ]
  },
  {
   "cell_type": "code",
   "execution_count": null,
   "id": "d1d6af97",
   "metadata": {
    "hidden": true
   },
   "outputs": [],
   "source": []
  },
  {
   "cell_type": "markdown",
   "id": "914582e8",
   "metadata": {
    "heading_collapsed": true,
    "hidden": true
   },
   "source": [
    "#### H7 Lojas com promoções a mais tempo, deveriam vender mais."
   ]
  },
  {
   "cell_type": "code",
   "execution_count": null,
   "id": "89684e2d",
   "metadata": {
    "hidden": true
   },
   "outputs": [],
   "source": []
  },
  {
   "cell_type": "markdown",
   "id": "31171fc9",
   "metadata": {
    "heading_collapsed": true,
    "hidden": true
   },
   "source": [
    "#### H8 Lojas com maior sortimento, deveriam vender mais."
   ]
  },
  {
   "cell_type": "code",
   "execution_count": 24,
   "id": "affa07eb",
   "metadata": {
    "ExecuteTime": {
     "end_time": "2022-07-19T20:19:36.332532Z",
     "start_time": "2022-07-19T20:19:36.046837Z"
    },
    "hidden": true,
    "scrolled": true
   },
   "outputs": [
    {
     "data": {
      "image/png": "[encoded data removed]",
      "text/plain": [
       "<Figure size 432x288 with 1 Axes>"
      ]
     },
     "metadata": {
      "needs_background": "light"
     },
     "output_type": "display_data"
    }
   ],
   "source": [
    "temp = df3.groupby('assortment').agg({'sales':'mean'}).reset_index()\n",
    "sns.barplot(x='assortment', y='sales', data=temp)\n",
    "sns.despine()\n",
    "plt.ylabel('')\n",
    "plt.xlabel('')\n",
    "plt.title('Sales by Assortment', fontsize=20);"
   ]
  },
  {
   "cell_type": "markdown",
   "id": "0468c653",
   "metadata": {
    "heading_collapsed": true,
    "hidden": true
   },
   "source": [
    "#### H9 Lojas com concorrência mais próxima, deveriam vender **MENOS**."
   ]
  },
  {
   "cell_type": "code",
   "execution_count": null,
   "id": "b6653ecd",
   "metadata": {
    "hidden": true
   },
   "outputs": [],
   "source": []
  },
  {
   "cell_type": "markdown",
   "id": "6d985228",
   "metadata": {
    "heading_collapsed": true,
    "hidden": true
   },
   "source": [
    "#### H10 Lojas com concorrência a mais tempo, deveriam vender mais."
   ]
  },
  {
   "cell_type": "code",
   "execution_count": null,
   "id": "a942a6ff",
   "metadata": {
    "hidden": true
   },
   "outputs": [],
   "source": []
  },
  {
   "cell_type": "markdown",
   "id": "4d41c2e9",
   "metadata": {
    "heading_collapsed": true,
    "hidden": true
   },
   "source": [
    "## 3.3 Multivariate Analysis"
   ]
  },
  {
   "cell_type": "markdown",
   "id": "d64f5846",
   "metadata": {
    "heading_collapsed": true,
    "hidden": true
   },
   "source": [
    "### 3.3.1 Numerical Attributes"
   ]
  },
  {
   "cell_type": "code",
   "execution_count": 25,
   "id": "686a765b",
   "metadata": {
    "ExecuteTime": {
     "end_time": "2022-07-19T20:19:36.779392Z",
     "start_time": "2022-07-19T20:19:36.334696Z"
    },
    "hidden": true
   },
   "outputs": [
    {
     "data": {
      "image/png": "[encoded data removed]",
      "text/plain": [
       "<Figure size 432x288 with 1 Axes>"
      ]
     },
     "metadata": {
      "needs_background": "light"
     },
     "output_type": "display_data"
    }
   ],
   "source": [
    "sns.heatmap(df3[num_attributes].corr(), annot=True, cbar=False);"
   ]
  },
  {
   "cell_type": "markdown",
   "id": "43609dc2",
   "metadata": {
    "heading_collapsed": true,
    "hidden": true
   },
   "source": [
    "### 3.3.2 Categorical Attributes"
   ]
  },
  {
   "cell_type": "code",
   "execution_count": 26,
   "id": "52bc21dd",
   "metadata": {
    "ExecuteTime": {
     "end_time": "2022-07-19T20:20:27.210340Z",
     "start_time": "2022-07-19T20:19:36.779392Z"
    },
    "hidden": true
   },
   "outputs": [
    {
     "data": {
      "image/png": "[encoded data removed]",
      "text/plain": [
       "<Figure size 432x288 with 1 Axes>"
      ]
     },
     "metadata": {
      "needs_background": "light"
     },
     "output_type": "display_data"
    }
   ],
   "source": [
    "cramer_correlation = []\n",
    "\n",
    "for i, col_1 in enumerate(cat_attributes):\n",
    "    for j, col_2 in enumerate(cat_attributes):\n",
    "        cramer_correlation.append(cramer_v(df3[col_1], df3[col_2]))\n",
    "        \n",
    "matrix = pd.DataFrame(np.array(cramer_correlation).reshape(15, 15), index=cat_attributes, columns=cat_attributes)\n",
    "\n",
    "sns.heatmap(matrix, annot=True, cbar=False);"
   ]
  },
  {
   "cell_type": "markdown",
   "id": "829503ef",
   "metadata": {
    "heading_collapsed": true
   },
   "source": [
    "# 4.0 Data Filtering"
   ]
  },
  {
   "cell_type": "code",
   "execution_count": 27,
   "id": "cf36f931",
   "metadata": {
    "ExecuteTime": {
     "end_time": "2022-07-19T20:20:27.317821Z",
     "start_time": "2022-07-19T20:20:27.210340Z"
    },
    "hidden": true
   },
   "outputs": [],
   "source": [
    "df4 = df3.copy()"
   ]
  },
  {
   "cell_type": "markdown",
   "id": "8d0e707e",
   "metadata": {
    "heading_collapsed": true,
    "hidden": true
   },
   "source": [
    "## 4.1 Rows filtering"
   ]
  },
  {
   "cell_type": "markdown",
   "id": "d6a58862",
   "metadata": {
    "hidden": true
   },
   "source": [
    "Filtrando lojas fechadas"
   ]
  },
  {
   "cell_type": "code",
   "execution_count": 28,
   "id": "ec08496a",
   "metadata": {
    "ExecuteTime": {
     "end_time": "2022-07-19T20:20:27.695099Z",
     "start_time": "2022-07-19T20:20:27.333273Z"
    },
    "hidden": true
   },
   "outputs": [],
   "source": [
    "df4 = df4.loc[df4['open']!=0]\n",
    "df4 = df4.loc[df4['sales']>0]"
   ]
  },
  {
   "cell_type": "markdown",
   "id": "2e72152a",
   "metadata": {
    "heading_collapsed": true,
    "hidden": true
   },
   "source": [
    "## 4.2 Columns filtering"
   ]
  },
  {
   "cell_type": "code",
   "execution_count": 29,
   "id": "da2929c6",
   "metadata": {
    "ExecuteTime": {
     "end_time": "2022-07-19T20:20:27.835854Z",
     "start_time": "2022-07-19T20:20:27.695099Z"
    },
    "hidden": true
   },
   "outputs": [],
   "source": [
    "cols_filtering = ['open', 'customers']\n",
    "df4 = df4.drop(cols_filtering, axis=1)\n",
    "\n",
    "num_attributes.remove('customers')\n",
    "cat_attributes.remove('open')"
   ]
  },
  {
   "cell_type": "markdown",
   "id": "8ed61502",
   "metadata": {
    "hidden": true
   },
   "source": [
    "A coluna customer não poderá seguir para a modelagem, mas permanecerá no dataset para participar da análise exploratória de dados"
   ]
  },
  {
   "cell_type": "markdown",
   "id": "825f39b9",
   "metadata": {
    "heading_collapsed": true
   },
   "source": [
    "# 5.0 Data Preparation"
   ]
  },
  {
   "cell_type": "code",
   "execution_count": 30,
   "id": "6f216e77",
   "metadata": {
    "ExecuteTime": {
     "end_time": "2022-07-19T20:20:27.909312Z",
     "start_time": "2022-07-19T20:20:27.835854Z"
    },
    "hidden": true
   },
   "outputs": [],
   "source": [
    "df5 = df4.copy()"
   ]
  },
  {
   "cell_type": "markdown",
   "id": "ecac2d03",
   "metadata": {
    "heading_collapsed": true,
    "hidden": true
   },
   "source": [
    "## 5.1 Features"
   ]
  },
  {
   "cell_type": "markdown",
   "id": "26ff9875",
   "metadata": {
    "heading_collapsed": true,
    "hidden": true
   },
   "source": [
    "### 5.1.1 Normalization"
   ]
  },
  {
   "cell_type": "code",
   "execution_count": null,
   "id": "4d565238",
   "metadata": {
    "hidden": true
   },
   "outputs": [],
   "source": []
  },
  {
   "cell_type": "markdown",
   "id": "a5c1a3fc",
   "metadata": {
    "heading_collapsed": true,
    "hidden": true
   },
   "source": [
    "### 5.1.2 Rescalling"
   ]
  },
  {
   "cell_type": "code",
   "execution_count": 31,
   "id": "ce18111d",
   "metadata": {
    "ExecuteTime": {
     "end_time": "2022-07-19T20:20:28.107897Z",
     "start_time": "2022-07-19T20:20:27.914802Z"
    },
    "hidden": true
   },
   "outputs": [],
   "source": [
    "# 'competition_distance'\n",
    "rs_competition_distance = RobustScaler().fit(df5[['competition_distance']].values)\n",
    "df5['competition_distance'] = rs_competition_distance.transform(df5[['competition_distance']].values)\n",
    "\n",
    "# 'competition_time_month'\n",
    "rs_competition_time_month = RobustScaler().fit(df5[['competition_time_month']].values)\n",
    "df5['competition_time_month'] = rs_competition_distance.transform(df5[['competition_time_month']].values)\n",
    "\n",
    "# 'promo2_time_week'\n",
    "mm_promo2_time_week = MinMaxScaler().fit(df5[['promo2_time_week']].values)\n",
    "df5['promo2_time_week'] = mm_promo2_time_week.transform(df5[['promo2_time_week']].values)"
   ]
  },
  {
   "cell_type": "markdown",
   "id": "92b4f765",
   "metadata": {
    "heading_collapsed": true,
    "hidden": true
   },
   "source": [
    "### 5.1.3 Transformation"
   ]
  },
  {
   "cell_type": "markdown",
   "id": "20e54269",
   "metadata": {
    "heading_collapsed": true,
    "hidden": true
   },
   "source": [
    "#### 5.1.3.1 Encoding"
   ]
  },
  {
   "cell_type": "code",
   "execution_count": 32,
   "id": "b057ab26",
   "metadata": {
    "ExecuteTime": {
     "end_time": "2022-07-19T20:20:28.473706Z",
     "start_time": "2022-07-19T20:20:28.107897Z"
    },
    "hidden": true
   },
   "outputs": [],
   "source": [
    "# 'state_holiday'\n",
    "map_state_holiday = {'regular_day': 0, 'public_holiday':1, 'easter_holiday':2, 'christmas':3}\n",
    "df5['state_holiday'] = df5['state_holiday'].map(map_state_holiday)\n",
    "\n",
    "# 'store_type'\n",
    "map_store_type = {'a':1, 'b':2, 'c':3, 'd':4}\n",
    "df5['store_type'] = df5['store_type'].map(map_store_type)\n",
    "\n",
    "# 'assortment'\n",
    "map_assortment = {'basic':1, 'extended':2, 'extra':3}\n",
    "df5['assortment'] = df5['assortment'].map(map_assortment)\n",
    "\n",
    "# 'year'\n",
    "map_year = {2013:1, 2014:2, 2015:3}\n",
    "df5['year'] = df5['year'].map(map_year)"
   ]
  },
  {
   "cell_type": "markdown",
   "id": "d381ec98",
   "metadata": {
    "heading_collapsed": true,
    "hidden": true
   },
   "source": [
    "#### 5.1.3.2 Response Variable Transformation"
   ]
  },
  {
   "cell_type": "code",
   "execution_count": 33,
   "id": "1c4397e6",
   "metadata": {
    "ExecuteTime": {
     "end_time": "2022-07-19T20:20:28.546826Z",
     "start_time": "2022-07-19T20:20:28.476186Z"
    },
    "hidden": true
   },
   "outputs": [],
   "source": [
    "# 'sales'\n",
    "df5['sales'] = np.log1p(df5['sales'])"
   ]
  },
  {
   "cell_type": "markdown",
   "id": "e16e6b6d",
   "metadata": {
    "heading_collapsed": true,
    "hidden": true
   },
   "source": [
    "#### 5.1.3.3 Nature Transformation"
   ]
  },
  {
   "cell_type": "code",
   "execution_count": 34,
   "id": "9c19575a",
   "metadata": {
    "ExecuteTime": {
     "end_time": "2022-07-19T20:20:58.094319Z",
     "start_time": "2022-07-19T20:20:28.546826Z"
    },
    "hidden": true
   },
   "outputs": [],
   "source": [
    "# 'day_of_week'\n",
    "df5['day_of_week'] = df5['date'].dt.dayofweek\n",
    "day_of_week_cicle = df5['day_of_week'].max() - df5['day_of_week'].min() + 1\n",
    "df5['day_of_week_sin'] = df5['day_of_week'].apply(lambda x: np.sin(x*(2*np.pi/day_of_week_cicle)))\n",
    "df5['day_of_week_cos'] = df5['day_of_week'].apply(lambda x: np.cos(x*(2*np.pi/day_of_week_cicle)))\n",
    "df5.drop('day_of_week', axis=1, inplace=True)\n",
    "\n",
    "# 'week'\n",
    "week_cicle = df5['week'].max() - df5['week'].min() + 1\n",
    "df5['week_sin'] = df5['week'].apply(lambda x: np.sin(x*(2*np.pi/week_cicle)))\n",
    "df5['week_cos'] = df5['week'].apply(lambda x: np.cos(x*(2*np.pi/week_cicle)))\n",
    "df5.drop('week', axis=1, inplace=True)\n",
    "\n",
    "# 'year_quarters'\n",
    "year_quarters_cicle = df5['year_quarters'].max() - df5['year_quarters'].min() + 1\n",
    "df5['year_quarters_sin'] = df5['year_quarters'].apply(lambda x: np.sin(x*(2*np.pi/year_quarters_cicle)))\n",
    "df5['year_quarters_cos'] = df5['year_quarters'].apply(lambda x: np.cos(x*(2*np.pi/year_quarters_cicle)))\n",
    "df5.drop('year_quarters', axis=1, inplace=True)"
   ]
  },
  {
   "cell_type": "markdown",
   "id": "477468a7",
   "metadata": {
    "heading_collapsed": true,
    "hidden": true
   },
   "source": [
    "## 5.2 Splits"
   ]
  },
  {
   "cell_type": "code",
   "execution_count": 35,
   "id": "a63721dd",
   "metadata": {
    "ExecuteTime": {
     "end_time": "2022-07-19T20:20:58.384632Z",
     "start_time": "2022-07-19T20:20:58.094319Z"
    },
    "hidden": true
   },
   "outputs": [],
   "source": [
    "# Train and Validation\n",
    "X_train = df5.loc[df5['date'] < df5['date'].max() - pd.Timedelta(6, 'w')].drop(['sales', 'date', 'store'], axis=1).values\n",
    "y_train = df5.loc[df5['date'] < df5['date'].max() - pd.Timedelta(6, 'w'), 'sales'].values.ravel()\n",
    "\n",
    "X_test = df5.loc[df5['date'] >= df5['date'].max() - pd.Timedelta(6, 'w')].drop(['sales', 'date', 'store'], axis=1).values\n",
    "y_test = df5.loc[df5['date'] >= df5['date'].max() - pd.Timedelta(6, 'w'), 'sales'].values.ravel()"
   ]
  },
  {
   "cell_type": "markdown",
   "id": "92c66ef1",
   "metadata": {
    "heading_collapsed": true,
    "hidden": true
   },
   "source": [
    "## 5.3 Test Processing"
   ]
  },
  {
   "cell_type": "code",
   "execution_count": 36,
   "id": "8abe158f",
   "metadata": {
    "ExecuteTime": {
     "end_time": "2022-07-19T20:20:58.400254Z",
     "start_time": "2022-07-19T20:20:58.384632Z"
    },
    "hidden": true
   },
   "outputs": [],
   "source": [
    "# rename columns\n",
    "cols_new_ = cols_new.copy()\n",
    "cols_new_.remove('sales')\n",
    "test.columns = cols_new_"
   ]
  },
  {
   "cell_type": "code",
   "execution_count": 37,
   "id": "1d472f34",
   "metadata": {
    "ExecuteTime": {
     "end_time": "2022-07-19T20:21:09.086204Z",
     "start_time": "2022-07-19T20:20:58.404438Z"
    },
    "hidden": true
   },
   "outputs": [],
   "source": [
    "# changing date datatype\n",
    "test['date'] = pd.to_datetime(test['date'])\n",
    "\n",
    "# competition_distance\n",
    "test.loc[test['competition_distance'].isna(), 'competition_distance'] = constant_competition_distance\n",
    "\n",
    "# competition_open_since_month\n",
    "test['competition_open_since_month'] = test.apply(lambda x: x['date'].month if np.isnan(x['competition_open_since_month']) else x['competition_open_since_month'], axis=1) \n",
    "\n",
    "# competition_open_since_year\n",
    "test['competition_open_since_year'] = test.apply(lambda x: x['date'].year if np.isnan(x['competition_open_since_year']) else x['competition_open_since_year'], axis=1)\n",
    "\n",
    "# promo2_since_week\n",
    "test['promo2_since_week'] = test.apply(lambda x: x['date'].week if np.isnan(x['promo2_since_week']) else x['promo2_since_week'], axis=1)\n",
    "\n",
    "# promo2_since_year\n",
    "test['promo2_since_year'] = test.apply(lambda x: x['date'].year if np.isnan(x['promo2_since_year']) else x['promo2_since_year'], axis=1)\n",
    "\n",
    "# promo_interval\n",
    "test['promo_interval'].fillna(0, inplace=True)\n",
    "test['month_map'] = test['date'].dt.month.map(month_map)\n",
    "test['is_promo'] = test[['promo_interval', 'month_map']].apply(lambda x: 0 if x['promo_interval'] == 0 else 1 if x['month_map'] in x['promo_interval'].split(',') else 0, axis=1)\n",
    "test.drop(['promo_interval', 'month_map'], axis=1, inplace=True)\n",
    "\n",
    "# change datatypes\n",
    "test['competition_open_since_month'] = test['competition_open_since_month'].astype('int')\n",
    "test['competition_open_since_year'] = test['competition_open_since_year'].astype('int')\n",
    "\n",
    "test['promo2_since_week'] = test['promo2_since_week'].astype('int')\n",
    "test['promo2_since_year'] = test['promo2_since_year'].astype('int')\n",
    "\n",
    "# week\n",
    "test['week'] = test['date'].dt.isocalendar().week\n",
    "\n",
    "# year\n",
    "test['year'] = test['date'].dt.year\n",
    "\n",
    "# quarters\n",
    "test['year_quarters'] = test['date'].dt.month.apply(lambda x: 1 if x <= 3 else (2 if x <= 6 else (3 if x <= 9 else 4)))\n",
    "\n",
    "# weekends\n",
    "test['weekends'] = test['date'].dt.day_name().apply(lambda x: 0 if x not in ['Friday', 'Saturday'] else 1)\n",
    "\n",
    "# last_week_of_month\n",
    "test['last_week_of_month'] = test['date'].dt.day.apply(lambda x: 0 if x <= 23 else 1)\n",
    "\n",
    "# competition_since\n",
    "test['competition_since'] = test.apply(lambda x: datetime.datetime(day=1, month=x['competition_open_since_month'], year=x['competition_open_since_year']), axis=1)\n",
    "test['competition_time_month'] = ((test['date'] - test['competition_since']) / 30).apply(lambda x: x.days).astype('int')\n",
    "test.drop(['competition_since', 'competition_open_since_month', 'competition_open_since_year'], axis=1, inplace=True)\n",
    "\n",
    "# promo_since\n",
    "test['promo2_since'] = test['promo2_since_year'].astype(str) + '-' + test['promo2_since_week'].astype(str)\n",
    "test['promo2_since'] = test['promo2_since'].apply(lambda x: datetime.datetime.strptime(x + '-1', '%Y-%W-%w') - datetime.timedelta(days=7))\n",
    "test['promo2_time_week'] = ((test['date'] - test['promo2_since']) / 7).apply(lambda x: x.days).astype(int)\n",
    "test.drop(['promo2_since', 'promo2_since_year', 'promo2_since_week'], axis=1, inplace=True)\n",
    "\n",
    "# assortment\n",
    "test['assortment'] = test['assortment'].apply(lambda x: 'basic' if x=='a' else 'extra' if x=='b' else 'extended')\n",
    "\n",
    "# state_holiday\n",
    "test['state_holiday'] = test['state_holiday'].apply(lambda x: 'public_holiday' if x=='a' else 'easter_holiday' if x=='b' else 'christmas' if x=='c' else 'regular_day')\n",
    "\n",
    "# day_of_week\n",
    "test['day_of_week'] = test['date'].dt.day_name()\n",
    "\n",
    "# rows filtering\n",
    "test = test.loc[test['open']!=0]\n",
    "\n",
    "# columns filtering\n",
    "test = test.drop(cols_filtering, axis=1)\n",
    "\n",
    "# 'competition_distance'\n",
    "test['competition_distance'] = rs_competition_distance.transform(test[['competition_distance']].values)\n",
    "\n",
    "# 'competition_time_month'\n",
    "test['competition_time_month'] = rs_competition_distance.transform(test[['competition_time_month']].values)\n",
    "\n",
    "# 'promo2_time_week'\n",
    "test['promo2_time_week'] = mm_promo2_time_week.transform(test[['promo2_time_week']].values)\n",
    "\n",
    "# 'state_holiday'\n",
    "test['state_holiday'] = test['state_holiday'].map(map_state_holiday)\n",
    "\n",
    "# 'store_type'\n",
    "test['store_type'] = test['store_type'].map(map_store_type)\n",
    "\n",
    "# 'assortment'\n",
    "test['assortment'] = test['assortment'].map(map_assortment)\n",
    "\n",
    "# 'year'\n",
    "test['year'] = test['year'].map(map_year)\n",
    "\n",
    "# 'day_of_week'\n",
    "test['day_of_week'] = test['date'].dt.dayofweek\n",
    "test['day_of_week_sin'] = test['day_of_week'].apply(lambda x: np.sin(x*(2*np.pi/day_of_week_cicle)))\n",
    "test['day_of_week_cos'] = test['day_of_week'].apply(lambda x: np.cos(x*(2*np.pi/day_of_week_cicle)))\n",
    "test.drop('day_of_week', axis=1, inplace=True)\n",
    "\n",
    "# 'week'\n",
    "test['week_sin'] = test['week'].apply(lambda x: np.sin(x*(2*np.pi/week_cicle)))\n",
    "test['week_cos'] = test['week'].apply(lambda x: np.cos(x*(2*np.pi/week_cicle)))\n",
    "test.drop('week', axis=1, inplace=True)\n",
    "\n",
    "# 'year_quarters'\n",
    "test['year_quarters_sin'] = test['year_quarters'].apply(lambda x: np.sin(x*(2*np.pi/year_quarters_cicle)))\n",
    "test['year_quarters_cos'] = test['year_quarters'].apply(lambda x: np.cos(x*(2*np.pi/year_quarters_cicle)))\n",
    "test.drop('year_quarters', axis=1, inplace=True)"
   ]
  },
  {
   "cell_type": "markdown",
   "id": "16d42bb2",
   "metadata": {
    "heading_collapsed": true
   },
   "source": [
    "# 6.0 Feature Selection"
   ]
  },
  {
   "cell_type": "code",
   "execution_count": 38,
   "id": "1f905867",
   "metadata": {
    "ExecuteTime": {
     "end_time": "2022-07-19T20:21:09.159146Z",
     "start_time": "2022-07-19T20:21:09.086204Z"
    },
    "hidden": true
   },
   "outputs": [],
   "source": [
    "df6 = df5.copy()"
   ]
  },
  {
   "cell_type": "markdown",
   "id": "cd5bf0c5",
   "metadata": {
    "heading_collapsed": true,
    "hidden": true
   },
   "source": [
    "## 6.1 Embedded Method"
   ]
  },
  {
   "cell_type": "markdown",
   "id": "a38e7730",
   "metadata": {
    "heading_collapsed": true,
    "hidden": true
   },
   "source": [
    "### 6.1.1 Random Forest Regressor"
   ]
  },
  {
   "cell_type": "code",
   "execution_count": 39,
   "id": "e2b1a136",
   "metadata": {
    "ExecuteTime": {
     "end_time": "2022-07-19T20:27:25.520467Z",
     "start_time": "2022-07-19T20:21:09.159146Z"
    },
    "hidden": true
   },
   "outputs": [
    {
     "name": "stdout",
     "output_type": "stream",
     "text": [
      "MAE: 1678.2803738199327\n",
      "MAPE: 0.28530143686577375\n",
      "RMSE: 2440.585047458551\n"
     ]
    }
   ],
   "source": [
    "# model definition\n",
    "rf_model = RandomForestRegressor(n_estimators=100, \n",
    "                                 min_samples_leaf=1000)\n",
    "\n",
    "# fiting model\n",
    "rf_fit = rf_model.fit(X_train, y_train)\n",
    "\n",
    "# predicting\n",
    "y_hat = rf_fit.predict(X_test)\n",
    "\n",
    "# metrics\n",
    "mean_absolute_error = np.mean(np.abs(np.expm1(y_test) - np.expm1(y_hat))) # mean absolute error\n",
    "mean_absolute_percentage_error = np.mean(mean_absolute_error / np.expm1(y_test)) # mean absolute percentage error\n",
    "\n",
    "print(f\"MAE: {mean_absolute_error}\")\n",
    "print(f\"MAPE: {mean_absolute_percentage_error}\")\n",
    "print(f\"RMSE: {np.sqrt(mean_squared_error(np.expm1(y_test), np.expm1(y_hat)))}\")"
   ]
  },
  {
   "cell_type": "markdown",
   "id": "465a7fff",
   "metadata": {
    "heading_collapsed": true,
    "hidden": true
   },
   "source": [
    "### 6.1.2 XGBoost Regressor"
   ]
  },
  {
   "cell_type": "code",
   "execution_count": 40,
   "id": "dd2324d8",
   "metadata": {
    "ExecuteTime": {
     "end_time": "2022-07-19T20:28:05.757441Z",
     "start_time": "2022-07-19T20:27:25.520467Z"
    },
    "hidden": true
   },
   "outputs": [
    {
     "name": "stdout",
     "output_type": "stream",
     "text": [
      "MAE: 1059.6520208811596\n",
      "MAPE: 0.1801369120744735\n",
      "RMSE: 1573.3529351697905\n"
     ]
    }
   ],
   "source": [
    "# model definition\n",
    "xgb_model = XGBRegressor()\n",
    "\n",
    "# fiting model\n",
    "xgb_fit = xgb_model.fit(X_train, y_train)\n",
    "\n",
    "# predicting\n",
    "y_hat = xgb_fit.predict(X_test)\n",
    "\n",
    "# metrics\n",
    "mean_absolute_error = np.mean(np.abs(np.expm1(y_test) - np.expm1(y_hat))) # mean absolute error\n",
    "mean_absolute_percentage_error = np.mean(mean_absolute_error / np.expm1(y_test)) # mean absolute percentage error\n",
    "\n",
    "print(f\"MAE: {mean_absolute_error}\")\n",
    "print(f\"MAPE: {mean_absolute_percentage_error}\")\n",
    "print(f\"RMSE: {np.sqrt(mean_squared_error(np.expm1(y_test), np.expm1(y_hat)))}\")"
   ]
  },
  {
   "cell_type": "markdown",
   "id": "6a2cc006",
   "metadata": {
    "heading_collapsed": true,
    "hidden": true
   },
   "source": [
    "## 6.2 Wrapper Method"
   ]
  },
  {
   "cell_type": "markdown",
   "id": "8e007db0",
   "metadata": {
    "heading_collapsed": true,
    "hidden": true
   },
   "source": [
    "### 6.2.1 Boruta"
   ]
  },
  {
   "cell_type": "code",
   "execution_count": 41,
   "id": "95236e9e",
   "metadata": {
    "ExecuteTime": {
     "end_time": "2022-07-19T20:28:05.861295Z",
     "start_time": "2022-07-19T20:28:05.757649Z"
    },
    "hidden": true
   },
   "outputs": [],
   "source": [
    "# boruta_fit = BorutaPy(XGBRegressor()).fit(X_train, y_train)\n",
    "\n",
    "boruta_fit = pickle.load(open('D:\\\\My Drive\\\\Pessoal\\\\Projetos\\\\rossmann_sales_predict\\\\data\\\\interim\\\\boruta_fit.pkl', 'rb'))\n",
    "boruta_ranking = boruta_fit.ranking_"
   ]
  },
  {
   "cell_type": "markdown",
   "id": "5ab95b0f",
   "metadata": {
    "heading_collapsed": true,
    "hidden": true
   },
   "source": [
    "### 6.2.2 RFE"
   ]
  },
  {
   "cell_type": "code",
   "execution_count": 42,
   "id": "f5a534e2",
   "metadata": {
    "ExecuteTime": {
     "end_time": "2022-07-19T20:28:05.893592Z",
     "start_time": "2022-07-19T20:28:05.861295Z"
    },
    "hidden": true
   },
   "outputs": [],
   "source": [
    "# rfe_fit = RFE(XGBRegressor(), n_features_to_select=1).fit(X_train, y_train)\n",
    "\n",
    "rfe_fit = pickle.load(open('D:\\\\My Drive\\\\Pessoal\\\\Projetos\\\\rossmann_sales_predict\\\\data\\\\interim\\\\rfe_fit.pkl', 'rb'))\n",
    "rfe_ranking = rfe_fit.ranking_"
   ]
  },
  {
   "cell_type": "markdown",
   "id": "a9c7853d",
   "metadata": {
    "heading_collapsed": true,
    "hidden": true
   },
   "source": [
    "## 6.3 Defining"
   ]
  },
  {
   "cell_type": "code",
   "execution_count": 43,
   "id": "b7269bef",
   "metadata": {
    "ExecuteTime": {
     "end_time": "2022-07-19T20:28:06.037509Z",
     "start_time": "2022-07-19T20:28:05.893592Z"
    },
    "hidden": true,
    "scrolled": false
   },
   "outputs": [
    {
     "data": {
      "text/html": [
       "<div>\n",
       "<style scoped>\n",
       "    .dataframe tbody tr th:only-of-type {\n",
       "        vertical-align: middle;\n",
       "    }\n",
       "\n",
       "    .dataframe tbody tr th {\n",
       "        vertical-align: top;\n",
       "    }\n",
       "\n",
       "    .dataframe thead th {\n",
       "        text-align: right;\n",
       "    }\n",
       "</style>\n",
       "<table border=\"1\" class=\"dataframe\">\n",
       "  <thead>\n",
       "    <tr style=\"text-align: right;\">\n",
       "      <th></th>\n",
       "      <th>feature</th>\n",
       "      <th>rf_importances</th>\n",
       "      <th>xgb_importances</th>\n",
       "    </tr>\n",
       "  </thead>\n",
       "  <tbody>\n",
       "    <tr>\n",
       "      <th>0</th>\n",
       "      <td>store</td>\n",
       "      <td>0.407725</td>\n",
       "      <td>0.301654</td>\n",
       "    </tr>\n",
       "    <tr>\n",
       "      <th>6</th>\n",
       "      <td>competition_distance</td>\n",
       "      <td>0.031300</td>\n",
       "      <td>0.089396</td>\n",
       "    </tr>\n",
       "    <tr>\n",
       "      <th>5</th>\n",
       "      <td>assortment</td>\n",
       "      <td>0.242535</td>\n",
       "      <td>0.071635</td>\n",
       "    </tr>\n",
       "    <tr>\n",
       "      <th>4</th>\n",
       "      <td>store_type</td>\n",
       "      <td>0.050265</td>\n",
       "      <td>0.070398</td>\n",
       "    </tr>\n",
       "    <tr>\n",
       "      <th>3</th>\n",
       "      <td>school_holiday</td>\n",
       "      <td>0.053234</td>\n",
       "      <td>0.066189</td>\n",
       "    </tr>\n",
       "    <tr>\n",
       "      <th>14</th>\n",
       "      <td>day_of_week_sin</td>\n",
       "      <td>0.054144</td>\n",
       "      <td>0.062022</td>\n",
       "    </tr>\n",
       "    <tr>\n",
       "      <th>18</th>\n",
       "      <td>year_quarters_sin</td>\n",
       "      <td>0.000510</td>\n",
       "      <td>0.057385</td>\n",
       "    </tr>\n",
       "    <tr>\n",
       "      <th>11</th>\n",
       "      <td>last_week_of_month</td>\n",
       "      <td>0.051998</td>\n",
       "      <td>0.038004</td>\n",
       "    </tr>\n",
       "    <tr>\n",
       "      <th>16</th>\n",
       "      <td>week_sin</td>\n",
       "      <td>0.028019</td>\n",
       "      <td>0.034515</td>\n",
       "    </tr>\n",
       "    <tr>\n",
       "      <th>10</th>\n",
       "      <td>weekends</td>\n",
       "      <td>0.000019</td>\n",
       "      <td>0.028320</td>\n",
       "    </tr>\n",
       "    <tr>\n",
       "      <th>12</th>\n",
       "      <td>competition_time_month</td>\n",
       "      <td>0.038942</td>\n",
       "      <td>0.027933</td>\n",
       "    </tr>\n",
       "    <tr>\n",
       "      <th>2</th>\n",
       "      <td>state_holiday</td>\n",
       "      <td>0.000029</td>\n",
       "      <td>0.024660</td>\n",
       "    </tr>\n",
       "    <tr>\n",
       "      <th>15</th>\n",
       "      <td>day_of_week_cos</td>\n",
       "      <td>0.003249</td>\n",
       "      <td>0.024471</td>\n",
       "    </tr>\n",
       "    <tr>\n",
       "      <th>13</th>\n",
       "      <td>promo2_time_week</td>\n",
       "      <td>0.027770</td>\n",
       "      <td>0.023325</td>\n",
       "    </tr>\n",
       "    <tr>\n",
       "      <th>17</th>\n",
       "      <td>week_cos</td>\n",
       "      <td>0.001382</td>\n",
       "      <td>0.023226</td>\n",
       "    </tr>\n",
       "    <tr>\n",
       "      <th>9</th>\n",
       "      <td>year</td>\n",
       "      <td>0.004985</td>\n",
       "      <td>0.022097</td>\n",
       "    </tr>\n",
       "    <tr>\n",
       "      <th>8</th>\n",
       "      <td>is_promo</td>\n",
       "      <td>0.003892</td>\n",
       "      <td>0.019660</td>\n",
       "    </tr>\n",
       "    <tr>\n",
       "      <th>1</th>\n",
       "      <td>promo</td>\n",
       "      <td>0.000000</td>\n",
       "      <td>0.011887</td>\n",
       "    </tr>\n",
       "    <tr>\n",
       "      <th>7</th>\n",
       "      <td>promo2</td>\n",
       "      <td>0.000001</td>\n",
       "      <td>0.003224</td>\n",
       "    </tr>\n",
       "    <tr>\n",
       "      <th>19</th>\n",
       "      <td>year_quarters_cos</td>\n",
       "      <td>0.000000</td>\n",
       "      <td>0.000000</td>\n",
       "    </tr>\n",
       "  </tbody>\n",
       "</table>\n",
       "</div>"
      ],
      "text/plain": [
       "                   feature  rf_importances  xgb_importances\n",
       "0                    store        0.407725         0.301654\n",
       "6     competition_distance        0.031300         0.089396\n",
       "5               assortment        0.242535         0.071635\n",
       "4               store_type        0.050265         0.070398\n",
       "3           school_holiday        0.053234         0.066189\n",
       "14         day_of_week_sin        0.054144         0.062022\n",
       "18       year_quarters_sin        0.000510         0.057385\n",
       "11      last_week_of_month        0.051998         0.038004\n",
       "16                week_sin        0.028019         0.034515\n",
       "10                weekends        0.000019         0.028320\n",
       "12  competition_time_month        0.038942         0.027933\n",
       "2            state_holiday        0.000029         0.024660\n",
       "15         day_of_week_cos        0.003249         0.024471\n",
       "13        promo2_time_week        0.027770         0.023325\n",
       "17                week_cos        0.001382         0.023226\n",
       "9                     year        0.004985         0.022097\n",
       "8                 is_promo        0.003892         0.019660\n",
       "1                    promo        0.000000         0.011887\n",
       "7                   promo2        0.000001         0.003224\n",
       "19       year_quarters_cos        0.000000         0.000000"
      ]
     },
     "execution_count": 43,
     "metadata": {},
     "output_type": "execute_result"
    }
   ],
   "source": [
    "rf_importances = rf_fit.feature_importances_\n",
    "xgb_importances = xgb_fit.feature_importances_\n",
    "\n",
    "cols = df5.drop(['sales', 'date'], axis=1).columns\n",
    "importances = pd.DataFrame([cols, rf_importances, xgb_importances], index=['feature', 'rf_importances', 'xgb_importances']).T\n",
    "importances.fillna(0, inplace=True)\n",
    "importances.sort_values('xgb_importances', ascending=False)"
   ]
  },
  {
   "cell_type": "code",
   "execution_count": 44,
   "id": "2673de7a",
   "metadata": {
    "ExecuteTime": {
     "end_time": "2022-07-19T20:28:06.396849Z",
     "start_time": "2022-07-19T20:28:06.037509Z"
    },
    "hidden": true
   },
   "outputs": [
    {
     "data": {
      "image/png": "[encoded data removed]",
      "text/plain": [
       "<Figure size 432x288 with 1 Axes>"
      ]
     },
     "metadata": {
      "needs_background": "light"
     },
     "output_type": "display_data"
    }
   ],
   "source": [
    "sns.barplot(data=importances.sort_values('rf_importances', ascending=False), x='rf_importances', y='feature', color='r', alpha=0.3)\n",
    "sns.despine(left=True, bottom=True)\n",
    "plt.title('Random Forest')\n",
    "plt.xlim(0, 0.4)\n",
    "plt.xlabel('')\n",
    "plt.ylabel('');"
   ]
  },
  {
   "cell_type": "code",
   "execution_count": 45,
   "id": "ae7c2079",
   "metadata": {
    "ExecuteTime": {
     "end_time": "2022-07-19T20:28:06.753590Z",
     "start_time": "2022-07-19T20:28:06.400058Z"
    },
    "hidden": true
   },
   "outputs": [
    {
     "data": {
      "image/png": "[encoded data removed]",
      "text/plain": [
       "<Figure size 432x288 with 1 Axes>"
      ]
     },
     "metadata": {
      "needs_background": "light"
     },
     "output_type": "display_data"
    }
   ],
   "source": [
    "sns.barplot(data=importances.sort_values('xgb_importances', ascending=False), x='xgb_importances', y='feature', color='r', alpha=0.3)\n",
    "sns.despine(left=True, bottom=True)\n",
    "plt.title('XGBoost')\n",
    "plt.xlim(0, 0.4)\n",
    "plt.xlabel('')\n",
    "plt.ylabel('');"
   ]
  },
  {
   "cell_type": "code",
   "execution_count": 46,
   "id": "6ef34bcc",
   "metadata": {
    "ExecuteTime": {
     "end_time": "2022-07-19T20:28:06.778274Z",
     "start_time": "2022-07-19T20:28:06.753590Z"
    },
    "hidden": true
   },
   "outputs": [
    {
     "data": {
      "text/html": [
       "<div>\n",
       "<style scoped>\n",
       "    .dataframe tbody tr th:only-of-type {\n",
       "        vertical-align: middle;\n",
       "    }\n",
       "\n",
       "    .dataframe tbody tr th {\n",
       "        vertical-align: top;\n",
       "    }\n",
       "\n",
       "    .dataframe thead th {\n",
       "        text-align: right;\n",
       "    }\n",
       "</style>\n",
       "<table border=\"1\" class=\"dataframe\">\n",
       "  <thead>\n",
       "    <tr style=\"text-align: right;\">\n",
       "      <th></th>\n",
       "      <th>feature</th>\n",
       "      <th>boruta_ranking</th>\n",
       "      <th>rfe_ranking</th>\n",
       "    </tr>\n",
       "  </thead>\n",
       "  <tbody>\n",
       "    <tr>\n",
       "      <th>0</th>\n",
       "      <td>store</td>\n",
       "      <td>1</td>\n",
       "      <td>1</td>\n",
       "    </tr>\n",
       "    <tr>\n",
       "      <th>5</th>\n",
       "      <td>assortment</td>\n",
       "      <td>1</td>\n",
       "      <td>2</td>\n",
       "    </tr>\n",
       "    <tr>\n",
       "      <th>6</th>\n",
       "      <td>competition_distance</td>\n",
       "      <td>1</td>\n",
       "      <td>3</td>\n",
       "    </tr>\n",
       "    <tr>\n",
       "      <th>4</th>\n",
       "      <td>store_type</td>\n",
       "      <td>1</td>\n",
       "      <td>4</td>\n",
       "    </tr>\n",
       "    <tr>\n",
       "      <th>3</th>\n",
       "      <td>school_holiday</td>\n",
       "      <td>1</td>\n",
       "      <td>5</td>\n",
       "    </tr>\n",
       "    <tr>\n",
       "      <th>11</th>\n",
       "      <td>last_week_of_month</td>\n",
       "      <td>1</td>\n",
       "      <td>6</td>\n",
       "    </tr>\n",
       "    <tr>\n",
       "      <th>18</th>\n",
       "      <td>year_quarters_sin</td>\n",
       "      <td>1</td>\n",
       "      <td>7</td>\n",
       "    </tr>\n",
       "    <tr>\n",
       "      <th>16</th>\n",
       "      <td>week_sin</td>\n",
       "      <td>1</td>\n",
       "      <td>8</td>\n",
       "    </tr>\n",
       "    <tr>\n",
       "      <th>14</th>\n",
       "      <td>day_of_week_sin</td>\n",
       "      <td>1</td>\n",
       "      <td>9</td>\n",
       "    </tr>\n",
       "    <tr>\n",
       "      <th>15</th>\n",
       "      <td>day_of_week_cos</td>\n",
       "      <td>1</td>\n",
       "      <td>10</td>\n",
       "    </tr>\n",
       "    <tr>\n",
       "      <th>12</th>\n",
       "      <td>competition_time_month</td>\n",
       "      <td>1</td>\n",
       "      <td>11</td>\n",
       "    </tr>\n",
       "    <tr>\n",
       "      <th>10</th>\n",
       "      <td>weekends</td>\n",
       "      <td>1</td>\n",
       "      <td>12</td>\n",
       "    </tr>\n",
       "    <tr>\n",
       "      <th>9</th>\n",
       "      <td>year</td>\n",
       "      <td>1</td>\n",
       "      <td>13</td>\n",
       "    </tr>\n",
       "    <tr>\n",
       "      <th>13</th>\n",
       "      <td>promo2_time_week</td>\n",
       "      <td>1</td>\n",
       "      <td>14</td>\n",
       "    </tr>\n",
       "    <tr>\n",
       "      <th>17</th>\n",
       "      <td>week_cos</td>\n",
       "      <td>1</td>\n",
       "      <td>15</td>\n",
       "    </tr>\n",
       "    <tr>\n",
       "      <th>2</th>\n",
       "      <td>state_holiday</td>\n",
       "      <td>1</td>\n",
       "      <td>16</td>\n",
       "    </tr>\n",
       "    <tr>\n",
       "      <th>8</th>\n",
       "      <td>is_promo</td>\n",
       "      <td>1</td>\n",
       "      <td>17</td>\n",
       "    </tr>\n",
       "    <tr>\n",
       "      <th>1</th>\n",
       "      <td>promo</td>\n",
       "      <td>1</td>\n",
       "      <td>18</td>\n",
       "    </tr>\n",
       "    <tr>\n",
       "      <th>7</th>\n",
       "      <td>promo2</td>\n",
       "      <td>1</td>\n",
       "      <td>19</td>\n",
       "    </tr>\n",
       "    <tr>\n",
       "      <th>19</th>\n",
       "      <td>year_quarters_cos</td>\n",
       "      <td>None</td>\n",
       "      <td>None</td>\n",
       "    </tr>\n",
       "  </tbody>\n",
       "</table>\n",
       "</div>"
      ],
      "text/plain": [
       "                   feature boruta_ranking rfe_ranking\n",
       "0                    store              1           1\n",
       "5               assortment              1           2\n",
       "6     competition_distance              1           3\n",
       "4               store_type              1           4\n",
       "3           school_holiday              1           5\n",
       "11      last_week_of_month              1           6\n",
       "18       year_quarters_sin              1           7\n",
       "16                week_sin              1           8\n",
       "14         day_of_week_sin              1           9\n",
       "15         day_of_week_cos              1          10\n",
       "12  competition_time_month              1          11\n",
       "10                weekends              1          12\n",
       "9                     year              1          13\n",
       "13        promo2_time_week              1          14\n",
       "17                week_cos              1          15\n",
       "2            state_holiday              1          16\n",
       "8                 is_promo              1          17\n",
       "1                    promo              1          18\n",
       "7                   promo2              1          19\n",
       "19       year_quarters_cos           None        None"
      ]
     },
     "execution_count": 46,
     "metadata": {},
     "output_type": "execute_result"
    }
   ],
   "source": [
    "pd.DataFrame([cols, boruta_ranking, rfe_ranking], index=['feature', 'boruta_ranking', 'rfe_ranking']).T.sort_values('rfe_ranking')"
   ]
  },
  {
   "cell_type": "markdown",
   "id": "f57d1d31",
   "metadata": {
    "heading_collapsed": true,
    "hidden": true
   },
   "source": [
    "## 6.4 Droping Features"
   ]
  },
  {
   "cell_type": "code",
   "execution_count": 47,
   "id": "70662b51",
   "metadata": {
    "ExecuteTime": {
     "end_time": "2022-07-19T20:28:06.874134Z",
     "start_time": "2022-07-19T20:28:06.780244Z"
    },
    "hidden": true
   },
   "outputs": [],
   "source": [
    "cols_feature_selection = 'is_promo state_holiday year weekends school_holiday last_week_of_month'.split()\n",
    "df6.drop(cols_feature_selection, axis=1, inplace=True)\n",
    "test.drop(cols_feature_selection, axis=1, inplace=True)"
   ]
  },
  {
   "cell_type": "markdown",
   "id": "d77fc08c",
   "metadata": {
    "heading_collapsed": true
   },
   "source": [
    "# 7.0 Machine Learning Modeling"
   ]
  },
  {
   "cell_type": "code",
   "execution_count": 48,
   "id": "f17d9f5d",
   "metadata": {
    "ExecuteTime": {
     "end_time": "2022-07-19T20:28:06.938715Z",
     "start_time": "2022-07-19T20:28:06.874134Z"
    },
    "hidden": true
   },
   "outputs": [],
   "source": [
    "df7 = df6.copy()"
   ]
  },
  {
   "cell_type": "markdown",
   "id": "92ec850f",
   "metadata": {
    "heading_collapsed": true,
    "hidden": true
   },
   "source": [
    "## 7.1 Splits"
   ]
  },
  {
   "cell_type": "code",
   "execution_count": 49,
   "id": "29c9dc6d",
   "metadata": {
    "ExecuteTime": {
     "end_time": "2022-07-19T20:28:07.181168Z",
     "start_time": "2022-07-19T20:28:06.938715Z"
    },
    "hidden": true
   },
   "outputs": [],
   "source": [
    "# Train and Validation\n",
    "X_train = df7.loc[df7['date'] < df7['date'].max() - pd.Timedelta(6, 'w')].drop(['sales', 'date', 'store'], axis=1).values\n",
    "y_train = df7.loc[df7['date'] < df7['date'].max() - pd.Timedelta(6, 'w'), 'sales'].values.ravel()\n",
    "\n",
    "X_test = df7.loc[df7['date'] >= df7['date'].max() - pd.Timedelta(6, 'w')].drop(['sales', 'date', 'store'], axis=1).values\n",
    "y_test = df7.loc[df7['date'] >= df7['date'].max() - pd.Timedelta(6, 'w'), 'sales'].values.ravel()"
   ]
  },
  {
   "cell_type": "markdown",
   "id": "a5054212",
   "metadata": {
    "heading_collapsed": true,
    "hidden": true
   },
   "source": [
    "## 7.2 Models"
   ]
  },
  {
   "cell_type": "markdown",
   "id": "32e13ac8",
   "metadata": {
    "heading_collapsed": true,
    "hidden": true
   },
   "source": [
    "### 7.2.1 Linear Regression"
   ]
  },
  {
   "cell_type": "code",
   "execution_count": 50,
   "id": "28cdbc0e",
   "metadata": {
    "ExecuteTime": {
     "end_time": "2022-07-19T20:28:07.824743Z",
     "start_time": "2022-07-19T20:28:07.181168Z"
    },
    "hidden": true
   },
   "outputs": [
    {
     "name": "stdout",
     "output_type": "stream",
     "text": [
      "MAE: 1901.6835402153754\n",
      "MAPE: 0.3232791462921857\n",
      "RMSE: 2748.7882552688393\n"
     ]
    }
   ],
   "source": [
    "# model definition\n",
    "lr_model = LinearRegression()\n",
    "\n",
    "# fiting model\n",
    "lr_fit = lr_model.fit(X_train, y_train)\n",
    "\n",
    "# predicting\n",
    "y_hat = lr_fit.predict(X_test)\n",
    "\n",
    "# metrics\n",
    "metrics(y_test, y_hat)"
   ]
  },
  {
   "cell_type": "markdown",
   "id": "f6e9e336",
   "metadata": {
    "heading_collapsed": true,
    "hidden": true
   },
   "source": [
    "#### 7.2.1.1 Cross Validation"
   ]
  },
  {
   "cell_type": "code",
   "execution_count": 51,
   "id": "e7e8e6bd",
   "metadata": {
    "ExecuteTime": {
     "end_time": "2022-07-19T20:28:11.658705Z",
     "start_time": "2022-07-19T20:28:07.824743Z"
    },
    "hidden": true
   },
   "outputs": [
    {
     "data": {
      "text/html": [
       "<div>\n",
       "<style scoped>\n",
       "    .dataframe tbody tr th:only-of-type {\n",
       "        vertical-align: middle;\n",
       "    }\n",
       "\n",
       "    .dataframe tbody tr th {\n",
       "        vertical-align: top;\n",
       "    }\n",
       "\n",
       "    .dataframe thead th {\n",
       "        text-align: right;\n",
       "    }\n",
       "</style>\n",
       "<table border=\"1\" class=\"dataframe\">\n",
       "  <thead>\n",
       "    <tr style=\"text-align: right;\">\n",
       "      <th></th>\n",
       "      <th>MAE</th>\n",
       "      <th>MAPE</th>\n",
       "      <th>RMSE</th>\n",
       "    </tr>\n",
       "  </thead>\n",
       "  <tbody>\n",
       "    <tr>\n",
       "      <th>Fold: 5</th>\n",
       "      <td>1829.046897</td>\n",
       "      <td>0.294824</td>\n",
       "      <td>2571.63551</td>\n",
       "    </tr>\n",
       "    <tr>\n",
       "      <th>Fold: 4</th>\n",
       "      <td>1800.586109</td>\n",
       "      <td>0.296251</td>\n",
       "      <td>2539.370532</td>\n",
       "    </tr>\n",
       "    <tr>\n",
       "      <th>Fold: 3</th>\n",
       "      <td>2127.284598</td>\n",
       "      <td>0.285314</td>\n",
       "      <td>3091.550363</td>\n",
       "    </tr>\n",
       "    <tr>\n",
       "      <th>Fold: 2</th>\n",
       "      <td>2067.308393</td>\n",
       "      <td>0.28002</td>\n",
       "      <td>2987.402005</td>\n",
       "    </tr>\n",
       "    <tr>\n",
       "      <th>Fold: 1</th>\n",
       "      <td>1901.68354</td>\n",
       "      <td>0.290671</td>\n",
       "      <td>2748.788255</td>\n",
       "    </tr>\n",
       "    <tr>\n",
       "      <th>mean_and_std</th>\n",
       "      <td>1945.18 +/- 129.9</td>\n",
       "      <td>0.29 +/- 0.01</td>\n",
       "      <td>2787.75 +/- 220.03</td>\n",
       "    </tr>\n",
       "  </tbody>\n",
       "</table>\n",
       "</div>"
      ],
      "text/plain": [
       "                            MAE           MAPE                RMSE\n",
       "Fold: 5             1829.046897       0.294824          2571.63551\n",
       "Fold: 4             1800.586109       0.296251         2539.370532\n",
       "Fold: 3             2127.284598       0.285314         3091.550363\n",
       "Fold: 2             2067.308393        0.28002         2987.402005\n",
       "Fold: 1              1901.68354       0.290671         2748.788255\n",
       "mean_and_std  1945.18 +/- 129.9  0.29 +/- 0.01  2787.75 +/- 220.03"
      ]
     },
     "execution_count": 51,
     "metadata": {},
     "output_type": "execute_result"
    }
   ],
   "source": [
    "error = pd.DataFrame()\n",
    "error, lr_cross_validation_metrics = cross_validation(df7, error, 5, 'Linear Regression', lr_model)\n",
    "\n",
    "lr_cross_validation_metrics.T"
   ]
  },
  {
   "cell_type": "markdown",
   "id": "5354ad84",
   "metadata": {
    "heading_collapsed": true,
    "hidden": true
   },
   "source": [
    "### 7.2.2 Lasso"
   ]
  },
  {
   "cell_type": "code",
   "execution_count": 52,
   "id": "b6d7664a",
   "metadata": {
    "ExecuteTime": {
     "end_time": "2022-07-19T20:28:11.865288Z",
     "start_time": "2022-07-19T20:28:11.660506Z"
    },
    "hidden": true
   },
   "outputs": [
    {
     "name": "stdout",
     "output_type": "stream",
     "text": [
      "MAE: 2198.5841673367245\n",
      "MAPE: 0.373751151354886\n",
      "RMSE: 3110.514747133476\n"
     ]
    }
   ],
   "source": [
    "# model definition\n",
    "lasso_model = Lasso()\n",
    "\n",
    "# fiting model\n",
    "lasso_fit = lasso_model.fit(X_train, y_train)\n",
    "\n",
    "# predicting\n",
    "y_hat = lasso_fit.predict(X_test)\n",
    "\n",
    "# metrics\n",
    "metrics(y_test, y_hat)"
   ]
  },
  {
   "cell_type": "markdown",
   "id": "49e48096",
   "metadata": {
    "heading_collapsed": true,
    "hidden": true
   },
   "source": [
    "#### 7.2.2.1 Cross Validation"
   ]
  },
  {
   "cell_type": "code",
   "execution_count": 53,
   "id": "1706b640",
   "metadata": {
    "ExecuteTime": {
     "end_time": "2022-07-19T20:28:13.689115Z",
     "start_time": "2022-07-19T20:28:11.865288Z"
    },
    "hidden": true
   },
   "outputs": [
    {
     "data": {
      "text/html": [
       "<div>\n",
       "<style scoped>\n",
       "    .dataframe tbody tr th:only-of-type {\n",
       "        vertical-align: middle;\n",
       "    }\n",
       "\n",
       "    .dataframe tbody tr th {\n",
       "        vertical-align: top;\n",
       "    }\n",
       "\n",
       "    .dataframe thead th {\n",
       "        text-align: right;\n",
       "    }\n",
       "</style>\n",
       "<table border=\"1\" class=\"dataframe\">\n",
       "  <thead>\n",
       "    <tr style=\"text-align: right;\">\n",
       "      <th></th>\n",
       "      <th>MAE</th>\n",
       "      <th>MAPE</th>\n",
       "      <th>RMSE</th>\n",
       "    </tr>\n",
       "  </thead>\n",
       "  <tbody>\n",
       "    <tr>\n",
       "      <th>Fold: 5</th>\n",
       "      <td>2071.962807</td>\n",
       "      <td>0.333961</td>\n",
       "      <td>2894.320362</td>\n",
       "    </tr>\n",
       "    <tr>\n",
       "      <th>Fold: 4</th>\n",
       "      <td>2016.375949</td>\n",
       "      <td>0.33581</td>\n",
       "      <td>2816.113093</td>\n",
       "    </tr>\n",
       "    <tr>\n",
       "      <th>Fold: 3</th>\n",
       "      <td>2514.35758</td>\n",
       "      <td>0.335358</td>\n",
       "      <td>3572.470979</td>\n",
       "    </tr>\n",
       "    <tr>\n",
       "      <th>Fold: 2</th>\n",
       "      <td>2222.852114</td>\n",
       "      <td>0.317109</td>\n",
       "      <td>3183.112874</td>\n",
       "    </tr>\n",
       "    <tr>\n",
       "      <th>Fold: 1</th>\n",
       "      <td>2198.584167</td>\n",
       "      <td>0.342759</td>\n",
       "      <td>3110.514747</td>\n",
       "    </tr>\n",
       "    <tr>\n",
       "      <th>mean_and_std</th>\n",
       "      <td>2204.83 +/- 172.82</td>\n",
       "      <td>0.33 +/- 0.01</td>\n",
       "      <td>3115.31 +/- 265.32</td>\n",
       "    </tr>\n",
       "  </tbody>\n",
       "</table>\n",
       "</div>"
      ],
      "text/plain": [
       "                             MAE           MAPE                RMSE\n",
       "Fold: 5              2071.962807       0.333961         2894.320362\n",
       "Fold: 4              2016.375949        0.33581         2816.113093\n",
       "Fold: 3               2514.35758       0.335358         3572.470979\n",
       "Fold: 2              2222.852114       0.317109         3183.112874\n",
       "Fold: 1              2198.584167       0.342759         3110.514747\n",
       "mean_and_std  2204.83 +/- 172.82  0.33 +/- 0.01  3115.31 +/- 265.32"
      ]
     },
     "execution_count": 53,
     "metadata": {},
     "output_type": "execute_result"
    }
   ],
   "source": [
    "error, lasso_cross_validation_metrics = cross_validation(df7, error, 5, 'Lasso', lasso_model)\n",
    "\n",
    "lasso_cross_validation_metrics.T"
   ]
  },
  {
   "cell_type": "markdown",
   "id": "c9518bd6",
   "metadata": {
    "heading_collapsed": true,
    "hidden": true
   },
   "source": [
    "### 7.2.3 Random Forest"
   ]
  },
  {
   "cell_type": "code",
   "execution_count": 54,
   "id": "179bdd96",
   "metadata": {
    "ExecuteTime": {
     "end_time": "2022-07-19T20:33:28.549421Z",
     "start_time": "2022-07-19T20:28:13.689115Z"
    },
    "hidden": true
   },
   "outputs": [
    {
     "name": "stdout",
     "output_type": "stream",
     "text": [
      "MAE: 1671.907757813132\n",
      "MAPE: 0.2842181157880233\n",
      "RMSE: 2436.107420402779\n"
     ]
    }
   ],
   "source": [
    "# model definition\n",
    "rf_model = RandomForestRegressor(n_estimators=100, \n",
    "                                 min_samples_leaf=1000)\n",
    "\n",
    "# fiting model\n",
    "rf_fit = rf_model.fit(X_train, y_train)\n",
    "\n",
    "# predicting\n",
    "y_hat = rf_fit.predict(X_test)\n",
    "\n",
    "# metrics\n",
    "metrics(y_test, y_hat)"
   ]
  },
  {
   "cell_type": "markdown",
   "id": "3f6fc66f",
   "metadata": {
    "heading_collapsed": true,
    "hidden": true
   },
   "source": [
    "#### 7.2.3.1 Cross Validation"
   ]
  },
  {
   "cell_type": "code",
   "execution_count": 55,
   "id": "666e8643",
   "metadata": {
    "ExecuteTime": {
     "end_time": "2022-07-19T20:52:05.015515Z",
     "start_time": "2022-07-19T20:33:28.555201Z"
    },
    "hidden": true
   },
   "outputs": [
    {
     "data": {
      "text/html": [
       "<div>\n",
       "<style scoped>\n",
       "    .dataframe tbody tr th:only-of-type {\n",
       "        vertical-align: middle;\n",
       "    }\n",
       "\n",
       "    .dataframe tbody tr th {\n",
       "        vertical-align: top;\n",
       "    }\n",
       "\n",
       "    .dataframe thead th {\n",
       "        text-align: right;\n",
       "    }\n",
       "</style>\n",
       "<table border=\"1\" class=\"dataframe\">\n",
       "  <thead>\n",
       "    <tr style=\"text-align: right;\">\n",
       "      <th></th>\n",
       "      <th>MAE</th>\n",
       "      <th>MAPE</th>\n",
       "      <th>RMSE</th>\n",
       "    </tr>\n",
       "  </thead>\n",
       "  <tbody>\n",
       "    <tr>\n",
       "      <th>Fold: 5</th>\n",
       "      <td>1684.306174</td>\n",
       "      <td>0.266908</td>\n",
       "      <td>2341.467286</td>\n",
       "    </tr>\n",
       "    <tr>\n",
       "      <th>Fold: 4</th>\n",
       "      <td>1600.023465</td>\n",
       "      <td>0.252428</td>\n",
       "      <td>2271.715084</td>\n",
       "    </tr>\n",
       "    <tr>\n",
       "      <th>Fold: 3</th>\n",
       "      <td>1957.75996</td>\n",
       "      <td>0.252423</td>\n",
       "      <td>2852.55589</td>\n",
       "    </tr>\n",
       "    <tr>\n",
       "      <th>Fold: 2</th>\n",
       "      <td>1792.112854</td>\n",
       "      <td>0.245669</td>\n",
       "      <td>2571.891187</td>\n",
       "    </tr>\n",
       "    <tr>\n",
       "      <th>Fold: 1</th>\n",
       "      <td>1670.829974</td>\n",
       "      <td>0.247253</td>\n",
       "      <td>2434.791037</td>\n",
       "    </tr>\n",
       "    <tr>\n",
       "      <th>mean_and_std</th>\n",
       "      <td>1741.01 +/- 124.59</td>\n",
       "      <td>0.25 +/- 0.01</td>\n",
       "      <td>2494.48 +/- 205.33</td>\n",
       "    </tr>\n",
       "  </tbody>\n",
       "</table>\n",
       "</div>"
      ],
      "text/plain": [
       "                             MAE           MAPE                RMSE\n",
       "Fold: 5              1684.306174       0.266908         2341.467286\n",
       "Fold: 4              1600.023465       0.252428         2271.715084\n",
       "Fold: 3               1957.75996       0.252423          2852.55589\n",
       "Fold: 2              1792.112854       0.245669         2571.891187\n",
       "Fold: 1              1670.829974       0.247253         2434.791037\n",
       "mean_and_std  1741.01 +/- 124.59  0.25 +/- 0.01  2494.48 +/- 205.33"
      ]
     },
     "execution_count": 55,
     "metadata": {},
     "output_type": "execute_result"
    }
   ],
   "source": [
    "error, rf_cross_validation_metrics = cross_validation(df7, error, 5, 'Random Forest', rf_model)\n",
    "\n",
    "rf_cross_validation_metrics.T"
   ]
  },
  {
   "cell_type": "markdown",
   "id": "9684b276",
   "metadata": {
    "heading_collapsed": true,
    "hidden": true
   },
   "source": [
    "### 7.2.4 XGBoost"
   ]
  },
  {
   "cell_type": "code",
   "execution_count": 56,
   "id": "01a6a64e",
   "metadata": {
    "ExecuteTime": {
     "end_time": "2022-07-19T20:52:30.585718Z",
     "start_time": "2022-07-19T20:52:05.015515Z"
    },
    "hidden": true
   },
   "outputs": [
    {
     "name": "stdout",
     "output_type": "stream",
     "text": [
      "MAE: 1120.2349400072007\n",
      "MAPE: 0.19043578355376128\n",
      "RMSE: 1689.4104498310023\n"
     ]
    }
   ],
   "source": [
    "# model definition\n",
    "xgb_model = XGBRegressor()\n",
    "\n",
    "# fiting model\n",
    "xgb_fit = xgb_model.fit(X_train, y_train)\n",
    "\n",
    "# predicting\n",
    "y_hat = xgb_fit.predict(X_test)\n",
    "\n",
    "# metrics\n",
    "metrics(y_test, y_hat)"
   ]
  },
  {
   "cell_type": "markdown",
   "id": "ecfc1ae2",
   "metadata": {
    "heading_collapsed": true,
    "hidden": true
   },
   "source": [
    "#### 7.2.4.1 Cross Validation"
   ]
  },
  {
   "cell_type": "code",
   "execution_count": 57,
   "id": "db2b4393",
   "metadata": {
    "ExecuteTime": {
     "end_time": "2022-07-19T20:55:02.717107Z",
     "start_time": "2022-07-19T20:52:30.589250Z"
    },
    "hidden": true
   },
   "outputs": [
    {
     "data": {
      "text/html": [
       "<div>\n",
       "<style scoped>\n",
       "    .dataframe tbody tr th:only-of-type {\n",
       "        vertical-align: middle;\n",
       "    }\n",
       "\n",
       "    .dataframe tbody tr th {\n",
       "        vertical-align: top;\n",
       "    }\n",
       "\n",
       "    .dataframe thead th {\n",
       "        text-align: right;\n",
       "    }\n",
       "</style>\n",
       "<table border=\"1\" class=\"dataframe\">\n",
       "  <thead>\n",
       "    <tr style=\"text-align: right;\">\n",
       "      <th></th>\n",
       "      <th>MAE</th>\n",
       "      <th>MAPE</th>\n",
       "      <th>RMSE</th>\n",
       "    </tr>\n",
       "  </thead>\n",
       "  <tbody>\n",
       "    <tr>\n",
       "      <th>Fold: 5</th>\n",
       "      <td>1083.559007</td>\n",
       "      <td>0.162836</td>\n",
       "      <td>1608.633872</td>\n",
       "    </tr>\n",
       "    <tr>\n",
       "      <th>Fold: 4</th>\n",
       "      <td>1007.864185</td>\n",
       "      <td>0.151561</td>\n",
       "      <td>1524.869239</td>\n",
       "    </tr>\n",
       "    <tr>\n",
       "      <th>Fold: 3</th>\n",
       "      <td>1397.725083</td>\n",
       "      <td>0.183112</td>\n",
       "      <td>2046.218869</td>\n",
       "    </tr>\n",
       "    <tr>\n",
       "      <th>Fold: 2</th>\n",
       "      <td>1195.716209</td>\n",
       "      <td>0.159659</td>\n",
       "      <td>1788.495531</td>\n",
       "    </tr>\n",
       "    <tr>\n",
       "      <th>Fold: 1</th>\n",
       "      <td>1120.23494</td>\n",
       "      <td>0.162057</td>\n",
       "      <td>1689.41045</td>\n",
       "    </tr>\n",
       "    <tr>\n",
       "      <th>mean_and_std</th>\n",
       "      <td>1161.02 +/- 132.93</td>\n",
       "      <td>0.16 +/- 0.01</td>\n",
       "      <td>1731.53 +/- 179.92</td>\n",
       "    </tr>\n",
       "  </tbody>\n",
       "</table>\n",
       "</div>"
      ],
      "text/plain": [
       "                             MAE           MAPE                RMSE\n",
       "Fold: 5              1083.559007       0.162836         1608.633872\n",
       "Fold: 4              1007.864185       0.151561         1524.869239\n",
       "Fold: 3              1397.725083       0.183112         2046.218869\n",
       "Fold: 2              1195.716209       0.159659         1788.495531\n",
       "Fold: 1               1120.23494       0.162057          1689.41045\n",
       "mean_and_std  1161.02 +/- 132.93  0.16 +/- 0.01  1731.53 +/- 179.92"
      ]
     },
     "execution_count": 57,
     "metadata": {},
     "output_type": "execute_result"
    }
   ],
   "source": [
    "error, xgb_cross_validation_metrics = cross_validation(df7, error, 5, 'XGBoost', xgb_model)\n",
    "\n",
    "xgb_cross_validation_metrics.T"
   ]
  },
  {
   "cell_type": "markdown",
   "id": "d3f2c372",
   "metadata": {
    "heading_collapsed": true
   },
   "source": [
    "# 8.0 Model Performance"
   ]
  },
  {
   "cell_type": "code",
   "execution_count": 58,
   "id": "616be660",
   "metadata": {
    "ExecuteTime": {
     "end_time": "2022-07-19T20:55:02.780887Z",
     "start_time": "2022-07-19T20:55:02.721963Z"
    },
    "hidden": true
   },
   "outputs": [],
   "source": [
    "df8 = df7.copy()"
   ]
  },
  {
   "cell_type": "markdown",
   "id": "6fab1a89",
   "metadata": {
    "heading_collapsed": true,
    "hidden": true
   },
   "source": [
    "## 8.1 Machine Learning Performance"
   ]
  },
  {
   "cell_type": "code",
   "execution_count": 59,
   "id": "8a4b8c16",
   "metadata": {
    "ExecuteTime": {
     "end_time": "2022-07-19T20:55:02.813646Z",
     "start_time": "2022-07-19T20:55:02.780887Z"
    },
    "hidden": true,
    "scrolled": true
   },
   "outputs": [
    {
     "data": {
      "text/html": [
       "<div>\n",
       "<style scoped>\n",
       "    .dataframe tbody tr th:only-of-type {\n",
       "        vertical-align: middle;\n",
       "    }\n",
       "\n",
       "    .dataframe tbody tr th {\n",
       "        vertical-align: top;\n",
       "    }\n",
       "\n",
       "    .dataframe thead th {\n",
       "        text-align: right;\n",
       "    }\n",
       "</style>\n",
       "<table border=\"1\" class=\"dataframe\">\n",
       "  <thead>\n",
       "    <tr style=\"text-align: right;\">\n",
       "      <th></th>\n",
       "      <th>MAE</th>\n",
       "      <th>MAPE</th>\n",
       "      <th>RMSE</th>\n",
       "    </tr>\n",
       "  </thead>\n",
       "  <tbody>\n",
       "    <tr>\n",
       "      <th>Linear Regression</th>\n",
       "      <td>1945.18 +/- 129.9</td>\n",
       "      <td>0.29 +/- 0.01</td>\n",
       "      <td>2787.75 +/- 220.03</td>\n",
       "    </tr>\n",
       "    <tr>\n",
       "      <th>Lasso</th>\n",
       "      <td>2204.83 +/- 172.82</td>\n",
       "      <td>0.33 +/- 0.01</td>\n",
       "      <td>3115.31 +/- 265.32</td>\n",
       "    </tr>\n",
       "    <tr>\n",
       "      <th>Random Forest</th>\n",
       "      <td>1741.01 +/- 124.59</td>\n",
       "      <td>0.25 +/- 0.01</td>\n",
       "      <td>2494.48 +/- 205.33</td>\n",
       "    </tr>\n",
       "    <tr>\n",
       "      <th>XGBoost</th>\n",
       "      <td>1161.02 +/- 132.93</td>\n",
       "      <td>0.16 +/- 0.01</td>\n",
       "      <td>1731.53 +/- 179.92</td>\n",
       "    </tr>\n",
       "  </tbody>\n",
       "</table>\n",
       "</div>"
      ],
      "text/plain": [
       "                                  MAE           MAPE                RMSE\n",
       "Linear Regression   1945.18 +/- 129.9  0.29 +/- 0.01  2787.75 +/- 220.03\n",
       "Lasso              2204.83 +/- 172.82  0.33 +/- 0.01  3115.31 +/- 265.32\n",
       "Random Forest      1741.01 +/- 124.59  0.25 +/- 0.01  2494.48 +/- 205.33\n",
       "XGBoost            1161.02 +/- 132.93  0.16 +/- 0.01  1731.53 +/- 179.92"
      ]
     },
     "execution_count": 59,
     "metadata": {},
     "output_type": "execute_result"
    }
   ],
   "source": [
    "error.T"
   ]
  },
  {
   "cell_type": "markdown",
   "id": "06404241",
   "metadata": {
    "hidden": true
   },
   "source": [
    "O modelo que seguirá para a produção será o XGBoost Regressor"
   ]
  },
  {
   "cell_type": "markdown",
   "id": "6ed5a9f8",
   "metadata": {
    "heading_collapsed": true,
    "hidden": true
   },
   "source": [
    "## 8.2 Business Performance"
   ]
  },
  {
   "cell_type": "code",
   "execution_count": null,
   "id": "22f59c7d",
   "metadata": {
    "hidden": true
   },
   "outputs": [],
   "source": []
  },
  {
   "cell_type": "markdown",
   "id": "16f73c91",
   "metadata": {
    "heading_collapsed": true
   },
   "source": [
    "# 9.0 Exportings"
   ]
  },
  {
   "cell_type": "code",
   "execution_count": 60,
   "id": "559e8488",
   "metadata": {
    "ExecuteTime": {
     "end_time": "2022-07-19T20:55:02.938029Z",
     "start_time": "2022-07-19T20:55:02.813646Z"
    },
    "hidden": true
   },
   "outputs": [],
   "source": [
    "# constant_competition_distance\n",
    "pickle.dump(constant_competition_distance, open('D:\\\\My Drive\\\\Pessoal\\\\Projetos\\\\rossmann_sales_predict\\\\src\\\\features\\\\constant_competition_distance.pkl', 'wb'))\n",
    "\n",
    "# month_map\n",
    "pickle.dump(month_map, open('D:\\\\My Drive\\\\Pessoal\\\\Projetos\\\\rossmann_sales_predict\\\\src\\\\features\\\\month_map.pkl', 'wb'))\n",
    "\n",
    "# cols_filtering\n",
    "pickle.dump(cols_filtering, open('D:\\\\My Drive\\\\Pessoal\\\\Projetos\\\\rossmann_sales_predict\\\\src\\\\features\\\\cols_filtering.pkl', 'wb'))\n",
    "\n",
    "# rs_competition_distance\n",
    "pickle.dump(rs_competition_distance, open('D:\\\\My Drive\\\\Pessoal\\\\Projetos\\\\rossmann_sales_predict\\\\src\\\\features\\\\rs_competition_distance.pkl', 'wb'))\n",
    "\n",
    "# rs_competition_time_month\n",
    "pickle.dump(rs_competition_time_month, open('D:\\\\My Drive\\\\Pessoal\\\\Projetos\\\\rossmann_sales_predict\\\\src\\\\features\\\\rs_competition_time_month.pkl', 'wb'))\n",
    "\n",
    "# mm_promo2_time_week\n",
    "pickle.dump(mm_promo2_time_week, open('D:\\\\My Drive\\\\Pessoal\\\\Projetos\\\\rossmann_sales_predict\\\\src\\\\features\\\\mm_promo2_time_week.pkl', 'wb'))\n",
    "\n",
    "# map_state_holiday\n",
    "pickle.dump(map_state_holiday, open('D:\\\\My Drive\\\\Pessoal\\\\Projetos\\\\rossmann_sales_predict\\\\src\\\\features\\\\map_state_holiday.pkl', 'wb'))\n",
    "\n",
    "# map_store_type\n",
    "pickle.dump(map_store_type, open('D:\\\\My Drive\\\\Pessoal\\\\Projetos\\\\rossmann_sales_predict\\\\src\\\\features\\\\map_store_type.pkl', 'wb'))\n",
    "\n",
    "# map_assortment\n",
    "pickle.dump(map_assortment, open('D:\\\\My Drive\\\\Pessoal\\\\Projetos\\\\rossmann_sales_predict\\\\src\\\\features\\\\map_assortment.pkl', 'wb'))\n",
    "\n",
    "# map_year\n",
    "pickle.dump(map_year, open('D:\\\\My Drive\\\\Pessoal\\\\Projetos\\\\rossmann_sales_predict\\\\src\\\\features\\\\map_year.pkl', 'wb'))\n",
    "\n",
    "# day_of_week_cicle\n",
    "pickle.dump(day_of_week_cicle, open('D:\\\\My Drive\\\\Pessoal\\\\Projetos\\\\rossmann_sales_predict\\\\src\\\\features\\\\day_of_week_cicle.pkl', 'wb'))\n",
    "\n",
    "# week_cicle\n",
    "pickle.dump(week_cicle, open('D:\\\\My Drive\\\\Pessoal\\\\Projetos\\\\rossmann_sales_predict\\\\src\\\\features\\\\week_cicle.pkl', 'wb'))\n",
    "\n",
    "# year_quarters_cicle\n",
    "pickle.dump(year_quarters_cicle, open('D:\\\\My Drive\\\\Pessoal\\\\Projetos\\\\rossmann_sales_predict\\\\src\\\\features\\\\year_quarters_cicle.pkl', 'wb'))\n",
    "\n",
    "# boruta_fit\n",
    "pickle.dump(boruta_fit, open('D:\\\\My Drive\\\\Pessoal\\\\Projetos\\\\rossmann_sales_predict\\\\data\\\\interim\\\\boruta_fit.pkl', 'wb'))\n",
    "\n",
    "# rfe_fit\n",
    "pickle.dump(rfe_fit, open('D:\\\\My Drive\\\\Pessoal\\\\Projetos\\\\rossmann_sales_predict\\\\data\\\\interim\\\\rfe_fit.pkl', 'wb'))\n",
    "\n",
    "# cols_feature_selection\n",
    "pickle.dump(cols_feature_selection, open('D:\\\\My Drive\\\\Pessoal\\\\Projetos\\\\rossmann_sales_predict\\\\src\\\\features\\\\cols_feature_selection.pkl', 'wb'))\n",
    "\n",
    "# xgb_fit\n",
    "pickle.dump(xgb_fit, open('D:\\\\My Drive\\\\Pessoal\\\\Projetos\\\\rossmann_sales_predict\\\\src\\\\models\\\\xgb_fit.pkl', 'wb'))"
   ]
  },
  {
   "cell_type": "markdown",
   "id": "816c1fd6",
   "metadata": {},
   "source": [
    "# 10.0 API Deployed at Heroku"
   ]
  },
  {
   "cell_type": "markdown",
   "id": "b3cefdcd",
   "metadata": {
    "heading_collapsed": true
   },
   "source": [
    "## 10.1 Rossmann Class"
   ]
  },
  {
   "cell_type": "code",
   "execution_count": 61,
   "id": "43636f48",
   "metadata": {
    "ExecuteTime": {
     "end_time": "2022-07-19T20:55:02.969435Z",
     "start_time": "2022-07-19T20:55:02.943290Z"
    },
    "hidden": true
   },
   "outputs": [],
   "source": [
    "# import pickle\n",
    "# import pandas as pd\n",
    "# import inflection\n",
    "# import numpy as np\n",
    "# import datetime\n",
    "\n",
    "# # path_repo = r'D:\\My Drive\\Pessoal\\Projetos\\rossmann_sales_predict\\src'\n",
    "# path_repo = ''\n",
    "\n",
    "# class Rossmann(object):\n",
    "#     def __init__(self):\n",
    "#         # constant_competition_distance\n",
    "#         self.constant_competition_distance = pickle.load(open(path_repo + r'features/constant_competition_distance.pkl', 'rb'))\n",
    "\n",
    "#         # month_map\n",
    "#         self.month_map = pickle.load(open(path_repo + r'features/month_map.pkl', 'rb'))\n",
    "\n",
    "#         # cols_filtering\n",
    "#         self.cols_filtering = pickle.load(open(path_repo + r'features/cols_filtering.pkl', 'rb'))\n",
    "\n",
    "#         # rs_competition_distance\n",
    "#         self.rs_competition_distance = pickle.load(open(path_repo + r'features/rs_competition_distance.pkl', 'rb'))\n",
    "\n",
    "#         # rs_competition_time_month\n",
    "#         self.rs_competition_time_month = pickle.load(open(path_repo + r'features/rs_competition_time_month.pkl', 'rb'))\n",
    "\n",
    "#         # mm_promo2_time_week\n",
    "#         self.mm_promo2_time_week = pickle.load(open(path_repo + r'features/mm_promo2_time_week.pkl', 'rb'))\n",
    "\n",
    "#         # map_state_holiday\n",
    "#         self.map_state_holiday = pickle.load(open(path_repo + r'features/map_state_holiday.pkl', 'rb'))\n",
    "\n",
    "#         # map_store_type\n",
    "#         self.map_store_type = pickle.load(open(path_repo + r'features/map_store_type.pkl', 'rb'))\n",
    "\n",
    "#         # map_assortment\n",
    "#         self.map_assortment = pickle.load(open(path_repo + r'features/map_assortment.pkl', 'rb'))\n",
    "\n",
    "#         # map_year\n",
    "#         self.map_year = pickle.load(open(path_repo + r'features/map_year.pkl', 'rb'))\n",
    "\n",
    "#         # day_of_week_cicle\n",
    "#         self.day_of_week_cicle = pickle.load(open(path_repo + r'features/day_of_week_cicle.pkl', 'rb'))\n",
    "\n",
    "#         # week_cicle\n",
    "#         self.week_cicle = pickle.load(open(path_repo + r'features/week_cicle.pkl', 'rb'))\n",
    "\n",
    "#         # year_quarters_cicle\n",
    "#         self.year_quarters_cicle = pickle.load(open(path_repo + r'features/year_quarters_cicle.pkl', 'rb'))\n",
    "\n",
    "#         # cols_feature_selection\n",
    "#         self.cols_feature_selection = pickle.load(open(path_repo + r'features/cols_feature_selection.pkl', 'rb'))\n",
    "\n",
    "#         # xgb_fit\n",
    "#         self.model = pickle.load(open(path_repo + r'models/xgb_fit.pkl', 'rb'))\n",
    "\n",
    "\n",
    "#     def data_cleaning(self, df_raw):\n",
    "#         df1 = df_raw.copy()\n",
    "#         snake_case = lambda x: inflection.underscore(x)\n",
    "\n",
    "#         cols_old = df1.columns.to_list()\n",
    "#         cols_new = list(map(snake_case, cols_old))\n",
    "\n",
    "#         # rename\n",
    "#         df1.columns = cols_new\n",
    "\n",
    "#         # changing date datatype\n",
    "#         df1['date'] = pd.to_datetime(df1['date'])\n",
    "\n",
    "#         # competition_distance\n",
    "#         df1.loc[df1['competition_distance'].isna(), 'competition_distance'] = self.constant_competition_distance\n",
    "\n",
    "#         # competition_open_since_month\n",
    "#         df1['competition_open_since_month'] = df1.apply(lambda x: x['date'].month if np.isnan(x['competition_open_since_month']) else x['competition_open_since_month'], axis=1) \n",
    "\n",
    "#         # competition_open_since_year\n",
    "#         df1['competition_open_since_year'] = df1.apply(lambda x: x['date'].year if np.isnan(x['competition_open_since_year']) else x['competition_open_since_year'], axis=1)\n",
    "\n",
    "#         # promo2_since_week\n",
    "#         df1['promo2_since_week'] = df1.apply(lambda x: x['date'].week if np.isnan(x['promo2_since_week']) else x['promo2_since_week'], axis=1)\n",
    "\n",
    "#         # promo2_since_year\n",
    "#         df1['promo2_since_year'] = df1.apply(lambda x: x['date'].year if np.isnan(x['promo2_since_year']) else x['promo2_since_year'], axis=1)\n",
    "\n",
    "#         # promo_interval\n",
    "#         df1['promo_interval'].fillna(0, inplace=True)\n",
    "#         df1['month_map'] = df1['date'].dt.month.map(self.month_map)\n",
    "#         df1['is_promo'] = df1[['promo_interval', 'month_map']].apply(lambda x: 0 if x['promo_interval'] == 0 else 1 if x['month_map'] in x['promo_interval'].split(',') else 0, axis=1)\n",
    "#         df1.drop(['promo_interval', 'month_map'], axis=1, inplace=True)\n",
    "\n",
    "#         # change datatypes\n",
    "#         df1['competition_open_since_month'] = df1['competition_open_since_month'].astype('int')\n",
    "#         df1['competition_open_since_year'] = df1['competition_open_since_year'].astype('int')\n",
    "\n",
    "#         df1['promo2_since_week'] = df1['promo2_since_week'].astype('int')\n",
    "#         df1['promo2_since_year'] = df1['promo2_since_year'].astype('int')\n",
    "\n",
    "#         # return df\n",
    "#         return df1\n",
    "    \n",
    "\n",
    "#     def feature_engineering(self, df2):\n",
    "#         # week\n",
    "#         df2['week'] = df2['date'].dt.isocalendar().week\n",
    "\n",
    "#         # year\n",
    "#         df2['year'] = df2['date'].dt.year\n",
    "\n",
    "#         # quarters\n",
    "#         df2['year_quarters'] = df2['date'].dt.month.apply(lambda x: 1 if x <= 3 else (2 if x <= 6 else (3 if x <= 9 else 4)))\n",
    "\n",
    "#         # weekends\n",
    "#         df2['weekends'] = df2['date'].dt.day_name().apply(lambda x: 0 if x not in ['Friday', 'Saturday'] else 1)\n",
    "\n",
    "#         # last_week_of_month\n",
    "#         df2['last_week_of_month'] = df2['date'].dt.day.apply(lambda x: 0 if x <= 23 else 1)\n",
    "\n",
    "#         # competition_since\n",
    "#         df2['competition_since'] = df2.apply(lambda x: datetime.datetime(day=1, month=x['competition_open_since_month'], year=x['competition_open_since_year']), axis=1)\n",
    "#         df2['competition_time_month'] = ((df2['date'] - df2['competition_since']) / 30).apply(lambda x: x.days).astype('int')\n",
    "#         df2.drop(['competition_since', 'competition_open_since_month', 'competition_open_since_year'], axis=1, inplace=True)\n",
    "\n",
    "#         # promo_since\n",
    "#         df2['promo2_since'] = df2['promo2_since_year'].astype(str) + '-' + df2['promo2_since_week'].astype(str)\n",
    "#         df2['promo2_since'] = df2['promo2_since'].apply(lambda x: datetime.datetime.strptime(x + '-1', '%Y-%W-%w') - datetime.timedelta(days=7))\n",
    "#         df2['promo2_time_week'] = ((df2['date'] - df2['promo2_since']) / 7).apply(lambda x: x.days).astype(int)\n",
    "#         df2.drop(['promo2_since', 'promo2_since_year', 'promo2_since_week'], axis=1, inplace=True)\n",
    "\n",
    "#         # assortment\n",
    "#         df2['assortment'] = df2['assortment'].apply(lambda x: 'basic' if x=='a' else 'extra' if x=='b' else 'extended')\n",
    "\n",
    "#         # state_holiday\n",
    "#         df2['state_holiday'] = df2['state_holiday'].apply(lambda x: 'public_holiday' if x=='a' else 'easter_holiday' if x=='b' else 'christmas' if x=='c' else 'regular_day')\n",
    "\n",
    "#         # day_of_week\n",
    "#         df2['day_of_week'] = df2['date'].dt.day_name()\n",
    "\n",
    "#         # return df\n",
    "#         return df2\n",
    "\n",
    "\n",
    "#     def data_filtering(self, df4):\n",
    "#         # columns filtering\n",
    "#         try:\n",
    "#             cols_filtering = ['open', 'customers']\n",
    "#             df4 = df4.drop(cols_filtering, axis=1)\n",
    "#         except:\n",
    "#             cols_filtering = ['open', 'id']\n",
    "#             df4 = df4.drop(cols_filtering, axis=1)\n",
    "\n",
    "#         # return df\n",
    "#         return df4\n",
    "\n",
    "\n",
    "#     def data_preparation(self, df5):\n",
    "#         # 'competition_distance'\n",
    "#         df5['competition_distance'] = self.rs_competition_distance.transform(df5[['competition_distance']].values)\n",
    "\n",
    "#         # 'competition_time_month'\n",
    "#         df5['competition_time_month'] = self.rs_competition_distance.transform(df5[['competition_time_month']].values)\n",
    "\n",
    "#         # 'promo2_time_week'\n",
    "#         df5['promo2_time_week'] = self.mm_promo2_time_week.transform(df5[['promo2_time_week']].values)\n",
    "\n",
    "#         # 'state_holiday'\n",
    "#         df5['state_holiday'] = df5['state_holiday'].map(self.map_state_holiday)\n",
    "\n",
    "#         # 'store_type'\n",
    "#         df5['store_type'] = df5['store_type'].map(self.map_store_type)\n",
    "\n",
    "#         # 'assortment'\n",
    "#         df5['assortment'] = df5['assortment'].map(self.map_assortment)\n",
    "\n",
    "#         # 'year'\n",
    "#         df5['year'] = df5['year'].map(self.map_year)\n",
    "\n",
    "#         # 'day_of_week'\n",
    "#         df5['day_of_week'] = df5['date'].dt.dayofweek\n",
    "#         df5['day_of_week_sin'] = df5['day_of_week'].apply(lambda x: np.sin(x*(2*np.pi/self.day_of_week_cicle)))\n",
    "#         df5['day_of_week_cos'] = df5['day_of_week'].apply(lambda x: np.cos(x*(2*np.pi/self.day_of_week_cicle)))\n",
    "#         df5.drop('day_of_week', axis=1, inplace=True)\n",
    "\n",
    "#         # 'week'\n",
    "#         df5['week_sin'] = df5['week'].apply(lambda x: np.sin(x*(2*np.pi/self.week_cicle)))\n",
    "#         df5['week_cos'] = df5['week'].apply(lambda x: np.cos(x*(2*np.pi/self.week_cicle)))\n",
    "#         df5.drop('week', axis=1, inplace=True)\n",
    "\n",
    "#         # 'year_quarters'\n",
    "#         df5['year_quarters_sin'] = df5['year_quarters'].apply(lambda x: np.sin(x*(2*np.pi/self.year_quarters_cicle)))\n",
    "#         df5['year_quarters_cos'] = df5['year_quarters'].apply(lambda x: np.cos(x*(2*np.pi/self.year_quarters_cicle)))\n",
    "#         df5.drop('year_quarters', axis=1, inplace=True)\n",
    "\n",
    "#         # feature selection\n",
    "#         df5.drop(self.cols_feature_selection, axis=1, inplace=True)\n",
    "\n",
    "#         # return df\n",
    "#         return df5\n",
    "\n",
    "#     def get_predictions(self, df7, df_raw):\n",
    "#         # removing especific features\n",
    "#         X = df7.drop(['date', 'store'], axis=1).values\n",
    "\n",
    "#         # predicting\n",
    "#         y_hat = self.model.predict(X)\n",
    "\n",
    "#         # dataframe\n",
    "#         df = df_raw.copy()\n",
    "#         df['predictions'] = np.expm1(y_hat)\n",
    "        \n",
    "#         # return df\n",
    "#         return df\n",
    "        "
   ]
  },
  {
   "cell_type": "markdown",
   "id": "6460df8f",
   "metadata": {
    "heading_collapsed": true
   },
   "source": [
    "## 10.2 Handler API"
   ]
  },
  {
   "cell_type": "code",
   "execution_count": 62,
   "id": "d030d7f8",
   "metadata": {
    "ExecuteTime": {
     "end_time": "2022-07-19T20:55:02.984785Z",
     "start_time": "2022-07-19T20:55:02.974726Z"
    },
    "hidden": true
   },
   "outputs": [],
   "source": [
    "# import pandas as pd\n",
    "# from rossmann import Rossmann\n",
    "# from flask import Flask, request, Response\n",
    "# import os\n",
    "\n",
    "# # initialize API\n",
    "# app = Flask(__name__)\n",
    "\n",
    "# # create endpoint\n",
    "# @app.route('/predict', methods=['POST'])\n",
    "\n",
    "# def rossmann_predict():\n",
    "#     df_raw_json = request.get_json()\n",
    "\n",
    "#     if df_raw_json:\n",
    "#         if isinstance(df_raw_json, dict):\n",
    "#             df_raw = pd.DataFrame(df_raw_json, index=[0])\n",
    "\n",
    "#         else:\n",
    "#             df_raw = pd.DataFrame(df_raw_json, columns=df_raw_json[0].keys())\n",
    "\n",
    "#         # instantiate rossmann class\n",
    "#         papeline = Rossmann()\n",
    "\n",
    "#         # data cleaning\n",
    "#         df = papeline.data_cleaning(df_raw)\n",
    "\n",
    "#         # feature engineering\n",
    "#         df = papeline.feature_engineering(df)\n",
    "\n",
    "#         # data filtering\n",
    "#         df = papeline.data_filtering(df)\n",
    "\n",
    "#         # data preparation\n",
    "#         df = papeline.data_preparation(df)\n",
    "\n",
    "#         # predicting\n",
    "#         df = papeline.get_predictions(df, df_raw)\n",
    "\n",
    "#         # return df\n",
    "#         df_json = df.to_json(orient='records')\n",
    "#         return df_json\n",
    "\n",
    "#     else:\n",
    "#         return Response('{}', status=200, mimetype='application/json')\n",
    "\n",
    "\n",
    "# if __name__ == \"__main__\":\n",
    "#     # starting flask\n",
    "#     port = os.environ.get('PORT', 5000) # Heroku port\n",
    "#     # port = 5000 # local port\n",
    "#     app.run(host='0.0.0.0', port=port)\n"
   ]
  },
  {
   "cell_type": "markdown",
   "id": "0ab042e4",
   "metadata": {},
   "source": [
    "## 10.3 API Tester"
   ]
  },
  {
   "cell_type": "code",
   "execution_count": 63,
   "id": "aa91f13c",
   "metadata": {
    "ExecuteTime": {
     "end_time": "2022-07-19T20:55:37.246725Z",
     "start_time": "2022-07-19T20:55:02.988965Z"
    },
    "scrolled": true
   },
   "outputs": [
    {
     "name": "stdout",
     "output_type": "stream",
     "text": [
      "Status request code: 200\n"
     ]
    },
    {
     "data": {
      "text/html": [
       "<div>\n",
       "<style scoped>\n",
       "    .dataframe tbody tr th:only-of-type {\n",
       "        vertical-align: middle;\n",
       "    }\n",
       "\n",
       "    .dataframe tbody tr th {\n",
       "        vertical-align: top;\n",
       "    }\n",
       "\n",
       "    .dataframe thead th {\n",
       "        text-align: right;\n",
       "    }\n",
       "</style>\n",
       "<table border=\"1\" class=\"dataframe\">\n",
       "  <thead>\n",
       "    <tr style=\"text-align: right;\">\n",
       "      <th></th>\n",
       "      <th>Id</th>\n",
       "      <th>Store</th>\n",
       "      <th>DayOfWeek</th>\n",
       "      <th>Date</th>\n",
       "      <th>Open</th>\n",
       "      <th>Promo</th>\n",
       "      <th>StateHoliday</th>\n",
       "      <th>SchoolHoliday</th>\n",
       "      <th>StoreType</th>\n",
       "      <th>Assortment</th>\n",
       "      <th>CompetitionDistance</th>\n",
       "      <th>CompetitionOpenSinceMonth</th>\n",
       "      <th>CompetitionOpenSinceYear</th>\n",
       "      <th>Promo2</th>\n",
       "      <th>Promo2SinceWeek</th>\n",
       "      <th>Promo2SinceYear</th>\n",
       "      <th>PromoInterval</th>\n",
       "      <th>predictions</th>\n",
       "    </tr>\n",
       "  </thead>\n",
       "  <tbody>\n",
       "    <tr>\n",
       "      <th>0</th>\n",
       "      <td>1</td>\n",
       "      <td>1</td>\n",
       "      <td>4</td>\n",
       "      <td>2015-09-17</td>\n",
       "      <td>1.0</td>\n",
       "      <td>1</td>\n",
       "      <td>0</td>\n",
       "      <td>0</td>\n",
       "      <td>c</td>\n",
       "      <td>a</td>\n",
       "      <td>1270.0</td>\n",
       "      <td>9.0</td>\n",
       "      <td>2008.0</td>\n",
       "      <td>0</td>\n",
       "      <td>NaN</td>\n",
       "      <td>NaN</td>\n",
       "      <td>None</td>\n",
       "      <td>5657.671875</td>\n",
       "    </tr>\n",
       "    <tr>\n",
       "      <th>1</th>\n",
       "      <td>2</td>\n",
       "      <td>3</td>\n",
       "      <td>4</td>\n",
       "      <td>2015-09-17</td>\n",
       "      <td>1.0</td>\n",
       "      <td>1</td>\n",
       "      <td>0</td>\n",
       "      <td>0</td>\n",
       "      <td>a</td>\n",
       "      <td>a</td>\n",
       "      <td>14130.0</td>\n",
       "      <td>12.0</td>\n",
       "      <td>2006.0</td>\n",
       "      <td>1</td>\n",
       "      <td>14.0</td>\n",
       "      <td>2011.0</td>\n",
       "      <td>Jan,Apr,Jul,Oct</td>\n",
       "      <td>8410.045898</td>\n",
       "    </tr>\n",
       "    <tr>\n",
       "      <th>2</th>\n",
       "      <td>3</td>\n",
       "      <td>7</td>\n",
       "      <td>4</td>\n",
       "      <td>2015-09-17</td>\n",
       "      <td>1.0</td>\n",
       "      <td>1</td>\n",
       "      <td>0</td>\n",
       "      <td>0</td>\n",
       "      <td>a</td>\n",
       "      <td>c</td>\n",
       "      <td>24000.0</td>\n",
       "      <td>4.0</td>\n",
       "      <td>2013.0</td>\n",
       "      <td>0</td>\n",
       "      <td>NaN</td>\n",
       "      <td>NaN</td>\n",
       "      <td>None</td>\n",
       "      <td>9338.551758</td>\n",
       "    </tr>\n",
       "    <tr>\n",
       "      <th>3</th>\n",
       "      <td>4</td>\n",
       "      <td>8</td>\n",
       "      <td>4</td>\n",
       "      <td>2015-09-17</td>\n",
       "      <td>1.0</td>\n",
       "      <td>1</td>\n",
       "      <td>0</td>\n",
       "      <td>0</td>\n",
       "      <td>a</td>\n",
       "      <td>a</td>\n",
       "      <td>7520.0</td>\n",
       "      <td>10.0</td>\n",
       "      <td>2014.0</td>\n",
       "      <td>0</td>\n",
       "      <td>NaN</td>\n",
       "      <td>NaN</td>\n",
       "      <td>None</td>\n",
       "      <td>6054.614746</td>\n",
       "    </tr>\n",
       "    <tr>\n",
       "      <th>4</th>\n",
       "      <td>5</td>\n",
       "      <td>9</td>\n",
       "      <td>4</td>\n",
       "      <td>2015-09-17</td>\n",
       "      <td>1.0</td>\n",
       "      <td>1</td>\n",
       "      <td>0</td>\n",
       "      <td>0</td>\n",
       "      <td>a</td>\n",
       "      <td>c</td>\n",
       "      <td>2030.0</td>\n",
       "      <td>8.0</td>\n",
       "      <td>2000.0</td>\n",
       "      <td>0</td>\n",
       "      <td>NaN</td>\n",
       "      <td>NaN</td>\n",
       "      <td>None</td>\n",
       "      <td>7727.139160</td>\n",
       "    </tr>\n",
       "  </tbody>\n",
       "</table>\n",
       "</div>"
      ],
      "text/plain": [
       "   Id  Store  DayOfWeek        Date  Open  Promo StateHoliday  SchoolHoliday  \\\n",
       "0   1      1          4  2015-09-17   1.0      1            0              0   \n",
       "1   2      3          4  2015-09-17   1.0      1            0              0   \n",
       "2   3      7          4  2015-09-17   1.0      1            0              0   \n",
       "3   4      8          4  2015-09-17   1.0      1            0              0   \n",
       "4   5      9          4  2015-09-17   1.0      1            0              0   \n",
       "\n",
       "  StoreType Assortment  CompetitionDistance  CompetitionOpenSinceMonth  \\\n",
       "0         c          a               1270.0                        9.0   \n",
       "1         a          a              14130.0                       12.0   \n",
       "2         a          c              24000.0                        4.0   \n",
       "3         a          a               7520.0                       10.0   \n",
       "4         a          c               2030.0                        8.0   \n",
       "\n",
       "   CompetitionOpenSinceYear  Promo2  Promo2SinceWeek  Promo2SinceYear  \\\n",
       "0                    2008.0       0              NaN              NaN   \n",
       "1                    2006.0       1             14.0           2011.0   \n",
       "2                    2013.0       0              NaN              NaN   \n",
       "3                    2014.0       0              NaN              NaN   \n",
       "4                    2000.0       0              NaN              NaN   \n",
       "\n",
       "     PromoInterval  predictions  \n",
       "0             None  5657.671875  \n",
       "1  Jan,Apr,Jul,Oct  8410.045898  \n",
       "2             None  9338.551758  \n",
       "3             None  6054.614746  \n",
       "4             None  7727.139160  "
      ]
     },
     "execution_count": 63,
     "metadata": {},
     "output_type": "execute_result"
    }
   ],
   "source": [
    "test_raw_json = test_raw.to_json(orient='records')\n",
    "\n",
    "# url = 'http://192.168.15.8:5000/predict'\n",
    "url = 'https://api-rossmann-predict.herokuapp.com/predict'\n",
    "headers = {'Content-type':'application/json'}\n",
    "data = test_raw_json\n",
    "\n",
    "df10_json = requests.post(url=url, headers=headers, data=data)\n",
    "\n",
    "print(f'Status request code: {df10_json.status_code}')\n",
    "\n",
    "df = pd.DataFrame(df10_json.json(), columns=df10_json.json()[0].keys())\n",
    "df.head()"
   ]
  },
  {
   "cell_type": "markdown",
   "id": "4c778220",
   "metadata": {},
   "source": [
    "# Time"
   ]
  },
  {
   "cell_type": "code",
   "execution_count": 64,
   "id": "ca8f2413",
   "metadata": {
    "ExecuteTime": {
     "end_time": "2022-07-19T20:55:37.265399Z",
     "start_time": "2022-07-19T20:55:37.250771Z"
    }
   },
   "outputs": [
    {
     "name": "stdout",
     "output_type": "stream",
     "text": [
      "O tempo de processamento do projeto foi de: 42 minutos\n"
     ]
    }
   ],
   "source": [
    "print(f'O tempo de processamento do projeto foi de: {int(round(time.time()-time_agora, 2)/60)} minutos')"
   ]
  }
 ],
 "metadata": {
  "kernelspec": {
   "display_name": "Python 3 (ipykernel)",
   "language": "python",
   "name": "python3"
  },
  "language_info": {
   "codemirror_mode": {
    "name": "ipython",
    "version": 3
   },
   "file_extension": ".py",
   "mimetype": "text/x-python",
   "name": "python",
   "nbconvert_exporter": "python",
   "pygments_lexer": "ipython3",
   "version": "3.9.12"
  }
 },
 "nbformat": 4,
 "nbformat_minor": 5
}
