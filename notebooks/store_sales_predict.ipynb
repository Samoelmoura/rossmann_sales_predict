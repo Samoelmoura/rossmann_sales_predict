{
 "cells": [
  {
   "cell_type": "markdown",
   "id": "9f3b8cfa",
   "metadata": {
    "ExecuteTime": {
     "end_time": "2022-02-22T17:35:18.052468Z",
     "start_time": "2022-02-22T17:35:14.947090Z"
    },
    "heading_collapsed": true
   },
   "source": [
    "# 0.0 Imports"
   ]
  },
  {
   "cell_type": "code",
   "execution_count": 1,
   "id": "ff551761",
   "metadata": {
    "ExecuteTime": {
     "end_time": "2022-03-11T02:22:31.597220Z",
     "start_time": "2022-03-11T02:22:23.909206Z"
    },
    "hidden": true,
    "hide_input": false
   },
   "outputs": [],
   "source": [
    "import matplotlib.pyplot as plt\n",
    "import numpy as np\n",
    "import pandas as pd\n",
    "import seaborn as sns\n",
    "\n",
    "from IPython.display import Image\n",
    "\n",
    "import inflection"
   ]
  },
  {
   "cell_type": "markdown",
   "id": "7c8adfc4",
   "metadata": {
    "ExecuteTime": {
     "end_time": "2022-02-22T17:35:18.052468Z",
     "start_time": "2022-02-22T17:35:14.947090Z"
    },
    "heading_collapsed": true,
    "hidden": true
   },
   "source": [
    "## 0.1 Helper Functions"
   ]
  },
  {
   "cell_type": "code",
   "execution_count": 2,
   "id": "63996e13",
   "metadata": {
    "ExecuteTime": {
     "end_time": "2022-03-11T02:22:31.623659Z",
     "start_time": "2022-03-11T02:22:31.604255Z"
    },
    "hidden": true,
    "hide_input": false
   },
   "outputs": [],
   "source": [
    "def search_outliers(df, series):\n",
    "    first_quantile = np.quantile(df[series], 0.25)\n",
    "    third_quantile = np.quantile(df[series], 0.75)\n",
    "    distance = (third_quantile - first_quantile) * 1.5\n",
    "    inf_limit = first_quantile - distance\n",
    "    sup_limit = third_quantile + distance\n",
    "    index_outliers = df.loc[(df[series]<inf_limit)|(df[series]>sup_limit)].index\n",
    "    return index_outliers, inf_limit, sup_limit"
   ]
  },
  {
   "cell_type": "markdown",
   "id": "1f7d4ce8",
   "metadata": {
    "ExecuteTime": {
     "end_time": "2022-02-22T17:35:18.052468Z",
     "start_time": "2022-02-22T17:35:14.947090Z"
    },
    "heading_collapsed": true,
    "hidden": true
   },
   "source": [
    "## 0.2 Loading Data"
   ]
  },
  {
   "cell_type": "code",
   "execution_count": 3,
   "id": "d54b2a07",
   "metadata": {
    "ExecuteTime": {
     "end_time": "2022-03-11T02:22:33.485901Z",
     "start_time": "2022-03-11T02:22:31.627770Z"
    },
    "hidden": true
   },
   "outputs": [
    {
     "data": {
      "text/html": [
       "<div>\n",
       "<style scoped>\n",
       "    .dataframe tbody tr th:only-of-type {\n",
       "        vertical-align: middle;\n",
       "    }\n",
       "\n",
       "    .dataframe tbody tr th {\n",
       "        vertical-align: top;\n",
       "    }\n",
       "\n",
       "    .dataframe thead th {\n",
       "        text-align: right;\n",
       "    }\n",
       "</style>\n",
       "<table border=\"1\" class=\"dataframe\">\n",
       "  <thead>\n",
       "    <tr style=\"text-align: right;\">\n",
       "      <th></th>\n",
       "      <th>Store</th>\n",
       "      <th>DayOfWeek</th>\n",
       "      <th>Date</th>\n",
       "      <th>Sales</th>\n",
       "      <th>Customers</th>\n",
       "      <th>Open</th>\n",
       "      <th>Promo</th>\n",
       "      <th>StateHoliday</th>\n",
       "      <th>SchoolHoliday</th>\n",
       "      <th>StoreType</th>\n",
       "      <th>Assortment</th>\n",
       "      <th>CompetitionDistance</th>\n",
       "      <th>CompetitionOpenSinceMonth</th>\n",
       "      <th>CompetitionOpenSinceYear</th>\n",
       "      <th>Promo2</th>\n",
       "      <th>Promo2SinceWeek</th>\n",
       "      <th>Promo2SinceYear</th>\n",
       "      <th>PromoInterval</th>\n",
       "    </tr>\n",
       "  </thead>\n",
       "  <tbody>\n",
       "    <tr>\n",
       "      <th>382956</th>\n",
       "      <td>860</td>\n",
       "      <td>1</td>\n",
       "      <td>2014-07-28</td>\n",
       "      <td>6506</td>\n",
       "      <td>772</td>\n",
       "      <td>1</td>\n",
       "      <td>1</td>\n",
       "      <td>0</td>\n",
       "      <td>1</td>\n",
       "      <td>c</td>\n",
       "      <td>c</td>\n",
       "      <td>5980.0</td>\n",
       "      <td>2.0</td>\n",
       "      <td>2010.0</td>\n",
       "      <td>0</td>\n",
       "      <td>NaN</td>\n",
       "      <td>NaN</td>\n",
       "      <td>NaN</td>\n",
       "    </tr>\n",
       "    <tr>\n",
       "      <th>1015923</th>\n",
       "      <td>944</td>\n",
       "      <td>3</td>\n",
       "      <td>2013-01-02</td>\n",
       "      <td>9470</td>\n",
       "      <td>1560</td>\n",
       "      <td>1</td>\n",
       "      <td>0</td>\n",
       "      <td>0</td>\n",
       "      <td>1</td>\n",
       "      <td>c</td>\n",
       "      <td>a</td>\n",
       "      <td>1670.0</td>\n",
       "      <td>7.0</td>\n",
       "      <td>2015.0</td>\n",
       "      <td>0</td>\n",
       "      <td>NaN</td>\n",
       "      <td>NaN</td>\n",
       "      <td>NaN</td>\n",
       "    </tr>\n",
       "    <tr>\n",
       "      <th>397589</th>\n",
       "      <td>463</td>\n",
       "      <td>6</td>\n",
       "      <td>2014-07-12</td>\n",
       "      <td>3973</td>\n",
       "      <td>617</td>\n",
       "      <td>1</td>\n",
       "      <td>0</td>\n",
       "      <td>0</td>\n",
       "      <td>0</td>\n",
       "      <td>a</td>\n",
       "      <td>a</td>\n",
       "      <td>4160.0</td>\n",
       "      <td>NaN</td>\n",
       "      <td>NaN</td>\n",
       "      <td>0</td>\n",
       "      <td>NaN</td>\n",
       "      <td>NaN</td>\n",
       "      <td>NaN</td>\n",
       "    </tr>\n",
       "    <tr>\n",
       "      <th>465081</th>\n",
       "      <td>912</td>\n",
       "      <td>7</td>\n",
       "      <td>2014-05-11</td>\n",
       "      <td>0</td>\n",
       "      <td>0</td>\n",
       "      <td>0</td>\n",
       "      <td>0</td>\n",
       "      <td>0</td>\n",
       "      <td>0</td>\n",
       "      <td>c</td>\n",
       "      <td>c</td>\n",
       "      <td>3100.0</td>\n",
       "      <td>5.0</td>\n",
       "      <td>2010.0</td>\n",
       "      <td>0</td>\n",
       "      <td>NaN</td>\n",
       "      <td>NaN</td>\n",
       "      <td>NaN</td>\n",
       "    </tr>\n",
       "    <tr>\n",
       "      <th>529646</th>\n",
       "      <td>807</td>\n",
       "      <td>5</td>\n",
       "      <td>2014-03-14</td>\n",
       "      <td>8360</td>\n",
       "      <td>870</td>\n",
       "      <td>1</td>\n",
       "      <td>0</td>\n",
       "      <td>0</td>\n",
       "      <td>0</td>\n",
       "      <td>a</td>\n",
       "      <td>a</td>\n",
       "      <td>3870.0</td>\n",
       "      <td>4.0</td>\n",
       "      <td>2008.0</td>\n",
       "      <td>0</td>\n",
       "      <td>NaN</td>\n",
       "      <td>NaN</td>\n",
       "      <td>NaN</td>\n",
       "    </tr>\n",
       "  </tbody>\n",
       "</table>\n",
       "</div>"
      ],
      "text/plain": [
       "         Store  DayOfWeek        Date  Sales  Customers  Open  Promo  \\\n",
       "382956     860          1  2014-07-28   6506        772     1      1   \n",
       "1015923    944          3  2013-01-02   9470       1560     1      0   \n",
       "397589     463          6  2014-07-12   3973        617     1      0   \n",
       "465081     912          7  2014-05-11      0          0     0      0   \n",
       "529646     807          5  2014-03-14   8360        870     1      0   \n",
       "\n",
       "        StateHoliday  SchoolHoliday StoreType Assortment  CompetitionDistance  \\\n",
       "382956             0              1         c          c               5980.0   \n",
       "1015923            0              1         c          a               1670.0   \n",
       "397589             0              0         a          a               4160.0   \n",
       "465081             0              0         c          c               3100.0   \n",
       "529646             0              0         a          a               3870.0   \n",
       "\n",
       "         CompetitionOpenSinceMonth  CompetitionOpenSinceYear  Promo2  \\\n",
       "382956                         2.0                    2010.0       0   \n",
       "1015923                        7.0                    2015.0       0   \n",
       "397589                         NaN                       NaN       0   \n",
       "465081                         5.0                    2010.0       0   \n",
       "529646                         4.0                    2008.0       0   \n",
       "\n",
       "         Promo2SinceWeek  Promo2SinceYear PromoInterval  \n",
       "382956               NaN              NaN           NaN  \n",
       "1015923              NaN              NaN           NaN  \n",
       "397589               NaN              NaN           NaN  \n",
       "465081               NaN              NaN           NaN  \n",
       "529646               NaN              NaN           NaN  "
      ]
     },
     "execution_count": 3,
     "metadata": {},
     "output_type": "execute_result"
    }
   ],
   "source": [
    "store = pd.read_csv('D:\\\\My Drive\\\\Pessoal\\\\Projetos\\\\store_sales_predict\\\\store.csv', low_memory=False)\n",
    "train = pd.read_csv('D:\\\\My Drive\\\\Pessoal\\\\Projetos\\\\store_sales_predict\\\\train.csv', low_memory=False)\n",
    "test = pd.read_csv('D:\\\\My Drive\\\\Pessoal\\\\Projetos\\\\store_sales_predict\\\\test.csv', low_memory=False)\n",
    "\n",
    "df = pd.merge(train, store, how='left', on='Store')\n",
    "df.sample(5)"
   ]
  },
  {
   "cell_type": "markdown",
   "id": "5318993c",
   "metadata": {
    "ExecuteTime": {
     "end_time": "2022-02-22T17:35:18.052468Z",
     "start_time": "2022-02-22T17:35:14.947090Z"
    },
    "heading_collapsed": true
   },
   "source": [
    "# 1.0 Data Description"
   ]
  },
  {
   "cell_type": "markdown",
   "id": "cd801dda",
   "metadata": {
    "heading_collapsed": true,
    "hidden": true
   },
   "source": [
    "## 1.1 Rename Columns"
   ]
  },
  {
   "cell_type": "code",
   "execution_count": 4,
   "id": "5d979b69",
   "metadata": {
    "ExecuteTime": {
     "end_time": "2022-03-11T02:22:33.586872Z",
     "start_time": "2022-03-11T02:22:33.490954Z"
    },
    "hidden": true
   },
   "outputs": [],
   "source": [
    "# backup df\n",
    "df1 = df.copy()\n",
    "\n",
    "snake_case = lambda x: inflection.underscore(x)\n",
    "\n",
    "cols_old = df1.columns.to_list()\n",
    "cols_new = list(map(snake_case, cols_old))\n",
    "\n",
    "# rename\n",
    "df1.columns = cols_new"
   ]
  },
  {
   "cell_type": "markdown",
   "id": "e74e16bb",
   "metadata": {
    "heading_collapsed": true,
    "hidden": true
   },
   "source": [
    "## 1.2 Data Dimension"
   ]
  },
  {
   "cell_type": "code",
   "execution_count": 5,
   "id": "81e0354c",
   "metadata": {
    "ExecuteTime": {
     "end_time": "2022-03-11T02:22:33.602520Z",
     "start_time": "2022-03-11T02:22:33.589182Z"
    },
    "hidden": true
   },
   "outputs": [
    {
     "name": "stdout",
     "output_type": "stream",
     "text": [
      "Number of rows: 1017209\n",
      "Number of columns: 18\n"
     ]
    }
   ],
   "source": [
    "print(f'Number of rows: {df1.shape[0]}')\n",
    "print(f'Number of columns: {df1.shape[1]}')"
   ]
  },
  {
   "cell_type": "markdown",
   "id": "4ff99a28",
   "metadata": {
    "heading_collapsed": true,
    "hidden": true
   },
   "source": [
    "## 1.3 Data Types"
   ]
  },
  {
   "cell_type": "code",
   "execution_count": 6,
   "id": "4325bb1b",
   "metadata": {
    "ExecuteTime": {
     "end_time": "2022-03-11T02:22:33.626973Z",
     "start_time": "2022-03-11T02:22:33.607094Z"
    },
    "hidden": true,
    "scrolled": true
   },
   "outputs": [
    {
     "data": {
      "text/plain": [
       "store                             int64\n",
       "day_of_week                       int64\n",
       "date                             object\n",
       "sales                             int64\n",
       "customers                         int64\n",
       "open                              int64\n",
       "promo                             int64\n",
       "state_holiday                    object\n",
       "school_holiday                    int64\n",
       "store_type                       object\n",
       "assortment                       object\n",
       "competition_distance            float64\n",
       "competition_open_since_month    float64\n",
       "competition_open_since_year     float64\n",
       "promo2                            int64\n",
       "promo2_since_week               float64\n",
       "promo2_since_year               float64\n",
       "promo_interval                   object\n",
       "dtype: object"
      ]
     },
     "execution_count": 6,
     "metadata": {},
     "output_type": "execute_result"
    }
   ],
   "source": [
    "df1.dtypes"
   ]
  },
  {
   "cell_type": "code",
   "execution_count": 7,
   "id": "14c600c8",
   "metadata": {
    "ExecuteTime": {
     "end_time": "2022-03-11T02:22:33.876420Z",
     "start_time": "2022-03-11T02:22:33.631843Z"
    },
    "hidden": true
   },
   "outputs": [],
   "source": [
    "# changing date datatype\n",
    "df1['date'] = pd.to_datetime(df1['date'])"
   ]
  },
  {
   "cell_type": "markdown",
   "id": "ddc17ac5",
   "metadata": {
    "heading_collapsed": true,
    "hidden": true
   },
   "source": [
    "## 1.4 Check NA"
   ]
  },
  {
   "cell_type": "code",
   "execution_count": 8,
   "id": "7a947061",
   "metadata": {
    "ExecuteTime": {
     "end_time": "2022-03-11T02:22:34.938022Z",
     "start_time": "2022-03-11T02:22:33.876420Z"
    },
    "hidden": true,
    "scrolled": false
   },
   "outputs": [
    {
     "data": {
      "text/plain": [
       "store                                0\n",
       "day_of_week                          0\n",
       "date                                 0\n",
       "sales                                0\n",
       "customers                            0\n",
       "open                                 0\n",
       "promo                                0\n",
       "state_holiday                        0\n",
       "school_holiday                       0\n",
       "store_type                           0\n",
       "assortment                           0\n",
       "competition_distance              2642\n",
       "competition_open_since_month    323348\n",
       "competition_open_since_year     323348\n",
       "promo2                               0\n",
       "promo2_since_week               508031\n",
       "promo2_since_year               508031\n",
       "promo_interval                  508031\n",
       "dtype: int64"
      ]
     },
     "execution_count": 8,
     "metadata": {},
     "output_type": "execute_result"
    }
   ],
   "source": [
    "df1.isna().sum()"
   ]
  },
  {
   "cell_type": "markdown",
   "id": "10eaac79",
   "metadata": {
    "heading_collapsed": true,
    "hidden": true
   },
   "source": [
    "## 1.5 Fillout NA"
   ]
  },
  {
   "cell_type": "code",
   "execution_count": 9,
   "id": "5a804757",
   "metadata": {
    "ExecuteTime": {
     "end_time": "2022-03-11T02:24:59.117343Z",
     "start_time": "2022-03-11T02:22:34.940312Z"
    },
    "hidden": true
   },
   "outputs": [],
   "source": [
    "# competition_distance\n",
    "df1.loc[df1['competition_distance'].isna(), 'competition_distance'] = 200000\n",
    "\n",
    "# competition_open_since_month\n",
    "df1['competition_open_since_month'] = df1.apply(lambda x: x['date'].month if np.isnan(x['competition_open_since_month']) else x['competition_open_since_month'], axis=1) \n",
    "\n",
    "# competition_open_since_year\n",
    "df1['competition_open_since_year'] = df1.apply(lambda x: x['date'].year if np.isnan(x['competition_open_since_year']) else x['competition_open_since_year'], axis=1)\n",
    "\n",
    "# promo2_since_week\n",
    "df1['promo2_since_week'] = df1.apply(lambda x: x['date'].week if np.isnan(x['promo2_since_week']) else x['promo2_since_week'], axis=1)\n",
    "\n",
    "# promo2_since_year\n",
    "df1['promo2_since_year'] = df1.apply(lambda x: x['date'].year if np.isnan(x['promo2_since_year']) else x['promo2_since_year'], axis=1)\n",
    "\n",
    "# promo_interval\n",
    "df1['promo_interval'].fillna(0, inplace=True)\n",
    "month_map = {1: 'Jan', 2: 'Feb', 3: 'Mar', 4: 'Apr', 5: 'May', 6: 'Jun', 7: 'Jul', 8: 'Aug', 9: 'Sept', 10: 'Oct', 11: 'Nov', 12: 'Dec'}\n",
    "df1['month_map'] = df1['date'].dt.month.map(month_map)\n",
    "df1['is_promo'] = df1[['promo_interval', 'month_map']].apply(lambda x: 0 if x['promo_interval'] == 0 else 1 if x['month_map'] in x['promo_interval'].split(',') else 0, axis=1)"
   ]
  },
  {
   "cell_type": "markdown",
   "id": "3c1ec103",
   "metadata": {
    "heading_collapsed": true,
    "hidden": true
   },
   "source": [
    "## 1.6 Change Types"
   ]
  },
  {
   "cell_type": "code",
   "execution_count": 10,
   "id": "f043b8ec",
   "metadata": {
    "ExecuteTime": {
     "end_time": "2022-03-11T02:24:59.297343Z",
     "start_time": "2022-03-11T02:24:59.122629Z"
    },
    "hidden": true
   },
   "outputs": [],
   "source": [
    "backup = df1.copy()"
   ]
  },
  {
   "cell_type": "code",
   "execution_count": 11,
   "id": "842b888f",
   "metadata": {
    "ExecuteTime": {
     "end_time": "2022-03-11T02:24:59.487261Z",
     "start_time": "2022-03-11T02:24:59.299041Z"
    },
    "hidden": true,
    "scrolled": true
   },
   "outputs": [],
   "source": [
    "df1 = backup.copy()\n",
    "df1['competition_open_since_month'] = df1['competition_open_since_month'].astype('int')\n",
    "df1['competition_open_since_year'] = df1['competition_open_since_year'].astype('int')\n",
    "\n",
    "df1['promo2_since_week'] = df1['promo2_since_week'].astype('int')\n",
    "df1['promo2_since_year'] = df1['promo2_since_year'].astype('int')"
   ]
  },
  {
   "cell_type": "markdown",
   "id": "1c9d96a8",
   "metadata": {
    "heading_collapsed": true,
    "hidden": true
   },
   "source": [
    "## 1.7 Descriptive Statistical"
   ]
  },
  {
   "cell_type": "markdown",
   "id": "70bada32",
   "metadata": {
    "heading_collapsed": true,
    "hidden": true
   },
   "source": [
    "### 1.7.1 Classifying Attributes"
   ]
  },
  {
   "cell_type": "code",
   "execution_count": 12,
   "id": "818c2d8a",
   "metadata": {
    "ExecuteTime": {
     "end_time": "2022-03-11T02:25:00.054096Z",
     "start_time": "2022-03-11T02:24:59.487261Z"
    },
    "hidden": true
   },
   "outputs": [],
   "source": [
    "num_attributes = df1[['sales', 'customers', 'competition_distance']]\n",
    "\n",
    "\n",
    "cat_attributes = df1[['open', 'state_holiday', 'school_holiday', 'store_type', 'assortment', 'day_of_week', 'promo', 'promo2', 'is_promo']].astype('category')"
   ]
  },
  {
   "cell_type": "markdown",
   "id": "ed549432",
   "metadata": {
    "heading_collapsed": true,
    "hidden": true
   },
   "source": [
    "### 1.7.2 Numerical Attributes"
   ]
  },
  {
   "cell_type": "code",
   "execution_count": 13,
   "id": "c8b23c49",
   "metadata": {
    "ExecuteTime": {
     "end_time": "2022-03-11T02:25:01.236820Z",
     "start_time": "2022-03-11T02:25:00.057725Z"
    },
    "hidden": true,
    "scrolled": false
   },
   "outputs": [
    {
     "data": {
      "text/html": [
       "<div>\n",
       "<style scoped>\n",
       "    .dataframe tbody tr th:only-of-type {\n",
       "        vertical-align: middle;\n",
       "    }\n",
       "\n",
       "    .dataframe tbody tr th {\n",
       "        vertical-align: top;\n",
       "    }\n",
       "\n",
       "    .dataframe thead th {\n",
       "        text-align: right;\n",
       "    }\n",
       "</style>\n",
       "<table border=\"1\" class=\"dataframe\">\n",
       "  <thead>\n",
       "    <tr style=\"text-align: right;\">\n",
       "      <th></th>\n",
       "      <th>min</th>\n",
       "      <th>max</th>\n",
       "      <th>range</th>\n",
       "      <th>mean</th>\n",
       "      <th>median</th>\n",
       "      <th>std</th>\n",
       "      <th>skew</th>\n",
       "      <th>kurtosis</th>\n",
       "    </tr>\n",
       "  </thead>\n",
       "  <tbody>\n",
       "    <tr>\n",
       "      <th>sales</th>\n",
       "      <td>0.0</td>\n",
       "      <td>41551.0</td>\n",
       "      <td>41551.0</td>\n",
       "      <td>5773.818972</td>\n",
       "      <td>5744.0</td>\n",
       "      <td>3849.924283</td>\n",
       "      <td>0.641460</td>\n",
       "      <td>1.778375</td>\n",
       "    </tr>\n",
       "    <tr>\n",
       "      <th>customers</th>\n",
       "      <td>0.0</td>\n",
       "      <td>7388.0</td>\n",
       "      <td>7388.0</td>\n",
       "      <td>633.145946</td>\n",
       "      <td>609.0</td>\n",
       "      <td>464.411506</td>\n",
       "      <td>1.598650</td>\n",
       "      <td>7.091773</td>\n",
       "    </tr>\n",
       "    <tr>\n",
       "      <th>competition_distance</th>\n",
       "      <td>20.0</td>\n",
       "      <td>200000.0</td>\n",
       "      <td>199980.0</td>\n",
       "      <td>5935.442677</td>\n",
       "      <td>2330.0</td>\n",
       "      <td>12547.646829</td>\n",
       "      <td>10.242344</td>\n",
       "      <td>147.789712</td>\n",
       "    </tr>\n",
       "  </tbody>\n",
       "</table>\n",
       "</div>"
      ],
      "text/plain": [
       "                       min       max     range         mean  median  \\\n",
       "sales                  0.0   41551.0   41551.0  5773.818972  5744.0   \n",
       "customers              0.0    7388.0    7388.0   633.145946   609.0   \n",
       "competition_distance  20.0  200000.0  199980.0  5935.442677  2330.0   \n",
       "\n",
       "                               std       skew    kurtosis  \n",
       "sales                  3849.924283   0.641460    1.778375  \n",
       "customers               464.411506   1.598650    7.091773  \n",
       "competition_distance  12547.646829  10.242344  147.789712  "
      ]
     },
     "execution_count": 13,
     "metadata": {},
     "output_type": "execute_result"
    }
   ],
   "source": [
    "# Central Tendendy - mean, median\n",
    "ct1 = pd.DataFrame(num_attributes.apply(np.mean)).T\n",
    "ct2 = pd.DataFrame(num_attributes.apply(np.median)).T\n",
    "\n",
    "# Dispersion - std, min, max, range, skew, kurtosis\n",
    "d1 = pd.DataFrame(num_attributes.apply(np.std)).T\n",
    "d2 = pd.DataFrame(num_attributes.apply(min)).T\n",
    "d3 = pd.DataFrame(num_attributes.apply(max)).T\n",
    "d4 = pd.DataFrame(num_attributes.apply(lambda x: x.max() - x.min())).T\n",
    "d5 = pd.DataFrame(num_attributes.apply(lambda x: x.skew())).T\n",
    "d6 = pd.DataFrame(num_attributes.apply(lambda x: x.kurtosis())).T\n",
    "\n",
    "m = pd.concat([d2, d3, d4, ct1, ct2, d1, d5, d6]).T\n",
    "m.columns = 'min max range mean median std skew kurtosis'.split()\n",
    "m"
   ]
  },
  {
   "cell_type": "markdown",
   "id": "267ad150",
   "metadata": {
    "hidden": true
   },
   "source": [
    "1. sales: a média e a mediana estão próximas, isso indica uma distribuição centralizada na média, a skew é baixa, o que reforça uma distribuição centralizada na média, indicando uma distribuição próxima a uma normal, a skew é positiva, então tem uma cauda direita um pouco mais pesada, kurtosis próxima de 1, inidica um pico não muito alto. A distribuição deve ser parecida com uma NORMAL.\n",
    "2. customers: a média e a mediana estão prõximas mas com uma diferença de uns 5 porcento, a skew próxima a 1.5 indica um deslocamento da centralização relativamente pequeno, a skew é positiva, então tem uma cauda direita mais pesada, a kurtosis é média, sugerindo um pico relativamente alto. A distribuição pode ser parecida com uma NORMAL.\n",
    "3. competition_distance: a média e a mediana estão bastante distantes, a skew é altíssima, o que sugerem que a média e a mediana estão bastante deslocadas, é a skew é positiva, portanto uma cauda direita bem mais pesada, a kurtosis é altíssima, o que aponta um pico bastante alto, com uma alta concentração, não centralizada na média, distribuição parece uma POISSON."
   ]
  },
  {
   "cell_type": "markdown",
   "id": "cc9d005a",
   "metadata": {
    "heading_collapsed": true,
    "hidden": true
   },
   "source": [
    "### 1.7.3 Categorical Attributes"
   ]
  },
  {
   "cell_type": "code",
   "execution_count": 14,
   "id": "8ea132e2",
   "metadata": {
    "ExecuteTime": {
     "end_time": "2022-03-11T02:25:01.404401Z",
     "start_time": "2022-03-11T02:25:01.242816Z"
    },
    "hidden": true
   },
   "outputs": [
    {
     "data": {
      "text/plain": [
       "open              2\n",
       "state_holiday     4\n",
       "school_holiday    2\n",
       "store_type        4\n",
       "assortment        3\n",
       "day_of_week       7\n",
       "promo             2\n",
       "promo2            2\n",
       "is_promo          2\n",
       "dtype: int64"
      ]
     },
     "execution_count": 14,
     "metadata": {},
     "output_type": "execute_result"
    }
   ],
   "source": [
    "cat_attributes.apply(lambda x: x.nunique())"
   ]
  },
  {
   "cell_type": "code",
   "execution_count": 15,
   "id": "9260021a",
   "metadata": {
    "ExecuteTime": {
     "end_time": "2022-03-11T02:25:06.507662Z",
     "start_time": "2022-03-11T02:25:01.409096Z"
    },
    "hidden": true,
    "hide_input": true,
    "scrolled": false
   },
   "outputs": [
    {
     "data": {
      "image/png": "[encoded data removed]",
      "text/plain": [
       "<Figure size 1440x1440 with 8 Axes>"
      ]
     },
     "metadata": {
      "needs_background": "light"
     },
     "output_type": "display_data"
    }
   ],
   "source": [
    "temp = df1.loc[df1['sales'] > 0]\n",
    "\n",
    "plt.figure(figsize=(20, 20))\n",
    "\n",
    "plt.subplot(2, 4, 1)\n",
    "ax = sns.boxplot(x='day_of_week', y='sales', data=temp)\n",
    "ax.tick_params(bottom=False, labelleft=False, left=False)\n",
    "# ax = sns.despine(left=True)\n",
    "plt.title('day_of_week', fontsize=20)\n",
    "plt.xlabel('')\n",
    "plt.ylabel('')\n",
    "\n",
    "plt.subplot(2, 4, 2)\n",
    "ax = sns.boxplot(x='is_promo', y='sales', data=temp)\n",
    "ax.tick_params(bottom=False, labelleft=False, left=False)\n",
    "# ax = sns.despine(left=True)\n",
    "plt.title('is_promo', fontsize=20)\n",
    "plt.xlabel('')\n",
    "plt.ylabel('')\n",
    "\n",
    "plt.subplot(2, 4, 3)\n",
    "ax = sns.boxplot(x='promo', y='sales', data=temp)\n",
    "ax.tick_params(bottom=False, labelleft=False, left=False)\n",
    "# ax = sns.despine(left=True)\n",
    "plt.title('promo', fontsize=20)\n",
    "plt.xlabel('')\n",
    "plt.ylabel('')\n",
    "\n",
    "plt.subplot(2, 4, 4)\n",
    "ax = sns.boxplot(x='promo2', y='sales', data=temp)\n",
    "ax.tick_params(bottom=False, labelleft=False, left=False)\n",
    "# ax = sns.despine(left=True)\n",
    "plt.title('promo2', fontsize=20)\n",
    "plt.xlabel('')\n",
    "plt.ylabel('')\n",
    "\n",
    "plt.subplot(2, 4, 5)\n",
    "ax = sns.boxplot(x='state_holiday', y='sales', data=temp)\n",
    "ax.tick_params(bottom=False, labelleft=False, left=False)\n",
    "# ax = sns.despine(left=True)\n",
    "plt.title('state_holiday', fontsize=20)\n",
    "plt.xlabel('')\n",
    "plt.ylabel('')\n",
    "\n",
    "plt.subplot(2, 4, 6)\n",
    "ax = sns.boxplot(x='school_holiday', y='sales', data=temp)\n",
    "ax.tick_params(bottom=False, labelleft=False, left=False)\n",
    "# ax = sns.despine(left=True)\n",
    "plt.title('school_holiday', fontsize=20)\n",
    "plt.xlabel('')\n",
    "plt.ylabel('')\n",
    "\n",
    "plt.subplot(2, 4, 7)\n",
    "ax = sns.boxplot(x='store_type', y='sales', data=temp)\n",
    "ax.tick_params(bottom=False, labelleft=False, left=False)\n",
    "# ax = sns.despine(left=True)\n",
    "plt.title('store_type', fontsize=20)\n",
    "plt.xlabel('')\n",
    "plt.ylabel('')\n",
    "\n",
    "plt.subplot(2, 4, 8)\n",
    "ax = sns.boxplot(x='assortment', y='sales', data=temp)\n",
    "ax.tick_params(bottom=False, labelleft=False, left=False)\n",
    "# ax = sns.despine(left=True)\n",
    "plt.title('assortment', fontsize=20)\n",
    "plt.xlabel('')\n",
    "plt.ylabel('');"
   ]
  },
  {
   "cell_type": "markdown",
   "id": "d211472f",
   "metadata": {
    "hidden": true
   },
   "source": [
    "1. domingos têm uma distribuição mais espalhada, com maior variância\n",
    "2. promoções do tipo promo aumentam as vendas\n",
    "4. feriados geram vendas relativamente maiores e com maior variância\n",
    "6. store_type do tipo b claramente têm maiores vendas"
   ]
  },
  {
   "cell_type": "markdown",
   "id": "0852269b",
   "metadata": {},
   "source": [
    "# 2.0 Feature Engineering"
   ]
  },
  {
   "cell_type": "markdown",
   "id": "d39229b0",
   "metadata": {
    "heading_collapsed": true
   },
   "source": [
    "## 2.1 Hypothesis Mindmap"
   ]
  },
  {
   "cell_type": "code",
   "execution_count": 16,
   "id": "4370006e",
   "metadata": {
    "ExecuteTime": {
     "end_time": "2022-03-11T02:25:06.547805Z",
     "start_time": "2022-03-11T02:25:06.509509Z"
    },
    "hidden": true,
    "hide_input": true,
    "scrolled": false
   },
   "outputs": [
    {
     "data": {
      "image/png": "[encoded data removed]",
      "text/plain": [
       "<IPython.core.display.Image object>"
      ]
     },
     "execution_count": 16,
     "metadata": {},
     "output_type": "execute_result"
    }
   ],
   "source": [
    "Image('..\\\\img\\\\mind_map_hypothesis.png')"
   ]
  },
  {
   "cell_type": "markdown",
   "id": "d2ab74bf",
   "metadata": {},
   "source": [
    "## 2.2 Creating Hypothesis List"
   ]
  },
  {
   "cell_type": "markdown",
   "id": "9b77607d",
   "metadata": {},
   "source": [
    "1. Com o passar dos anos, as vendas devem ser maiores.\n",
    "2. Aos feriados, as vendas devem ser maiores.\n",
    "3. As vendas do ultimo trimestre, deveriam ser maiores.\n",
    "4. Aos finais de semana, as vendas deveriam ser maiores.\n",
    "5. A ultima semana do MÊS **(corrigir no mindmap)**, deveria vender **MENOS**.\n",
    "6. Lojas que fazem maior investimento em divulgações, deveriam vender mais.\n",
    "7. Períodos de promoções, deveriam vender mais.\n",
    "9. Lojas com promoções a mais tempo, deveriam vender mais.\n",
    "10. Lojas com melhores estruturas de EXPOSITORES **(corrigir no mindmap)**, deveriam vender mais.\n",
    "11. Lojas com clientes com maiores salários, deveriam vender mais.\n",
    "11. Lojas com uma proporção maior de público feminino, deveriam vender mais.\n",
    "12. Lojas com clientes de faixa etária relativamente maior, deveriam vender mais.\n",
    "13. Lojas com clientes com grupos familiares maiores, deveriam vender mais.\n",
    "14. Produtos com pacotes unitários maiores deveriam promover maiores vendas.\n",
    "15. Produtos com margem de lucro reduzida, deveriam promover maiores vendas.\n",
    "16. Produtos com maiores demandas, deveriam promover maiores vendas.\n",
    "17. Lojas com maior sortimento, deveriam vender mais.\n",
    "18. Lojas com maiores disponibilidades de estoque, deveriam vender mais.\n",
    "19. Lojas localizadas em regiões com maiores salários, deveriam vender mais.\n",
    "20. Lojas com concorrência mais próxima, deveriam vender **MENOS**.\n",
    "21. Lojas com concorrência a mais tempo, deveriam vender mais.\n",
    "22. Lojas de maior porte, deveriam vender mais.\n",
    "23. Lojas com mais colaboradores, deveriam vender mais."
   ]
  },
  {
   "cell_type": "markdown",
   "id": "ac7d6830",
   "metadata": {},
   "source": [
    "## 2.3 Selected Hypothesis"
   ]
  },
  {
   "cell_type": "markdown",
   "id": "3b5105e0",
   "metadata": {},
   "source": [
    "#### H1 Com o passar dos anos, as vendas devem ser maiores."
   ]
  },
  {
   "cell_type": "markdown",
   "id": "82a740b7",
   "metadata": {},
   "source": [
    "#### H2 Aos feriados, as vendas devem ser maiores."
   ]
  },
  {
   "cell_type": "markdown",
   "id": "5481a395",
   "metadata": {},
   "source": [
    "#### H3 As vendas do ultimo trimestre, deveriam ser maiores."
   ]
  },
  {
   "cell_type": "markdown",
   "id": "d3a2bbab",
   "metadata": {},
   "source": [
    "#### H4 Aos finais de semana, as vendas deveriam ser maiores."
   ]
  },
  {
   "cell_type": "markdown",
   "id": "b6ae0aef",
   "metadata": {},
   "source": [
    "#### H5 A ultima semana do MÊS **(corrigir no mindmap)**, deveria vender **MENOS**."
   ]
  },
  {
   "cell_type": "markdown",
   "id": "86b84a38",
   "metadata": {},
   "source": [
    "#### H6 Períodos de promoções, deveriam vender mais."
   ]
  },
  {
   "cell_type": "markdown",
   "id": "60b19345",
   "metadata": {},
   "source": [
    "#### H7 Lojas com promoções a mais tempo, deveriam vender mais."
   ]
  },
  {
   "cell_type": "markdown",
   "id": "ddb3c9b1",
   "metadata": {},
   "source": [
    "#### H8 Lojas com maior sortimento, deveriam vender mais."
   ]
  },
  {
   "cell_type": "markdown",
   "id": "78a716c9",
   "metadata": {},
   "source": [
    "#### H9 Lojas com concorrência mais próxima, deveriam vender **MENOS**."
   ]
  },
  {
   "cell_type": "markdown",
   "id": "12651bf6",
   "metadata": {},
   "source": [
    "#### H10 Lojas com concorrência a mais tempo, deveriam vender mais."
   ]
  },
  {
   "cell_type": "markdown",
   "id": "4b85ad06",
   "metadata": {},
   "source": [
    "## 2.4 Creating Features"
   ]
  },
  {
   "cell_type": "code",
   "execution_count": 18,
   "id": "90429eb7",
   "metadata": {
    "ExecuteTime": {
     "end_time": "2022-03-11T02:33:10.567732Z",
     "start_time": "2022-03-11T02:33:10.547804Z"
    }
   },
   "outputs": [],
   "source": [
    "# year\n",
    "# quarters\n",
    "# weekends\n",
    "# last_week\n",
    "# promo_since\n",
    "# competition_since"
   ]
  }
 ],
 "metadata": {
  "kernelspec": {
   "display_name": "Python 3 (ipykernel)",
   "language": "python",
   "name": "python3"
  },
  "language_info": {
   "codemirror_mode": {
    "name": "ipython",
    "version": 3
   },
   "file_extension": ".py",
   "mimetype": "text/x-python",
   "name": "python",
   "nbconvert_exporter": "python",
   "pygments_lexer": "ipython3",
   "version": "3.9.7"
  }
 },
 "nbformat": 4,
 "nbformat_minor": 5
}
